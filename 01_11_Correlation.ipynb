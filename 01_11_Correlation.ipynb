{
 "cells": [
  {
   "cell_type": "markdown",
   "metadata": {},
   "source": [
    "# Корреляция"
   ]
  },
  {
   "cell_type": "code",
   "execution_count": 1,
   "metadata": {},
   "outputs": [
    {
     "data": {
      "text/html": [
       "<div>\n",
       "<style scoped>\n",
       "    .dataframe tbody tr th:only-of-type {\n",
       "        vertical-align: middle;\n",
       "    }\n",
       "\n",
       "    .dataframe tbody tr th {\n",
       "        vertical-align: top;\n",
       "    }\n",
       "\n",
       "    .dataframe thead th {\n",
       "        text-align: right;\n",
       "    }\n",
       "</style>\n",
       "<table border=\"1\" class=\"dataframe\">\n",
       "  <thead>\n",
       "    <tr style=\"text-align: right;\">\n",
       "      <th></th>\n",
       "      <th>Date</th>\n",
       "      <th>Hour</th>\n",
       "      <th>Temperature</th>\n",
       "      <th>Humidity</th>\n",
       "      <th>Wind speed</th>\n",
       "      <th>Rainfall</th>\n",
       "      <th>Snowfall</th>\n",
       "      <th>Seasons</th>\n",
       "      <th>Holiday</th>\n",
       "      <th>Functioning Day</th>\n",
       "      <th>Rental Count</th>\n",
       "      <th>Normal Humidity</th>\n",
       "      <th>Temperature Category</th>\n",
       "      <th>Good Weather</th>\n",
       "    </tr>\n",
       "  </thead>\n",
       "  <tbody>\n",
       "    <tr>\n",
       "      <th>0</th>\n",
       "      <td>2017-12-01</td>\n",
       "      <td>0</td>\n",
       "      <td>-5.2</td>\n",
       "      <td>37</td>\n",
       "      <td>2.2</td>\n",
       "      <td>0.0</td>\n",
       "      <td>0.0</td>\n",
       "      <td>Winter</td>\n",
       "      <td>0</td>\n",
       "      <td>True</td>\n",
       "      <td>257</td>\n",
       "      <td>0</td>\n",
       "      <td>Freezing</td>\n",
       "      <td>0</td>\n",
       "    </tr>\n",
       "    <tr>\n",
       "      <th>1</th>\n",
       "      <td>2017-12-01</td>\n",
       "      <td>1</td>\n",
       "      <td>-5.5</td>\n",
       "      <td>38</td>\n",
       "      <td>0.8</td>\n",
       "      <td>0.0</td>\n",
       "      <td>0.0</td>\n",
       "      <td>Winter</td>\n",
       "      <td>0</td>\n",
       "      <td>True</td>\n",
       "      <td>219</td>\n",
       "      <td>0</td>\n",
       "      <td>Freezing</td>\n",
       "      <td>0</td>\n",
       "    </tr>\n",
       "    <tr>\n",
       "      <th>2</th>\n",
       "      <td>2017-12-01</td>\n",
       "      <td>2</td>\n",
       "      <td>-6.0</td>\n",
       "      <td>39</td>\n",
       "      <td>1.0</td>\n",
       "      <td>0.0</td>\n",
       "      <td>0.0</td>\n",
       "      <td>Winter</td>\n",
       "      <td>0</td>\n",
       "      <td>True</td>\n",
       "      <td>162</td>\n",
       "      <td>0</td>\n",
       "      <td>Freezing</td>\n",
       "      <td>0</td>\n",
       "    </tr>\n",
       "  </tbody>\n",
       "</table>\n",
       "</div>"
      ],
      "text/plain": [
       "        Date  Hour  Temperature  Humidity  Wind speed  Rainfall  Snowfall  \\\n",
       "0 2017-12-01     0         -5.2        37         2.2       0.0       0.0   \n",
       "1 2017-12-01     1         -5.5        38         0.8       0.0       0.0   \n",
       "2 2017-12-01     2         -6.0        39         1.0       0.0       0.0   \n",
       "\n",
       "  Seasons  Holiday  Functioning Day  Rental Count  Normal Humidity  \\\n",
       "0  Winter        0             True           257                0   \n",
       "1  Winter        0             True           219                0   \n",
       "2  Winter        0             True           162                0   \n",
       "\n",
       "  Temperature Category  Good Weather  \n",
       "0             Freezing             0  \n",
       "1             Freezing             0  \n",
       "2             Freezing             0  "
      ]
     },
     "execution_count": 1,
     "metadata": {},
     "output_type": "execute_result"
    }
   ],
   "source": [
    "import pandas as pd\n",
    "import warnings\n",
    "import numpy as np\n",
    "warnings.filterwarnings('ignore')\n",
    "bikes = pd.read_pickle('Data/BikesDataImputed.pkl')\n",
    "bikes.head(n=3)"
   ]
  },
  {
   "cell_type": "code",
   "execution_count": 2,
   "metadata": {},
   "outputs": [],
   "source": [
    "# Сгруппироем данные по неделям\n",
    "\n",
    "bikes_week = bikes \\\n",
    "    .groupby(bikes['Date'].dt.isocalendar().week) \\\n",
    "    .agg({'Temperature': 'mean', 'Rental Count': 'sum'})"
   ]
  },
  {
   "cell_type": "code",
   "execution_count": 3,
   "metadata": {},
   "outputs": [],
   "source": [
    "# Сначала делаем расчеты на примере\n",
    "first_five = bikes_week.iloc[:5]"
   ]
  },
  {
   "cell_type": "code",
   "execution_count": 4,
   "metadata": {},
   "outputs": [],
   "source": [
    "first_five['X - Mx'] = first_five['Temperature'] - first_five['Temperature'].mean()\n",
    "first_five['Y - My'] = first_five['Rental Count'] - first_five['Rental Count'].mean()"
   ]
  },
  {
   "cell_type": "code",
   "execution_count": 5,
   "metadata": {},
   "outputs": [
    {
     "data": {
      "text/html": [
       "<div>\n",
       "<style scoped>\n",
       "    .dataframe tbody tr th:only-of-type {\n",
       "        vertical-align: middle;\n",
       "    }\n",
       "\n",
       "    .dataframe tbody tr th {\n",
       "        vertical-align: top;\n",
       "    }\n",
       "\n",
       "    .dataframe thead th {\n",
       "        text-align: right;\n",
       "    }\n",
       "</style>\n",
       "<table border=\"1\" class=\"dataframe\">\n",
       "  <thead>\n",
       "    <tr style=\"text-align: right;\">\n",
       "      <th></th>\n",
       "      <th>Temperature</th>\n",
       "      <th>Rental Count</th>\n",
       "      <th>X - Mx</th>\n",
       "      <th>Y - My</th>\n",
       "    </tr>\n",
       "    <tr>\n",
       "      <th>week</th>\n",
       "      <th></th>\n",
       "      <th></th>\n",
       "      <th></th>\n",
       "      <th></th>\n",
       "    </tr>\n",
       "  </thead>\n",
       "  <tbody>\n",
       "    <tr>\n",
       "      <th>1</th>\n",
       "      <td>-2.694940</td>\n",
       "      <td>39441</td>\n",
       "      <td>1.465357</td>\n",
       "      <td>6641.2</td>\n",
       "    </tr>\n",
       "    <tr>\n",
       "      <th>2</th>\n",
       "      <td>-5.079762</td>\n",
       "      <td>30871</td>\n",
       "      <td>-0.919464</td>\n",
       "      <td>-1928.8</td>\n",
       "    </tr>\n",
       "    <tr>\n",
       "      <th>3</th>\n",
       "      <td>2.662500</td>\n",
       "      <td>42193</td>\n",
       "      <td>6.822798</td>\n",
       "      <td>9393.2</td>\n",
       "    </tr>\n",
       "    <tr>\n",
       "      <th>4</th>\n",
       "      <td>-10.038690</td>\n",
       "      <td>23079</td>\n",
       "      <td>-5.878393</td>\n",
       "      <td>-9720.8</td>\n",
       "    </tr>\n",
       "    <tr>\n",
       "      <th>5</th>\n",
       "      <td>-5.650595</td>\n",
       "      <td>28415</td>\n",
       "      <td>-1.490298</td>\n",
       "      <td>-4384.8</td>\n",
       "    </tr>\n",
       "  </tbody>\n",
       "</table>\n",
       "</div>"
      ],
      "text/plain": [
       "      Temperature  Rental Count    X - Mx  Y - My\n",
       "week                                             \n",
       "1       -2.694940         39441  1.465357  6641.2\n",
       "2       -5.079762         30871 -0.919464 -1928.8\n",
       "3        2.662500         42193  6.822798  9393.2\n",
       "4      -10.038690         23079 -5.878393 -9720.8\n",
       "5       -5.650595         28415 -1.490298 -4384.8"
      ]
     },
     "execution_count": 5,
     "metadata": {},
     "output_type": "execute_result"
    }
   ],
   "source": [
    "first_five"
   ]
  },
  {
   "cell_type": "code",
   "execution_count": 6,
   "metadata": {},
   "outputs": [
    {
     "name": "stdout",
     "output_type": "stream",
     "text": [
      "SSx = 86.31974305555556\n",
      "SSy = 249778436.8\n",
      "SP = 139270.43345238097\n"
     ]
    }
   ],
   "source": [
    "# Находим суммы квадратов\n",
    "\n",
    "SSx = (first_five['X - Mx']**2).sum()\n",
    "SSy = (first_five['Y - My']**2).sum()\n",
    "SP = (first_five['X - Mx'] * first_five['Y - My']).sum()\n",
    "print(f'SSx = {SSx}\\nSSy = {SSy}\\nSP = {SP}')"
   ]
  },
  {
   "cell_type": "code",
   "execution_count": 7,
   "metadata": {},
   "outputs": [
    {
     "name": "stdout",
     "output_type": "stream",
     "text": [
      "0.9484760874616524\n"
     ]
    }
   ],
   "source": [
    "r = SP / np.sqrt(SSx * SSy)\n",
    "print(r)"
   ]
  },
  {
   "cell_type": "code",
   "execution_count": 8,
   "metadata": {},
   "outputs": [
    {
     "data": {
      "text/plain": [
       "0.9484760874616526"
      ]
     },
     "execution_count": 8,
     "metadata": {},
     "output_type": "execute_result"
    }
   ],
   "source": [
    "first_five['Temperature'].corr(first_five['Rental Count'])"
   ]
  },
  {
   "cell_type": "code",
   "execution_count": 9,
   "metadata": {},
   "outputs": [
    {
     "data": {
      "text/plain": [
       "0.9484760874616526"
      ]
     },
     "execution_count": 9,
     "metadata": {},
     "output_type": "execute_result"
    }
   ],
   "source": [
    "# Коэффициент корреляции через Numpy\n",
    "\n",
    "np.corrcoef(first_five['Temperature'], first_five['Rental Count'])[0][1]"
   ]
  },
  {
   "cell_type": "code",
   "execution_count": 10,
   "metadata": {},
   "outputs": [
    {
     "data": {
      "text/plain": [
       "0.8458075200534891"
      ]
     },
     "execution_count": 10,
     "metadata": {},
     "output_type": "execute_result"
    }
   ],
   "source": [
    "# Коэффициент корреляции через Pandas\n",
    "\n",
    "bikes_week['Temperature'].corr(bikes_week['Rental Count'])"
   ]
  },
  {
   "cell_type": "code",
   "execution_count": 11,
   "metadata": {},
   "outputs": [
    {
     "data": {
      "image/png": "[encoded data removed]",
      "text/plain": [
       "<Figure size 432x288 with 1 Axes>"
      ]
     },
     "metadata": {
      "needs_background": "light"
     },
     "output_type": "display_data"
    }
   ],
   "source": [
    "bikes_week.plot('Temperature','Rental Count', kind='scatter');"
   ]
  },
  {
   "cell_type": "code",
   "execution_count": 12,
   "metadata": {},
   "outputs": [
    {
     "data": {
      "text/html": [
       "<div>\n",
       "<style scoped>\n",
       "    .dataframe tbody tr th:only-of-type {\n",
       "        vertical-align: middle;\n",
       "    }\n",
       "\n",
       "    .dataframe tbody tr th {\n",
       "        vertical-align: top;\n",
       "    }\n",
       "\n",
       "    .dataframe thead th {\n",
       "        text-align: right;\n",
       "    }\n",
       "</style>\n",
       "<table border=\"1\" class=\"dataframe\">\n",
       "  <thead>\n",
       "    <tr style=\"text-align: right;\">\n",
       "      <th></th>\n",
       "      <th>Hour</th>\n",
       "      <th>Temperature</th>\n",
       "      <th>Humidity</th>\n",
       "      <th>Wind speed</th>\n",
       "      <th>Rainfall</th>\n",
       "      <th>Snowfall</th>\n",
       "      <th>Holiday</th>\n",
       "      <th>Functioning Day</th>\n",
       "      <th>Rental Count</th>\n",
       "      <th>Normal Humidity</th>\n",
       "      <th>Good Weather</th>\n",
       "    </tr>\n",
       "  </thead>\n",
       "  <tbody>\n",
       "    <tr>\n",
       "      <th>Hour</th>\n",
       "      <td>1.000000e+00</td>\n",
       "      <td>0.123610</td>\n",
       "      <td>-0.241644</td>\n",
       "      <td>0.285197</td>\n",
       "      <td>0.008715</td>\n",
       "      <td>-0.021516</td>\n",
       "      <td>-1.391486e-16</td>\n",
       "      <td>0.005439</td>\n",
       "      <td>0.345622</td>\n",
       "      <td>0.107503</td>\n",
       "      <td>0.073698</td>\n",
       "    </tr>\n",
       "    <tr>\n",
       "      <th>Temperature</th>\n",
       "      <td>1.236105e-01</td>\n",
       "      <td>1.000000</td>\n",
       "      <td>0.159793</td>\n",
       "      <td>-0.036418</td>\n",
       "      <td>0.050758</td>\n",
       "      <td>-0.217846</td>\n",
       "      <td>-5.570102e-02</td>\n",
       "      <td>-0.049849</td>\n",
       "      <td>0.454749</td>\n",
       "      <td>0.025467</td>\n",
       "      <td>0.206979</td>\n",
       "    </tr>\n",
       "    <tr>\n",
       "      <th>Humidity</th>\n",
       "      <td>-2.416438e-01</td>\n",
       "      <td>0.159793</td>\n",
       "      <td>1.000000</td>\n",
       "      <td>-0.336683</td>\n",
       "      <td>0.236397</td>\n",
       "      <td>0.108183</td>\n",
       "      <td>-5.027765e-02</td>\n",
       "      <td>-0.020800</td>\n",
       "      <td>-0.169085</td>\n",
       "      <td>-0.285947</td>\n",
       "      <td>-0.115874</td>\n",
       "    </tr>\n",
       "    <tr>\n",
       "      <th>Wind speed</th>\n",
       "      <td>2.851967e-01</td>\n",
       "      <td>-0.036418</td>\n",
       "      <td>-0.336683</td>\n",
       "      <td>1.000000</td>\n",
       "      <td>-0.019674</td>\n",
       "      <td>-0.003554</td>\n",
       "      <td>2.301677e-02</td>\n",
       "      <td>0.005037</td>\n",
       "      <td>0.097583</td>\n",
       "      <td>0.074964</td>\n",
       "      <td>0.032127</td>\n",
       "    </tr>\n",
       "    <tr>\n",
       "      <th>Rainfall</th>\n",
       "      <td>8.714642e-03</td>\n",
       "      <td>0.050758</td>\n",
       "      <td>0.236397</td>\n",
       "      <td>-0.019674</td>\n",
       "      <td>1.000000</td>\n",
       "      <td>0.008500</td>\n",
       "      <td>-1.426911e-02</td>\n",
       "      <td>0.002055</td>\n",
       "      <td>-0.103519</td>\n",
       "      <td>-0.095339</td>\n",
       "      <td>-0.042127</td>\n",
       "    </tr>\n",
       "    <tr>\n",
       "      <th>Snowfall</th>\n",
       "      <td>-2.151645e-02</td>\n",
       "      <td>-0.217846</td>\n",
       "      <td>0.108183</td>\n",
       "      <td>-0.003554</td>\n",
       "      <td>0.008500</td>\n",
       "      <td>1.000000</td>\n",
       "      <td>-1.259072e-02</td>\n",
       "      <td>0.032089</td>\n",
       "      <td>-0.120869</td>\n",
       "      <td>-0.067939</td>\n",
       "      <td>-0.054942</td>\n",
       "    </tr>\n",
       "    <tr>\n",
       "      <th>Holiday</th>\n",
       "      <td>-1.391486e-16</td>\n",
       "      <td>-0.055701</td>\n",
       "      <td>-0.050278</td>\n",
       "      <td>0.023017</td>\n",
       "      <td>-0.014269</td>\n",
       "      <td>-0.012591</td>\n",
       "      <td>1.000000e+00</td>\n",
       "      <td>-0.027624</td>\n",
       "      <td>-0.068822</td>\n",
       "      <td>-0.020156</td>\n",
       "      <td>0.029008</td>\n",
       "    </tr>\n",
       "    <tr>\n",
       "      <th>Functioning Day</th>\n",
       "      <td>5.439377e-03</td>\n",
       "      <td>-0.049849</td>\n",
       "      <td>-0.020800</td>\n",
       "      <td>0.005037</td>\n",
       "      <td>0.002055</td>\n",
       "      <td>0.032089</td>\n",
       "      <td>-2.762445e-02</td>\n",
       "      <td>1.000000</td>\n",
       "      <td>0.173437</td>\n",
       "      <td>0.002488</td>\n",
       "      <td>-0.101806</td>\n",
       "    </tr>\n",
       "    <tr>\n",
       "      <th>Rental Count</th>\n",
       "      <td>3.456218e-01</td>\n",
       "      <td>0.454749</td>\n",
       "      <td>-0.169085</td>\n",
       "      <td>0.097583</td>\n",
       "      <td>-0.103519</td>\n",
       "      <td>-0.120869</td>\n",
       "      <td>-6.882160e-02</td>\n",
       "      <td>0.173437</td>\n",
       "      <td>1.000000</td>\n",
       "      <td>0.128521</td>\n",
       "      <td>0.194224</td>\n",
       "    </tr>\n",
       "    <tr>\n",
       "      <th>Normal Humidity</th>\n",
       "      <td>1.075026e-01</td>\n",
       "      <td>0.025467</td>\n",
       "      <td>-0.285947</td>\n",
       "      <td>0.074964</td>\n",
       "      <td>-0.095339</td>\n",
       "      <td>-0.067939</td>\n",
       "      <td>-2.015629e-02</td>\n",
       "      <td>0.002488</td>\n",
       "      <td>0.128521</td>\n",
       "      <td>1.000000</td>\n",
       "      <td>0.440102</td>\n",
       "    </tr>\n",
       "    <tr>\n",
       "      <th>Good Weather</th>\n",
       "      <td>7.369784e-02</td>\n",
       "      <td>0.206979</td>\n",
       "      <td>-0.115874</td>\n",
       "      <td>0.032127</td>\n",
       "      <td>-0.042127</td>\n",
       "      <td>-0.054942</td>\n",
       "      <td>2.900771e-02</td>\n",
       "      <td>-0.101806</td>\n",
       "      <td>0.194224</td>\n",
       "      <td>0.440102</td>\n",
       "      <td>1.000000</td>\n",
       "    </tr>\n",
       "  </tbody>\n",
       "</table>\n",
       "</div>"
      ],
      "text/plain": [
       "                         Hour  Temperature  Humidity  Wind speed  Rainfall  \\\n",
       "Hour             1.000000e+00     0.123610 -0.241644    0.285197  0.008715   \n",
       "Temperature      1.236105e-01     1.000000  0.159793   -0.036418  0.050758   \n",
       "Humidity        -2.416438e-01     0.159793  1.000000   -0.336683  0.236397   \n",
       "Wind speed       2.851967e-01    -0.036418 -0.336683    1.000000 -0.019674   \n",
       "Rainfall         8.714642e-03     0.050758  0.236397   -0.019674  1.000000   \n",
       "Snowfall        -2.151645e-02    -0.217846  0.108183   -0.003554  0.008500   \n",
       "Holiday         -1.391486e-16    -0.055701 -0.050278    0.023017 -0.014269   \n",
       "Functioning Day  5.439377e-03    -0.049849 -0.020800    0.005037  0.002055   \n",
       "Rental Count     3.456218e-01     0.454749 -0.169085    0.097583 -0.103519   \n",
       "Normal Humidity  1.075026e-01     0.025467 -0.285947    0.074964 -0.095339   \n",
       "Good Weather     7.369784e-02     0.206979 -0.115874    0.032127 -0.042127   \n",
       "\n",
       "                 Snowfall       Holiday  Functioning Day  Rental Count  \\\n",
       "Hour            -0.021516 -1.391486e-16         0.005439      0.345622   \n",
       "Temperature     -0.217846 -5.570102e-02        -0.049849      0.454749   \n",
       "Humidity         0.108183 -5.027765e-02        -0.020800     -0.169085   \n",
       "Wind speed      -0.003554  2.301677e-02         0.005037      0.097583   \n",
       "Rainfall         0.008500 -1.426911e-02         0.002055     -0.103519   \n",
       "Snowfall         1.000000 -1.259072e-02         0.032089     -0.120869   \n",
       "Holiday         -0.012591  1.000000e+00        -0.027624     -0.068822   \n",
       "Functioning Day  0.032089 -2.762445e-02         1.000000      0.173437   \n",
       "Rental Count    -0.120869 -6.882160e-02         0.173437      1.000000   \n",
       "Normal Humidity -0.067939 -2.015629e-02         0.002488      0.128521   \n",
       "Good Weather    -0.054942  2.900771e-02        -0.101806      0.194224   \n",
       "\n",
       "                 Normal Humidity  Good Weather  \n",
       "Hour                    0.107503      0.073698  \n",
       "Temperature             0.025467      0.206979  \n",
       "Humidity               -0.285947     -0.115874  \n",
       "Wind speed              0.074964      0.032127  \n",
       "Rainfall               -0.095339     -0.042127  \n",
       "Snowfall               -0.067939     -0.054942  \n",
       "Holiday                -0.020156      0.029008  \n",
       "Functioning Day         0.002488     -0.101806  \n",
       "Rental Count            0.128521      0.194224  \n",
       "Normal Humidity         1.000000      0.440102  \n",
       "Good Weather            0.440102      1.000000  "
      ]
     },
     "execution_count": 12,
     "metadata": {},
     "output_type": "execute_result"
    }
   ],
   "source": [
    "bikes.corr()"
   ]
  },
  {
   "cell_type": "code",
   "execution_count": 6,
   "metadata": {},
   "outputs": [],
   "source": [
    "bikes_week = bikes.groupby(by=bikes['Date'].dt.isocalendar().week).agg({'Temperature': 'mean', \n",
    "                                                                        'Rental Count': 'sum',\n",
    "                                                                        'Humidity': 'mean',\n",
    "                                                                        'Wind speed': 'mean',\n",
    "                                                                       })"
   ]
  },
  {
   "cell_type": "code",
   "execution_count": 7,
   "metadata": {},
   "outputs": [
    {
     "data": {
      "text/html": [
       "<style type=\"text/css\">\n",
       "#T_15dc8_row1_col1, #T_15dc8_row2_col2, #T_15dc8_row3_col3 {\n",
       "  background: red;\n",
       "}\n",
       "</style>\n",
       "<table id=\"T_15dc8\">\n",
       "  <thead>\n",
       "    <tr>\n",
       "      <th class=\"blank level0\" >&nbsp;</th>\n",
       "      <th id=\"T_15dc8_level0_col0\" class=\"col_heading level0 col0\" >Temperature</th>\n",
       "      <th id=\"T_15dc8_level0_col1\" class=\"col_heading level0 col1\" >Rental Count</th>\n",
       "      <th id=\"T_15dc8_level0_col2\" class=\"col_heading level0 col2\" >Humidity</th>\n",
       "      <th id=\"T_15dc8_level0_col3\" class=\"col_heading level0 col3\" >Wind speed</th>\n",
       "    </tr>\n",
       "  </thead>\n",
       "  <tbody>\n",
       "    <tr>\n",
       "      <th id=\"T_15dc8_level0_row0\" class=\"row_heading level0 row0\" >Temperature</th>\n",
       "      <td id=\"T_15dc8_row0_col0\" class=\"data row0 col0\" >1.000000</td>\n",
       "      <td id=\"T_15dc8_row0_col1\" class=\"data row0 col1\" >0.845808</td>\n",
       "      <td id=\"T_15dc8_row0_col2\" class=\"data row0 col2\" >0.584642</td>\n",
       "      <td id=\"T_15dc8_row0_col3\" class=\"data row0 col3\" >-0.420474</td>\n",
       "    </tr>\n",
       "    <tr>\n",
       "      <th id=\"T_15dc8_level0_row1\" class=\"row_heading level0 row1\" >Rental Count</th>\n",
       "      <td id=\"T_15dc8_row1_col0\" class=\"data row1 col0\" >0.845808</td>\n",
       "      <td id=\"T_15dc8_row1_col1\" class=\"data row1 col1\" >1.000000</td>\n",
       "      <td id=\"T_15dc8_row1_col2\" class=\"data row1 col2\" >0.389963</td>\n",
       "      <td id=\"T_15dc8_row1_col3\" class=\"data row1 col3\" >-0.434142</td>\n",
       "    </tr>\n",
       "    <tr>\n",
       "      <th id=\"T_15dc8_level0_row2\" class=\"row_heading level0 row2\" >Humidity</th>\n",
       "      <td id=\"T_15dc8_row2_col0\" class=\"data row2 col0\" >0.584642</td>\n",
       "      <td id=\"T_15dc8_row2_col1\" class=\"data row2 col1\" >0.389963</td>\n",
       "      <td id=\"T_15dc8_row2_col2\" class=\"data row2 col2\" >1.000000</td>\n",
       "      <td id=\"T_15dc8_row2_col3\" class=\"data row2 col3\" >-0.456225</td>\n",
       "    </tr>\n",
       "    <tr>\n",
       "      <th id=\"T_15dc8_level0_row3\" class=\"row_heading level0 row3\" >Wind speed</th>\n",
       "      <td id=\"T_15dc8_row3_col0\" class=\"data row3 col0\" >-0.420474</td>\n",
       "      <td id=\"T_15dc8_row3_col1\" class=\"data row3 col1\" >-0.434142</td>\n",
       "      <td id=\"T_15dc8_row3_col2\" class=\"data row3 col2\" >-0.456225</td>\n",
       "      <td id=\"T_15dc8_row3_col3\" class=\"data row3 col3\" >1.000000</td>\n",
       "    </tr>\n",
       "  </tbody>\n",
       "</table>\n"
      ],
      "text/plain": [
       "<pandas.io.formats.style.Styler at 0x2cd71cad400>"
      ]
     },
     "execution_count": 7,
     "metadata": {},
     "output_type": "execute_result"
    }
   ],
   "source": [
    "bikes_week.corr().style.apply(lambda x: [\"background: red\" if (v > x.iloc[0]) else \"\" for v in x], axis = 1)"
   ]
  },
  {
   "cell_type": "code",
   "execution_count": 8,
   "metadata": {},
   "outputs": [
    {
     "data": {
      "text/plain": [
       "Rental Count    1.000000\n",
       "Temperature     0.845808\n",
       "Humidity        0.389963\n",
       "Wind speed     -0.434142\n",
       "Name: Rental Count, dtype: float64"
      ]
     },
     "execution_count": 8,
     "metadata": {},
     "output_type": "execute_result"
    }
   ],
   "source": [
    "bikes_week.corr()['Rental Count'].sort_values(ascending=False)"
   ]
  },
  {
   "cell_type": "code",
   "execution_count": 9,
   "metadata": {},
   "outputs": [
    {
     "data": {
      "image/png": "[encoded data removed]",
      "text/plain": [
       "<Figure size 432x288 with 1 Axes>"
      ]
     },
     "metadata": {
      "needs_background": "light"
     },
     "output_type": "display_data"
    }
   ],
   "source": [
    "bikes_week.plot('Humidity','Rental Count', kind='scatter');"
   ]
  },
  {
   "cell_type": "code",
   "execution_count": 12,
   "metadata": {},
   "outputs": [
    {
     "data": {
      "text/plain": [
       "Temperature    0.845808\n",
       "Wind speed     0.434142\n",
       "Humidity       0.389963\n",
       "Name: Rental Count, dtype: float64"
      ]
     },
     "execution_count": 12,
     "metadata": {},
     "output_type": "execute_result"
    }
   ],
   "source": [
    "# Примедем значения к числам по модулю\n",
    "\n",
    "bikes_week.corr()['Rental Count'].apply(np.abs).sort_values(ascending=False)[1:]\n",
    "# bikes_week.corr()['Rental Count'].abs().sort_values(ascending=False)"
   ]
  },
  {
   "cell_type": "code",
   "execution_count": 19,
   "metadata": {},
   "outputs": [
    {
     "data": {
      "text/html": [
       "<div>\n",
       "<style scoped>\n",
       "    .dataframe tbody tr th:only-of-type {\n",
       "        vertical-align: middle;\n",
       "    }\n",
       "\n",
       "    .dataframe tbody tr th {\n",
       "        vertical-align: top;\n",
       "    }\n",
       "\n",
       "    .dataframe thead th {\n",
       "        text-align: right;\n",
       "    }\n",
       "</style>\n",
       "<table border=\"1\" class=\"dataframe\">\n",
       "  <thead>\n",
       "    <tr style=\"text-align: right;\">\n",
       "      <th></th>\n",
       "      <th>col_0</th>\n",
       "      <th>col_1</th>\n",
       "      <th>corr_foef</th>\n",
       "    </tr>\n",
       "  </thead>\n",
       "  <tbody>\n",
       "    <tr>\n",
       "      <th>1</th>\n",
       "      <td>Temperature</td>\n",
       "      <td>Rental Count</td>\n",
       "      <td>0.845808</td>\n",
       "    </tr>\n",
       "    <tr>\n",
       "      <th>2</th>\n",
       "      <td>Temperature</td>\n",
       "      <td>Humidity</td>\n",
       "      <td>0.584642</td>\n",
       "    </tr>\n",
       "    <tr>\n",
       "      <th>11</th>\n",
       "      <td>Humidity</td>\n",
       "      <td>Wind speed</td>\n",
       "      <td>0.456225</td>\n",
       "    </tr>\n",
       "    <tr>\n",
       "      <th>7</th>\n",
       "      <td>Rental Count</td>\n",
       "      <td>Wind speed</td>\n",
       "      <td>0.434142</td>\n",
       "    </tr>\n",
       "    <tr>\n",
       "      <th>3</th>\n",
       "      <td>Temperature</td>\n",
       "      <td>Wind speed</td>\n",
       "      <td>0.420474</td>\n",
       "    </tr>\n",
       "    <tr>\n",
       "      <th>6</th>\n",
       "      <td>Rental Count</td>\n",
       "      <td>Humidity</td>\n",
       "      <td>0.389963</td>\n",
       "    </tr>\n",
       "  </tbody>\n",
       "</table>\n",
       "</div>"
      ],
      "text/plain": [
       "           col_0         col_1  corr_foef\n",
       "1    Temperature  Rental Count   0.845808\n",
       "2    Temperature      Humidity   0.584642\n",
       "11      Humidity    Wind speed   0.456225\n",
       "7   Rental Count    Wind speed   0.434142\n",
       "3    Temperature    Wind speed   0.420474\n",
       "6   Rental Count      Humidity   0.389963"
      ]
     },
     "execution_count": 19,
     "metadata": {},
     "output_type": "execute_result"
    }
   ],
   "source": [
    "corr = bikes_week.corr().abs()\n",
    "corr = corr.unstack().reset_index()\n",
    "corr.columns = ['col_0', 'col_1', 'corr_foef']\n",
    "corr = corr.query('corr_foef < 1').drop_duplicates(subset='corr_foef')\n",
    "\n",
    "corr.sort_values('corr_foef', ascending=False)"
   ]
  },
  {
   "cell_type": "code",
   "execution_count": null,
   "metadata": {},
   "outputs": [],
   "source": []
  }
 ],
 "metadata": {
  "hide_input": false,
  "kernelspec": {
   "display_name": "Python 3 (ipykernel)",
   "language": "python",
   "name": "python3"
  },
  "language_info": {
   "codemirror_mode": {
    "name": "ipython",
    "version": 3
   },
   "file_extension": ".py",
   "mimetype": "text/x-python",
   "name": "python",
   "nbconvert_exporter": "python",
   "pygments_lexer": "ipython3",
   "version": "3.9.7"
  },
  "toc": {
   "base_numbering": 1,
   "nav_menu": {},
   "number_sections": true,
   "sideBar": true,
   "skip_h1_title": false,
   "title_cell": "Table of Contents",
   "title_sidebar": "Contents",
   "toc_cell": false,
   "toc_position": {},
   "toc_section_display": true,
   "toc_window_display": false
  },
  "varInspector": {
   "cols": {
    "lenName": 16,
    "lenType": 16,
    "lenVar": 40
   },
   "kernels_config": {
    "python": {
     "delete_cmd_postfix": "",
     "delete_cmd_prefix": "del ",
     "library": "var_list.py",
     "varRefreshCmd": "print(var_dic_list())"
    },
    "r": {
     "delete_cmd_postfix": ") ",
     "delete_cmd_prefix": "rm(",
     "library": "var_list.r",
     "varRefreshCmd": "cat(var_dic_list()) "
    }
   },
   "types_to_exclude": [
    "module",
    "function",
    "builtin_function_or_method",
    "instance",
    "_Feature"
   ],
   "window_display": false
  }
 },
 "nbformat": 4,
 "nbformat_minor": 4
}
