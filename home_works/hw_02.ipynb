{
 "cells": [
  {
   "cell_type": "code",
   "execution_count": 1,
   "id": "000bd104-fb54-418e-8a71-b450e88e8585",
   "metadata": {},
   "outputs": [
    {
     "data": {
      "text/html": [
       "<style>.container { width:90% !important; }</style>"
      ],
      "text/plain": [
       "<IPython.core.display.HTML object>"
      ]
     },
     "metadata": {},
     "output_type": "display_data"
    }
   ],
   "source": [
    "import pandas as pd\n",
    "import numpy as np\n",
    "import os\n",
    "\n",
    "pd.set_option('max_colwidth', 200)\n",
    "pd.set_option('display.width', 400)\n",
    "\n",
    "from IPython.core.display import display, HTML\n",
    "display(HTML(\"<style>.container { width:90% !important; }</style>\"))\n",
    "\n",
    "from pprint import pprint\n",
    "from pathlib import Path"
   ]
  },
  {
   "cell_type": "code",
   "execution_count": 2,
   "id": "fb7e1055-2056-4712-a821-6d92e93e1693",
   "metadata": {},
   "outputs": [
    {
     "data": {
      "text/html": [
       "<div>\n",
       "<style scoped>\n",
       "    .dataframe tbody tr th:only-of-type {\n",
       "        vertical-align: middle;\n",
       "    }\n",
       "\n",
       "    .dataframe tbody tr th {\n",
       "        vertical-align: top;\n",
       "    }\n",
       "\n",
       "    .dataframe thead th {\n",
       "        text-align: right;\n",
       "    }\n",
       "</style>\n",
       "<table border=\"1\" class=\"dataframe\">\n",
       "  <thead>\n",
       "    <tr style=\"text-align: right;\">\n",
       "      <th></th>\n",
       "      <th>respondentID</th>\n",
       "      <th>seen</th>\n",
       "      <th>fan</th>\n",
       "      <th>gender</th>\n",
       "      <th>age_group</th>\n",
       "      <th>income</th>\n",
       "      <th>loc</th>\n",
       "      <th>yoda</th>\n",
       "      <th>princess_leia_organa</th>\n",
       "    </tr>\n",
       "  </thead>\n",
       "  <tbody>\n",
       "    <tr>\n",
       "      <th>0</th>\n",
       "      <td>3292879998</td>\n",
       "      <td>да</td>\n",
       "      <td>да</td>\n",
       "      <td>М</td>\n",
       "      <td>18-29</td>\n",
       "      <td>NaN</td>\n",
       "      <td>Южно-Атлантический</td>\n",
       "      <td>очень нравится</td>\n",
       "      <td>очень нравится</td>\n",
       "    </tr>\n",
       "    <tr>\n",
       "      <th>1</th>\n",
       "      <td>3292879538</td>\n",
       "      <td>нет</td>\n",
       "      <td>NaN</td>\n",
       "      <td>М</td>\n",
       "      <td>18-29</td>\n",
       "      <td>0 - 24.999</td>\n",
       "      <td>Юго-Западный центральный</td>\n",
       "      <td>NaN</td>\n",
       "      <td>NaN</td>\n",
       "    </tr>\n",
       "    <tr>\n",
       "      <th>2</th>\n",
       "      <td>3292765271</td>\n",
       "      <td>да</td>\n",
       "      <td>нет</td>\n",
       "      <td>М</td>\n",
       "      <td>18-29</td>\n",
       "      <td>0 - 24.999</td>\n",
       "      <td>Северо-Западный центральный</td>\n",
       "      <td>не знаю такого персонажа</td>\n",
       "      <td>нравится</td>\n",
       "    </tr>\n",
       "    <tr>\n",
       "      <th>3</th>\n",
       "      <td>3292763116</td>\n",
       "      <td>да</td>\n",
       "      <td>да</td>\n",
       "      <td>М</td>\n",
       "      <td>18-29</td>\n",
       "      <td>100.000 - 149.999</td>\n",
       "      <td>Северо-Западный центральный</td>\n",
       "      <td>очень нравится</td>\n",
       "      <td>очень нравится</td>\n",
       "    </tr>\n",
       "    <tr>\n",
       "      <th>4</th>\n",
       "      <td>3292731220</td>\n",
       "      <td>да</td>\n",
       "      <td>да</td>\n",
       "      <td>М</td>\n",
       "      <td>18-29</td>\n",
       "      <td>100.000 - 149.999</td>\n",
       "      <td>Северо-Западный центральный</td>\n",
       "      <td>нравится</td>\n",
       "      <td>нравится</td>\n",
       "    </tr>\n",
       "  </tbody>\n",
       "</table>\n",
       "</div>"
      ],
      "text/plain": [
       "   respondentID seen  fan gender age_group             income                          loc                      yoda princess_leia_organa\n",
       "0    3292879998   да   да      М     18-29                NaN           Южно-Атлантический            очень нравится       очень нравится\n",
       "1    3292879538  нет  NaN      М     18-29         0 - 24.999     Юго-Западный центральный                       NaN                  NaN\n",
       "2    3292765271   да  нет      М     18-29         0 - 24.999  Северо-Западный центральный  не знаю такого персонажа             нравится\n",
       "3    3292763116   да   да      М     18-29  100.000 - 149.999  Северо-Западный центральный            очень нравится       очень нравится\n",
       "4    3292731220   да   да      М     18-29  100.000 - 149.999  Северо-Западный центральный                  нравится             нравится"
      ]
     },
     "execution_count": 2,
     "metadata": {},
     "output_type": "execute_result"
    }
   ],
   "source": [
    "star_wars = pd.read_csv('./Data/StarWars.csv', sep=';')\n",
    "star_wars.head()"
   ]
  },
  {
   "cell_type": "markdown",
   "id": "28641ed6-09bd-4541-8608-21f5bcf9395a",
   "metadata": {},
   "source": [
    "# Описание данных\n",
    "\n",
    "- respondentID — идентификационный номер респондента\n",
    "- seen — ответ на вопрос, видел ли респондент хотя бы один фильм из серии «Звездных войн» (да/нет)\n",
    "- fan — ответ на вопрос, считает ли респондент себя фанатом серии фильмов (да/нет)\n",
    "- gender — пол респондента (М/Ж)\n",
    "- age_group — возрастная группа, к которой принадлежит респондент (18-29, 30-44, 45-60, > 60)\n",
    "- income — доход респондента в долларах США (0 - 24.999, 25.000 - 49.999, 50.000 - 99.999, 100.000 - 149.999, 150.000+)\n",
    "- loc — регион проживания респондента (в США)\n",
    "- yoda — отношение респондента к персонажу серии (Йоде)\n",
    "- princess_leia_organa — отношение респондента к персонажу серии (принцессе Лее Органе)"
   ]
  },
  {
   "cell_type": "markdown",
   "id": "188dcae1-4c3a-4c54-b2cd-83039b16c212",
   "metadata": {},
   "source": [
    "# Задания"
   ]
  },
  {
   "cell_type": "markdown",
   "id": "07f31f2c-993a-4470-95d3-b56692bb1e64",
   "metadata": {},
   "source": [
    "### К какой шкале относится переменная age_group? Выберите один верный ответ."
   ]
  },
  {
   "cell_type": "code",
   "execution_count": 18,
   "id": "b062e069-b671-4274-a3f5-6c6b5927cbef",
   "metadata": {},
   "outputs": [
    {
     "data": {
      "text/plain": [
       "array(['да', nan, 'нет'], dtype=object)"
      ]
     },
     "execution_count": 18,
     "metadata": {},
     "output_type": "execute_result"
    }
   ],
   "source": [
    "star_wars['fan'].unique()"
   ]
  },
  {
   "cell_type": "markdown",
   "id": "304b13a1-df7e-47f2-a794-3c0d7f4bdf4a",
   "metadata": {},
   "source": [
    "### Укажите, верно ли следующее утверждение: \n",
    "- все женщины \n",
    "- старше 60 лет, \n",
    "- входящие в категорию с наивысшим доходом и \n",
    "- являющиеся фанатами серии фильмов, \n",
    "    - проживают в одном регионе."
   ]
  },
  {
   "cell_type": "code",
   "execution_count": 24,
   "id": "f805663e-6366-4de9-901f-091ceee2a211",
   "metadata": {},
   "outputs": [
    {
     "data": {
      "text/plain": [
       "array(['Тихоокеанский', 'Северо-Западный центральный', 'Горный'],\n",
       "      dtype=object)"
      ]
     },
     "execution_count": 24,
     "metadata": {},
     "output_type": "execute_result"
    }
   ],
   "source": [
    "star_wars.loc[\n",
    "    (star_wars['gender'] == 'Ж') & \n",
    "    (star_wars['age_group'] == '> 60') &\n",
    "    (star_wars['income'] == '150.000+') &\n",
    "    (star_wars['fan'] == 'да')\n",
    "    , 'loc'].unique()"
   ]
  },
  {
   "cell_type": "markdown",
   "id": "5ea86e15-92ae-4c45-ac6c-8acef04a07f9",
   "metadata": {},
   "source": [
    "### Какой регион проживания чаще всего встречается в данных? Выберите один верный ответ."
   ]
  },
  {
   "cell_type": "code",
   "execution_count": 33,
   "id": "17c96e31-8746-484c-a4a9-abaa08880f5b",
   "metadata": {},
   "outputs": [
    {
     "data": {
      "text/html": [
       "<div>\n",
       "<style scoped>\n",
       "    .dataframe tbody tr th:only-of-type {\n",
       "        vertical-align: middle;\n",
       "    }\n",
       "\n",
       "    .dataframe tbody tr th {\n",
       "        vertical-align: top;\n",
       "    }\n",
       "\n",
       "    .dataframe thead th {\n",
       "        text-align: right;\n",
       "    }\n",
       "</style>\n",
       "<table border=\"1\" class=\"dataframe\">\n",
       "  <thead>\n",
       "    <tr style=\"text-align: right;\">\n",
       "      <th></th>\n",
       "      <th>loc</th>\n",
       "    </tr>\n",
       "  </thead>\n",
       "  <tbody>\n",
       "    <tr>\n",
       "      <th>Северо-Восточный центральный</th>\n",
       "      <td>181</td>\n",
       "    </tr>\n",
       "  </tbody>\n",
       "</table>\n",
       "</div>"
      ],
      "text/plain": [
       "                              loc\n",
       "Северо-Восточный центральный  181"
      ]
     },
     "execution_count": 33,
     "metadata": {},
     "output_type": "execute_result"
    }
   ],
   "source": [
    "pd.DataFrame(star_wars['loc'].value_counts()).head(1)"
   ]
  },
  {
   "cell_type": "markdown",
   "id": "19259709-e506-490c-b7ab-1802b3ddfae7",
   "metadata": {},
   "source": [
    "### Сколько респондентов не назвали свой доход? Выберите один верный ответ."
   ]
  },
  {
   "cell_type": "code",
   "execution_count": 41,
   "id": "92022626-123f-4949-80e9-d9a6f8d19850",
   "metadata": {},
   "outputs": [
    {
     "data": {
      "text/plain": [
       "328"
      ]
     },
     "execution_count": 41,
     "metadata": {},
     "output_type": "execute_result"
    }
   ],
   "source": [
    "star_wars.loc[star_wars['income'].isna(), 'respondentID'].count()"
   ]
  },
  {
   "cell_type": "markdown",
   "id": "9d761c9f-ae97-4d2b-928c-ff3a57333b99",
   "metadata": {},
   "source": [
    "### Скольким респондентам одновременно очень нравятся Йода и принцесса Лея Органа? Выберите один верный ответ."
   ]
  },
  {
   "cell_type": "code",
   "execution_count": 45,
   "id": "1624356f-7210-46a1-b5ec-5c90e9669246",
   "metadata": {},
   "outputs": [
    {
     "data": {
      "text/plain": [
       "462"
      ]
     },
     "execution_count": 45,
     "metadata": {},
     "output_type": "execute_result"
    }
   ],
   "source": [
    "star_wars.loc[\n",
    "    (star_wars['yoda'] == 'очень нравится') & \n",
    "    (star_wars['princess_leia_organa'] == 'очень нравится'), \n",
    "    'respondentID'].count()"
   ]
  },
  {
   "cell_type": "markdown",
   "id": "acd886c3-a1d8-4adf-a090-7d17a7bd3786",
   "metadata": {},
   "source": [
    "### Сколько респондентов не видели ни одного фильма серии, но считают себя ее фанатами? Введите ответ в виде целого числа."
   ]
  },
  {
   "cell_type": "code",
   "execution_count": 60,
   "id": "3f0fb46c-403c-41f0-bb3f-306565b92d51",
   "metadata": {},
   "outputs": [
    {
     "data": {
      "text/plain": [
       "0"
      ]
     },
     "execution_count": 60,
     "metadata": {},
     "output_type": "execute_result"
    }
   ],
   "source": [
    "star_wars.loc[\n",
    "    (star_wars['seen'] != 'да') & \n",
    "    (star_wars['fan'] == 'да'), \n",
    "    'respondentID'].count()"
   ]
  },
  {
   "cell_type": "markdown",
   "id": "470aa3d2-0a78-4841-91d0-149fcb90ca12",
   "metadata": {},
   "source": [
    "### Сколько респондентов не ответили ни на один вопрос? Введите ответ в виде целого числа.\n"
   ]
  },
  {
   "cell_type": "code",
   "execution_count": 66,
   "id": "a3bc871e-55d2-4372-bb5f-a49d6dee397b",
   "metadata": {},
   "outputs": [
    {
     "data": {
      "text/plain": [
       "(167, 9)"
      ]
     },
     "execution_count": 66,
     "metadata": {},
     "output_type": "execute_result"
    }
   ],
   "source": [
    "star_wars[(star_wars['fan'].isna()) &\n",
    "          (star_wars['income'].isna()) &\n",
    "          (star_wars['yoda'].isna()) &\n",
    "          (star_wars['princess_leia_organa'].isna())].shape"
   ]
  },
  {
   "cell_type": "markdown",
   "id": "8c46140c-f356-4310-88ed-18c45327e318",
   "metadata": {},
   "source": [
    "### Посмотрите на мужчин, проживающих в горном районе. В ответ запишите ID респондента, входящего в категорию с наивысшим доходом при заданных условиях."
   ]
  },
  {
   "cell_type": "code",
   "execution_count": 80,
   "id": "5b73380f-e312-4bc9-8298-944c2be0f6fb",
   "metadata": {},
   "outputs": [
    {
     "data": {
      "text/plain": [
       "array([3291077381], dtype=int64)"
      ]
     },
     "execution_count": 80,
     "metadata": {},
     "output_type": "execute_result"
    }
   ],
   "source": [
    "star_wars.loc[\n",
    "    (star_wars['gender'] == 'М') &\n",
    "    (star_wars['loc'] == 'Горный') &\n",
    "    (star_wars['income'] == '150.000+')\n",
    "    , 'respondentID'\n",
    "].values"
   ]
  },
  {
   "cell_type": "markdown",
   "id": "fae868d5-f1a1-4d09-aa4c-c297d67ab4cf",
   "metadata": {},
   "source": [
    "### Укажите, верно ли следующее утверждение: фанатов серии фильмов в возрастной категории 45-60 меньше, чем не-фанатов в возрастной категории 18-29."
   ]
  },
  {
   "cell_type": "code",
   "execution_count": 85,
   "id": "a1cafffe-153e-4ba9-acf5-d779905fd1a1",
   "metadata": {},
   "outputs": [
    {
     "data": {
      "text/plain": [
       "False"
      ]
     },
     "execution_count": 85,
     "metadata": {},
     "output_type": "execute_result"
    }
   ],
   "source": [
    "star_wars.loc[(star_wars['fan'] == 'да') & (star_wars['age_group'] == '45-60'), 'respondentID'].count() < \\\n",
    "star_wars.loc[(star_wars['fan'] == 'нет') & (star_wars['age_group'] == '18-29'), 'respondentID'].count()"
   ]
  },
  {
   "cell_type": "markdown",
   "id": "ed9fc2a4-1447-4f0e-adc3-28288b5cca56",
   "metadata": {},
   "source": [
    "### Сколько процентов (от общего числа респондентов) являются фанатами серии фильмов, проживают в Новой Англии и имеют доход 0 - 24.999 долларов? В ответ запишите число (процент от 0 до 100), округлите до целого."
   ]
  },
  {
   "cell_type": "code",
   "execution_count": 107,
   "id": "2b9ad86c-2f14-4b31-84a1-6612ce560f2a",
   "metadata": {},
   "outputs": [
    {
     "data": {
      "text/plain": [
       "1"
      ]
     },
     "execution_count": 107,
     "metadata": {},
     "output_type": "execute_result"
    }
   ],
   "source": [
    "round(\n",
    "    star_wars.loc[(star_wars['fan'] == 'да') & (star_wars['loc'] == 'Новая Англия') & (star_wars['income'] == '0 - 24.999'), 'respondentID'].nunique() / star_wars['respondentID'].nunique() * 100\n",
    ")"
   ]
  }
 ],
 "metadata": {
  "kernelspec": {
   "display_name": "Python 3 (ipykernel)",
   "language": "python",
   "name": "python3"
  },
  "language_info": {
   "codemirror_mode": {
    "name": "ipython",
    "version": 3
   },
   "file_extension": ".py",
   "mimetype": "text/x-python",
   "name": "python",
   "nbconvert_exporter": "python",
   "pygments_lexer": "ipython3",
   "version": "3.9.7"
  }
 },
 "nbformat": 4,
 "nbformat_minor": 5
}
