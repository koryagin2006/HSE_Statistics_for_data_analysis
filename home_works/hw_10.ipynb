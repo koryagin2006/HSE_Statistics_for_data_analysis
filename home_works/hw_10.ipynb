{
 "cells": [
  {
   "cell_type": "code",
   "execution_count": 1,
   "id": "000bd104-fb54-418e-8a71-b450e88e8585",
   "metadata": {},
   "outputs": [
    {
     "data": {
      "text/html": [
       "<style>.container { width:70% !important; }</style>"
      ],
      "text/plain": [
       "<IPython.core.display.HTML object>"
      ]
     },
     "metadata": {},
     "output_type": "display_data"
    }
   ],
   "source": [
    "import pandas as pd\n",
    "import numpy as np\n",
    "import scipy.stats as st\n",
    "import statsmodels.api as sm\n",
    "\n",
    "import seaborn as sns\n",
    "import matplotlib.pyplot as plt\n",
    "\n",
    "pd.set_option('max_colwidth', 200)\n",
    "pd.set_option('display.width', 400)\n",
    "\n",
    "from IPython.core.display import display, HTML\n",
    "display(HTML(\"<style>.container { width:70% !important; }</style>\"))"
   ]
  },
  {
   "cell_type": "markdown",
   "id": "0015a441",
   "metadata": {},
   "source": [
    "# Самопроверка (не оценивается)"
   ]
  },
  {
   "cell_type": "markdown",
   "id": "11d6a7fc",
   "metadata": {},
   "source": [
    "### 1\n",
    "Предположим, что X и Y заданы так: $X = [3, 2, 98, 34, 11, 2, 3], Y = [2, 1, 0, 3, 7, 2, 15]$. \n",
    "Постройте модель линейной регрессии. Чему будет равно предсказанное значение зависимой переменной, если значение объясняющей равно 0? Выберите один верный ответ.\n",
    "\n",
    "\n"
   ]
  },
  {
   "cell_type": "code",
   "execution_count": 6,
   "id": "b96d4b42",
   "metadata": {},
   "outputs": [
    {
     "data": {
      "text/plain": [
       "5.499"
      ]
     },
     "execution_count": 6,
     "metadata": {},
     "output_type": "execute_result"
    }
   ],
   "source": [
    "X = [3, 2, 98, 34, 11, 2, 3]\n",
    "y = [2, 1, 0, 3, 7, 2, 15]\n",
    "\n",
    "res = st.linregress(x=X, y=y)\n",
    "res.intercept.round(3)"
   ]
  },
  {
   "cell_type": "markdown",
   "id": "3284cd40",
   "metadata": {},
   "source": [
    "### 2\n",
    "Предположим, что X и Y заданы так: $X = [3, 2, 98, 34, 11, 2, 3], Y = [2, 1, 0, 3, 7, 2, 15]$. На сколько будет увеличиваться предсказанное значение Y при увеличении X на 1? Выберите один верный ответ."
   ]
  },
  {
   "cell_type": "code",
   "execution_count": 10,
   "id": "6aed6621",
   "metadata": {},
   "outputs": [
    {
     "data": {
      "text/plain": [
       "-0.05549678881752928"
      ]
     },
     "execution_count": 10,
     "metadata": {},
     "output_type": "execute_result"
    }
   ],
   "source": [
    "X = [3, 2, 98, 34, 11, 2, 3]\n",
    "y = [2, 1, 0, 3, 7, 2, 15]\n",
    "\n",
    "# y_pred = res.slope * X + res.intercept\n",
    "res = st.linregress(X, y)\n",
    "\n",
    "res.slope"
   ]
  },
  {
   "cell_type": "markdown",
   "id": "335b2309",
   "metadata": {},
   "source": [
    "### 3\n",
    "Предположим, что X и Y заданы так: $X = [3, 2, 98, 34, 11, 2, 3], Y = [2, 1, 0, 3, 7, 2, 15]$. Чему будет равно значение среднеквадратичной ошибки? Выберите один верный ответ."
   ]
  },
  {
   "cell_type": "code",
   "execution_count": 43,
   "id": "4e094049",
   "metadata": {},
   "outputs": [
    {
     "data": {
      "text/plain": [
       "20.019396621512225"
      ]
     },
     "execution_count": 43,
     "metadata": {},
     "output_type": "execute_result"
    }
   ],
   "source": [
    "X = np.array([3, 2, 98, 34, 11, 2, 3])\n",
    "y = np.array([2, 1, 0, 3, 7, 2, 15])\n",
    "\n",
    "res = st.linregress(X, y)\n",
    "y_pred = res.slope * X + res.intercept\n",
    "mse = (np.square(y - y_pred)).mean()\n",
    "mse"
   ]
  },
  {
   "cell_type": "markdown",
   "id": "27a1b047",
   "metadata": {},
   "source": [
    "### 4\n",
    "Предположим, что X и Y заданы так: $X = [3, 2, 98, 34, 11, 2, 3], Y = [2, 1, 0, 3, 7, 2, 15]$. Чему будет равно значение средней абсолютной ошибки? Выберите один верный ответ."
   ]
  },
  {
   "cell_type": "code",
   "execution_count": 44,
   "id": "9c0857d6",
   "metadata": {},
   "outputs": [
    {
     "data": {
      "text/plain": [
       "3.3655782826919967"
      ]
     },
     "execution_count": 44,
     "metadata": {},
     "output_type": "execute_result"
    }
   ],
   "source": [
    "𝑋 = np.array([3,2,98,34,11,2,3])\n",
    "y = np.array([2,1,0,3,7,2,15])\n",
    "\n",
    "res = st.linregress(X, y)\n",
    "y_pred = res.slope * X + res.intercept\n",
    "mae = np.abs(y_pred - y).mean()\n",
    "mae"
   ]
  },
  {
   "cell_type": "markdown",
   "id": "df478f7d",
   "metadata": {},
   "source": [
    "### 5\n",
    "Предположим, что X и Y заданы так: $X = [3, 2, 98, 34, 11, 2, 3], Y = [2, 1, 0, 3, 7, 2, 15]$. Постройте модель линейной регрессии. Укажите, верно ли следующее утверждение: значение коэффициента детерминации в данной модели получилось 0.14, значит модель объясняет 76% разброса данных.\n",
    "\n",
    "\n"
   ]
  },
  {
   "cell_type": "code",
   "execution_count": 33,
   "id": "54da56d0",
   "metadata": {},
   "outputs": [
    {
     "data": {
      "text/plain": [
       "0.14252584400865473"
      ]
     },
     "execution_count": 33,
     "metadata": {},
     "output_type": "execute_result"
    }
   ],
   "source": [
    "𝑋 = np.array([3,2,98,34,11,2,3])\n",
    "y = np.array([2,1,0,3,7,2,15])\n",
    "\n",
    "res = st.linregress(X, y)\n",
    "res.rvalue ** 2"
   ]
  },
  {
   "cell_type": "markdown",
   "id": "50a38683",
   "metadata": {},
   "source": [
    "# Тест на оценку"
   ]
  },
  {
   "cell_type": "code",
   "execution_count": 48,
   "id": "2f799f30",
   "metadata": {},
   "outputs": [
    {
     "data": {
      "text/html": [
       "<div>\n",
       "<style scoped>\n",
       "    .dataframe tbody tr th:only-of-type {\n",
       "        vertical-align: middle;\n",
       "    }\n",
       "\n",
       "    .dataframe tbody tr th {\n",
       "        vertical-align: top;\n",
       "    }\n",
       "\n",
       "    .dataframe thead th {\n",
       "        text-align: right;\n",
       "    }\n",
       "</style>\n",
       "<table border=\"1\" class=\"dataframe\">\n",
       "  <thead>\n",
       "    <tr style=\"text-align: right;\">\n",
       "      <th></th>\n",
       "      <th>competitorname</th>\n",
       "      <th>chocolate</th>\n",
       "      <th>fruity</th>\n",
       "      <th>caramel</th>\n",
       "      <th>peanutyalmondy</th>\n",
       "      <th>nougat</th>\n",
       "      <th>crispedricewafer</th>\n",
       "      <th>hard</th>\n",
       "      <th>bar</th>\n",
       "      <th>pluribus</th>\n",
       "      <th>sugarpercent</th>\n",
       "      <th>pricepercent</th>\n",
       "      <th>winpercent</th>\n",
       "    </tr>\n",
       "  </thead>\n",
       "  <tbody>\n",
       "    <tr>\n",
       "      <th>0</th>\n",
       "      <td>100 Grand</td>\n",
       "      <td>1</td>\n",
       "      <td>0</td>\n",
       "      <td>1</td>\n",
       "      <td>0</td>\n",
       "      <td>0</td>\n",
       "      <td>1</td>\n",
       "      <td>0</td>\n",
       "      <td>1</td>\n",
       "      <td>0</td>\n",
       "      <td>0.732</td>\n",
       "      <td>0.860</td>\n",
       "      <td>66.971725</td>\n",
       "    </tr>\n",
       "    <tr>\n",
       "      <th>1</th>\n",
       "      <td>3 Musketeers</td>\n",
       "      <td>1</td>\n",
       "      <td>0</td>\n",
       "      <td>0</td>\n",
       "      <td>0</td>\n",
       "      <td>1</td>\n",
       "      <td>0</td>\n",
       "      <td>0</td>\n",
       "      <td>1</td>\n",
       "      <td>0</td>\n",
       "      <td>0.604</td>\n",
       "      <td>0.511</td>\n",
       "      <td>67.602936</td>\n",
       "    </tr>\n",
       "    <tr>\n",
       "      <th>2</th>\n",
       "      <td>One dime</td>\n",
       "      <td>0</td>\n",
       "      <td>0</td>\n",
       "      <td>0</td>\n",
       "      <td>0</td>\n",
       "      <td>0</td>\n",
       "      <td>0</td>\n",
       "      <td>0</td>\n",
       "      <td>0</td>\n",
       "      <td>0</td>\n",
       "      <td>0.011</td>\n",
       "      <td>0.116</td>\n",
       "      <td>32.261086</td>\n",
       "    </tr>\n",
       "  </tbody>\n",
       "</table>\n",
       "</div>"
      ],
      "text/plain": [
       "  competitorname  chocolate  fruity  caramel  peanutyalmondy  nougat  crispedricewafer  hard  bar  pluribus  sugarpercent  pricepercent  winpercent\n",
       "0      100 Grand          1       0        1               0       0                 1     0    1         0         0.732         0.860   66.971725\n",
       "1   3 Musketeers          1       0        0               0       1                 0     0    1         0         0.604         0.511   67.602936\n",
       "2       One dime          0       0        0               0       0                 0     0    0         0         0.011         0.116   32.261086"
      ]
     },
     "execution_count": 48,
     "metadata": {},
     "output_type": "execute_result"
    }
   ],
   "source": [
    "df = pd.read_csv('../Data/CandyData.csv')\n",
    "df.head(3)"
   ]
  },
  {
   "cell_type": "markdown",
   "id": "28641ed6-09bd-4541-8608-21f5bcf9395a",
   "metadata": {},
   "source": [
    "## Описание данных\n",
    "\n",
    "- chocolate/fruity/caramel/peanutalmondy/nougat/crispedricewafer — содержит ли конфета шоколад/фруктовый ароматизатор/карамель/арахис/нугу/воздушный рис (1 – да/ 0 – нет)\n",
    "- hard — конфета твердая (1 – да/ 0 – нет)\n",
    "- bar — конфета похожа на батончик (1 – да/ 0 – нет)\n",
    "- pluribus — в упаковке одна конфета или несколько (1 – несколько/ 0 – одна)\n",
    "- sugarpercent — процент сахара в конфете\n",
    "- pricepercent — цена конфеты\n",
    "- winpercent — рейтинг конфеты"
   ]
  },
  {
   "cell_type": "markdown",
   "id": "188dcae1-4c3a-4c54-b2cd-83039b16c212",
   "metadata": {},
   "source": [
    "## Задания"
   ]
  },
  {
   "cell_type": "markdown",
   "id": "4dccfa01",
   "metadata": {},
   "source": [
    "### Выберите переменные `sugarpercent, pricepercent и winpercent`. Проверьте предпосылку о мультиколлинеарности и укажите верное утверждение. \n",
    "Выберите один верный ответ."
   ]
  },
  {
   "cell_type": "markdown",
   "id": "8069573e",
   "metadata": {},
   "source": [
    "- [ ] Мы наблюдаем сильные корреляции между указанными переменными, значит можем построить линейную модель регрессии\n",
    "- [ ] Мы наблюдаем сильные корреляции между указанными переменными, значит построить линейную модель регрессии нельзя\n",
    "- [x] Корреляция между переменными умеренная, что позволяет нам построить линейную модель регрессии\n",
    "- [ ] Корреляция между переменными умеренная, поэтому построить линейную модель регрессии нельзя"
   ]
  },
  {
   "cell_type": "code",
   "execution_count": 54,
   "id": "d7ed7e9b",
   "metadata": {},
   "outputs": [
    {
     "data": {
      "image/png": "[encoded data removed]",
      "text/plain": [
       "<Figure size 432x288 with 2 Axes>"
      ]
     },
     "metadata": {
      "needs_background": "light"
     },
     "output_type": "display_data"
    }
   ],
   "source": [
    "sns.heatmap(data=df.loc[:, ['sugarpercent', 'pricepercent', 'winpercent']].corr(), \n",
    "            annot=True);"
   ]
  },
  {
   "cell_type": "markdown",
   "id": "6686148d",
   "metadata": {},
   "source": [
    "### Постройте линейную модель, где зависимой переменной выступает `winpercent`, а независимой – `sugarpercent`. \n",
    "\n",
    "Укажите, верно ли следующее утверждение: на уровне значимости 0.05 процент сахара в конфете статистически значимо влияет на рейтинг конфеты."
   ]
  },
  {
   "cell_type": "code",
   "execution_count": 94,
   "id": "a734184c",
   "metadata": {},
   "outputs": [
    {
     "data": {
      "text/html": [
       "<table class=\"simpletable\">\n",
       "<caption>OLS Regression Results</caption>\n",
       "<tr>\n",
       "  <th>Dep. Variable:</th>            <td>y</td>        <th>  R-squared:         </th> <td>   0.053</td>\n",
       "</tr>\n",
       "<tr>\n",
       "  <th>Model:</th>                   <td>OLS</td>       <th>  Adj. R-squared:    </th> <td>   0.041</td>\n",
       "</tr>\n",
       "<tr>\n",
       "  <th>Method:</th>             <td>Least Squares</td>  <th>  F-statistic:       </th> <td>   4.600</td>\n",
       "</tr>\n",
       "<tr>\n",
       "  <th>Date:</th>             <td>Mon, 30 May 2022</td> <th>  Prob (F-statistic):</th>  <td>0.0349</td> \n",
       "</tr>\n",
       "<tr>\n",
       "  <th>Time:</th>                 <td>23:11:06</td>     <th>  Log-Likelihood:    </th> <td> -346.36</td>\n",
       "</tr>\n",
       "<tr>\n",
       "  <th>No. Observations:</th>      <td>    85</td>      <th>  AIC:               </th> <td>   696.7</td>\n",
       "</tr>\n",
       "<tr>\n",
       "  <th>Df Residuals:</th>          <td>    83</td>      <th>  BIC:               </th> <td>   701.6</td>\n",
       "</tr>\n",
       "<tr>\n",
       "  <th>Df Model:</th>              <td>     1</td>      <th>                     </th>     <td> </td>   \n",
       "</tr>\n",
       "<tr>\n",
       "  <th>Covariance Type:</th>      <td>nonrobust</td>    <th>                     </th>     <td> </td>   \n",
       "</tr>\n",
       "</table>\n",
       "<table class=\"simpletable\">\n",
       "<tr>\n",
       "    <td></td>       <th>coef</th>     <th>std err</th>      <th>t</th>      <th>P>|t|</th>  <th>[0.025</th>    <th>0.975]</th>  \n",
       "</tr>\n",
       "<tr>\n",
       "  <th>const</th> <td>   44.6094</td> <td>    3.086</td> <td>   14.455</td> <td> 0.000</td> <td>   38.471</td> <td>   50.748</td>\n",
       "</tr>\n",
       "<tr>\n",
       "  <th>x1</th>    <td>   11.9239</td> <td>    5.560</td> <td>    2.145</td> <td> 0.035</td> <td>    0.866</td> <td>   22.982</td>\n",
       "</tr>\n",
       "</table>\n",
       "<table class=\"simpletable\">\n",
       "<tr>\n",
       "  <th>Omnibus:</th>       <td> 3.009</td> <th>  Durbin-Watson:     </th> <td>   1.404</td>\n",
       "</tr>\n",
       "<tr>\n",
       "  <th>Prob(Omnibus):</th> <td> 0.222</td> <th>  Jarque-Bera (JB):  </th> <td>   2.845</td>\n",
       "</tr>\n",
       "<tr>\n",
       "  <th>Skew:</th>          <td> 0.379</td> <th>  Prob(JB):          </th> <td>   0.241</td>\n",
       "</tr>\n",
       "<tr>\n",
       "  <th>Kurtosis:</th>      <td> 2.523</td> <th>  Cond. No.          </th> <td>    4.43</td>\n",
       "</tr>\n",
       "</table><br/><br/>Notes:<br/>[1] Standard Errors assume that the covariance matrix of the errors is correctly specified."
      ],
      "text/plain": [
       "<class 'statsmodels.iolib.summary.Summary'>\n",
       "\"\"\"\n",
       "                            OLS Regression Results                            \n",
       "==============================================================================\n",
       "Dep. Variable:                      y   R-squared:                       0.053\n",
       "Model:                            OLS   Adj. R-squared:                  0.041\n",
       "Method:                 Least Squares   F-statistic:                     4.600\n",
       "Date:                Mon, 30 May 2022   Prob (F-statistic):             0.0349\n",
       "Time:                        23:11:06   Log-Likelihood:                -346.36\n",
       "No. Observations:                  85   AIC:                             696.7\n",
       "Df Residuals:                      83   BIC:                             701.6\n",
       "Df Model:                           1                                         \n",
       "Covariance Type:            nonrobust                                         \n",
       "==============================================================================\n",
       "                 coef    std err          t      P>|t|      [0.025      0.975]\n",
       "------------------------------------------------------------------------------\n",
       "const         44.6094      3.086     14.455      0.000      38.471      50.748\n",
       "x1            11.9239      5.560      2.145      0.035       0.866      22.982\n",
       "==============================================================================\n",
       "Omnibus:                        3.009   Durbin-Watson:                   1.404\n",
       "Prob(Omnibus):                  0.222   Jarque-Bera (JB):                2.845\n",
       "Skew:                           0.379   Prob(JB):                        0.241\n",
       "Kurtosis:                       2.523   Cond. No.                         4.43\n",
       "==============================================================================\n",
       "\n",
       "Notes:\n",
       "[1] Standard Errors assume that the covariance matrix of the errors is correctly specified.\n",
       "\"\"\""
      ]
     },
     "execution_count": 94,
     "metadata": {},
     "output_type": "execute_result"
    }
   ],
   "source": [
    "X, y = df[['sugarpercent', 'winpercent']].values.T\n",
    "\n",
    "m = sm.OLS(y, sm.add_constant(X))\n",
    "res = m.fit()\n",
    "res.summary()"
   ]
  },
  {
   "cell_type": "markdown",
   "id": "a9bf1d89",
   "metadata": {},
   "source": [
    "### Постройте линейную модель, где зависимой переменной выступает `winpercent`, а независимой – `sugarpercent`. \n",
    "Чему равно значение оценки коэффициента нашей независимой переменной? Выберите один верный ответ."
   ]
  },
  {
   "cell_type": "code",
   "execution_count": 101,
   "id": "79d4c406",
   "metadata": {},
   "outputs": [
    {
     "data": {
      "text/plain": [
       "11.92386"
      ]
     },
     "execution_count": 101,
     "metadata": {},
     "output_type": "execute_result"
    }
   ],
   "source": [
    "res = st.linregress(X, y)\n",
    "res.slope.round(5)"
   ]
  },
  {
   "cell_type": "markdown",
   "id": "9a2054d0",
   "metadata": {},
   "source": [
    "### Постройте линейную модель, где зависимой переменной выступает `winpercent, а независимой – sugarpercent`. \n",
    "Чему будет равно значение оценки коэффициента детерминации в данной модели? Выберите один верный ответ."
   ]
  },
  {
   "cell_type": "code",
   "execution_count": 103,
   "id": "88cb9d7f",
   "metadata": {},
   "outputs": [
    {
     "data": {
      "text/plain": [
       "0.052510023662197175"
      ]
     },
     "execution_count": 103,
     "metadata": {},
     "output_type": "execute_result"
    }
   ],
   "source": [
    "res = st.linregress(X, y)\n",
    "res.rvalue ** 2"
   ]
  },
  {
   "cell_type": "markdown",
   "id": "cd6bae87",
   "metadata": {},
   "source": [
    "### Постройте линейную модель, где зависимой переменной выступает `winpercent`, а независимыми – `sugarpercent` и `pricepercent`\n",
    "Чему будет равно значение оценки коэффициента при цене конфеты? Введите ответ в виде десятичной дроби, округлите до двух знаков после запятой; если значение отрицательное, не забудьте указать минус перед числом."
   ]
  },
  {
   "cell_type": "code",
   "execution_count": 129,
   "id": "14eb0416",
   "metadata": {},
   "outputs": [
    {
     "data": {
      "text/html": [
       "<table class=\"simpletable\">\n",
       "<caption>OLS Regression Results</caption>\n",
       "<tr>\n",
       "  <th>Dep. Variable:</th>       <td>winpercent</td>    <th>  R-squared:         </th> <td>   0.134</td>\n",
       "</tr>\n",
       "<tr>\n",
       "  <th>Model:</th>                   <td>OLS</td>       <th>  Adj. R-squared:    </th> <td>   0.113</td>\n",
       "</tr>\n",
       "<tr>\n",
       "  <th>Method:</th>             <td>Least Squares</td>  <th>  F-statistic:       </th> <td>   6.353</td>\n",
       "</tr>\n",
       "<tr>\n",
       "  <th>Date:</th>             <td>Mon, 30 May 2022</td> <th>  Prob (F-statistic):</th>  <td>0.00272</td>\n",
       "</tr>\n",
       "<tr>\n",
       "  <th>Time:</th>                 <td>23:21:36</td>     <th>  Log-Likelihood:    </th> <td> -342.53</td>\n",
       "</tr>\n",
       "<tr>\n",
       "  <th>No. Observations:</th>      <td>    85</td>      <th>  AIC:               </th> <td>   691.1</td>\n",
       "</tr>\n",
       "<tr>\n",
       "  <th>Df Residuals:</th>          <td>    82</td>      <th>  BIC:               </th> <td>   698.4</td>\n",
       "</tr>\n",
       "<tr>\n",
       "  <th>Df Model:</th>              <td>     2</td>      <th>                     </th>     <td> </td>   \n",
       "</tr>\n",
       "<tr>\n",
       "  <th>Covariance Type:</th>      <td>nonrobust</td>    <th>                     </th>     <td> </td>   \n",
       "</tr>\n",
       "</table>\n",
       "<table class=\"simpletable\">\n",
       "<tr>\n",
       "        <td></td>          <th>coef</th>     <th>std err</th>      <th>t</th>      <th>P>|t|</th>  <th>[0.025</th>    <th>0.975]</th>  \n",
       "</tr>\n",
       "<tr>\n",
       "  <th>sugarpercent</th> <td>    6.7311</td> <td>    5.664</td> <td>    1.188</td> <td> 0.238</td> <td>   -4.536</td> <td>   17.998</td>\n",
       "</tr>\n",
       "<tr>\n",
       "  <th>pricepercent</th> <td>   15.5865</td> <td>    5.605</td> <td>    2.781</td> <td> 0.007</td> <td>    4.436</td> <td>   26.737</td>\n",
       "</tr>\n",
       "<tr>\n",
       "  <th>const</th>        <td>   39.7867</td> <td>    3.438</td> <td>   11.574</td> <td> 0.000</td> <td>   32.948</td> <td>   46.625</td>\n",
       "</tr>\n",
       "</table>\n",
       "<table class=\"simpletable\">\n",
       "<tr>\n",
       "  <th>Omnibus:</th>       <td> 0.572</td> <th>  Durbin-Watson:     </th> <td>   1.424</td>\n",
       "</tr>\n",
       "<tr>\n",
       "  <th>Prob(Omnibus):</th> <td> 0.751</td> <th>  Jarque-Bera (JB):  </th> <td>   0.467</td>\n",
       "</tr>\n",
       "<tr>\n",
       "  <th>Skew:</th>          <td> 0.180</td> <th>  Prob(JB):          </th> <td>   0.792</td>\n",
       "</tr>\n",
       "<tr>\n",
       "  <th>Kurtosis:</th>      <td> 2.946</td> <th>  Cond. No.          </th> <td>    5.27</td>\n",
       "</tr>\n",
       "</table><br/><br/>Notes:<br/>[1] Standard Errors assume that the covariance matrix of the errors is correctly specified."
      ],
      "text/plain": [
       "<class 'statsmodels.iolib.summary.Summary'>\n",
       "\"\"\"\n",
       "                            OLS Regression Results                            \n",
       "==============================================================================\n",
       "Dep. Variable:             winpercent   R-squared:                       0.134\n",
       "Model:                            OLS   Adj. R-squared:                  0.113\n",
       "Method:                 Least Squares   F-statistic:                     6.353\n",
       "Date:                Mon, 30 May 2022   Prob (F-statistic):            0.00272\n",
       "Time:                        23:21:36   Log-Likelihood:                -342.53\n",
       "No. Observations:                  85   AIC:                             691.1\n",
       "Df Residuals:                      82   BIC:                             698.4\n",
       "Df Model:                           2                                         \n",
       "Covariance Type:            nonrobust                                         \n",
       "================================================================================\n",
       "                   coef    std err          t      P>|t|      [0.025      0.975]\n",
       "--------------------------------------------------------------------------------\n",
       "sugarpercent     6.7311      5.664      1.188      0.238      -4.536      17.998\n",
       "pricepercent    15.5865      5.605      2.781      0.007       4.436      26.737\n",
       "const           39.7867      3.438     11.574      0.000      32.948      46.625\n",
       "==============================================================================\n",
       "Omnibus:                        0.572   Durbin-Watson:                   1.424\n",
       "Prob(Omnibus):                  0.751   Jarque-Bera (JB):                0.467\n",
       "Skew:                           0.180   Prob(JB):                        0.792\n",
       "Kurtosis:                       2.946   Cond. No.                         5.27\n",
       "==============================================================================\n",
       "\n",
       "Notes:\n",
       "[1] Standard Errors assume that the covariance matrix of the errors is correctly specified.\n",
       "\"\"\""
      ]
     },
     "execution_count": 129,
     "metadata": {},
     "output_type": "execute_result"
    }
   ],
   "source": [
    "X = df[['sugarpercent', 'pricepercent']].assign(const=1)\n",
    "y = df['winpercent']\n",
    "\n",
    "m = sm.OLS(y, X)\n",
    "res = m.fit()\n",
    "res.summary()"
   ]
  },
  {
   "cell_type": "markdown",
   "id": "6c00c4d8",
   "metadata": {},
   "source": [
    "### Постройте линейную модель, где зависимой переменной выступает `winpercent`, а независимыми – `sugarpercent` и `pricepercent`. \n",
    "Чему будет равно значение оценки коэффициента при проценте сахара в конфете? Введите ответ в виде десятичной дроби, округлите до двух знаков после запятой; если значение отрицательное, не забудьте указать минус перед числом."
   ]
  },
  {
   "cell_type": "markdown",
   "id": "96f5fae8",
   "metadata": {},
   "source": [
    "### Постройте линейную модель, где зависимой переменной выступает `winpercent`, а независимыми – `sugarpercent` и `pricepercent`. \n",
    "\n",
    "Укажите, верно ли следующее утверждение: на уровне значимости 0.05 процент сахара в конфете статистически значимо влияет на рейтинг конфеты.\n",
    "\n",
    "\n"
   ]
  },
  {
   "cell_type": "markdown",
   "id": "1dc238d9",
   "metadata": {},
   "source": [
    "### Постройте линейную модель, где зависимой переменной выступает `winpercent`, а независимыми – `sugarpercent` и `pricepercent`. \n",
    "\n",
    "Чему будет равно оцененное значение зависимой переменной, когда значение объясняющих переменных равно нулю. Введите ответ в виде в виде десятичной дроби, округлите до двух знаков после запятой; если значение отрицательное, не забудьте указать минус перед числом."
   ]
  },
  {
   "cell_type": "markdown",
   "id": "7b3a9292",
   "metadata": {},
   "source": [
    "### Постройте линейную модель, где зависимой переменной выступает `winpercent`, а независимыми – `sugarpercent` и `pricepercent`. \n",
    "\n",
    "Чему будет равен коэффициент детерминации в данной модели? Введите ответ в виде десятичной дроби, округлите до двух знаков после запятой; если коэффициент отрицательный, не забудьте указать минус перед числом.\n"
   ]
  },
  {
   "cell_type": "code",
   "execution_count": null,
   "id": "d35fe6aa",
   "metadata": {},
   "outputs": [],
   "source": []
  },
  {
   "cell_type": "code",
   "execution_count": null,
   "id": "ae255664",
   "metadata": {},
   "outputs": [],
   "source": []
  }
 ],
 "metadata": {
  "hide_input": false,
  "kernelspec": {
   "display_name": "Python 3 (ipykernel)",
   "language": "python",
   "name": "python3"
  },
  "language_info": {
   "codemirror_mode": {
    "name": "ipython",
    "version": 3
   },
   "file_extension": ".py",
   "mimetype": "text/x-python",
   "name": "python",
   "nbconvert_exporter": "python",
   "pygments_lexer": "ipython3",
   "version": "3.9.7"
  },
  "toc": {
   "base_numbering": 1,
   "nav_menu": {},
   "number_sections": true,
   "sideBar": true,
   "skip_h1_title": false,
   "title_cell": "Table of Contents",
   "title_sidebar": "Contents",
   "toc_cell": false,
   "toc_position": {
    "height": "calc(100% - 180px)",
    "left": "10px",
    "top": "150px",
    "width": "316.594px"
   },
   "toc_section_display": true,
   "toc_window_display": true
  },
  "varInspector": {
   "cols": {
    "lenName": 16,
    "lenType": 16,
    "lenVar": 40
   },
   "kernels_config": {
    "python": {
     "delete_cmd_postfix": "",
     "delete_cmd_prefix": "del ",
     "library": "var_list.py",
     "varRefreshCmd": "print(var_dic_list())"
    },
    "r": {
     "delete_cmd_postfix": ") ",
     "delete_cmd_prefix": "rm(",
     "library": "var_list.r",
     "varRefreshCmd": "cat(var_dic_list()) "
    }
   },
   "types_to_exclude": [
    "module",
    "function",
    "builtin_function_or_method",
    "instance",
    "_Feature"
   ],
   "window_display": false
  }
 },
 "nbformat": 4,
 "nbformat_minor": 5
}
