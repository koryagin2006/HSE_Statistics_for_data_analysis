{
 "cells": [
  {
   "cell_type": "code",
   "execution_count": 1,
   "id": "570afced-d2ee-4bc8-8b3b-a9d45348129c",
   "metadata": {},
   "outputs": [],
   "source": [
    "import pandas as pd"
   ]
  },
  {
   "cell_type": "code",
   "execution_count": 2,
   "id": "b1407a95-cc33-4092-b75a-408a94b98b8b",
   "metadata": {},
   "outputs": [],
   "source": [
    "marvel = pd.read_csv('Data/MarvelComicCaracters.csv', sep=';')"
   ]
  },
  {
   "cell_type": "markdown",
   "id": "4791ad89-47c4-4181-b126-bbbfedfd42c2",
   "metadata": {},
   "source": [
    "# Описание данных\n",
    "\n",
    "- name — оригинальное имя персонажа вселенной Marvel\n",
    "- align — принадлежность персонажа к доброй/злой/нейтральной стороне\n",
    "- eye — описание глаз персонажа\n",
    "- hair — описание волос персонажа\n",
    "- sex — пол персонажа\n",
    "- appearances — количество появлений персонажа\n",
    "- first_appearance — год первого появления персонажа"
   ]
  },
  {
   "cell_type": "code",
   "execution_count": 3,
   "id": "5bdc4e88-3e31-4fa0-a5d8-c1d934388857",
   "metadata": {},
   "outputs": [
    {
     "data": {
      "text/html": [
       "<div>\n",
       "<style scoped>\n",
       "    .dataframe tbody tr th:only-of-type {\n",
       "        vertical-align: middle;\n",
       "    }\n",
       "\n",
       "    .dataframe tbody tr th {\n",
       "        vertical-align: top;\n",
       "    }\n",
       "\n",
       "    .dataframe thead th {\n",
       "        text-align: right;\n",
       "    }\n",
       "</style>\n",
       "<table border=\"1\" class=\"dataframe\">\n",
       "  <thead>\n",
       "    <tr style=\"text-align: right;\">\n",
       "      <th></th>\n",
       "      <th>name</th>\n",
       "      <th>align</th>\n",
       "      <th>eye</th>\n",
       "      <th>hair</th>\n",
       "      <th>sex</th>\n",
       "      <th>appearances</th>\n",
       "      <th>first_appearance</th>\n",
       "    </tr>\n",
       "  </thead>\n",
       "  <tbody>\n",
       "    <tr>\n",
       "      <th>0</th>\n",
       "      <td>Spider-Man (Peter Parker)</td>\n",
       "      <td>Добрый персонаж</td>\n",
       "      <td>Карие глаза</td>\n",
       "      <td>Каштановые волосы</td>\n",
       "      <td>Мужской персонаж</td>\n",
       "      <td>4043.0</td>\n",
       "      <td>1962.0</td>\n",
       "    </tr>\n",
       "    <tr>\n",
       "      <th>1</th>\n",
       "      <td>Captain America (Steven Rogers)</td>\n",
       "      <td>Добрый персонаж</td>\n",
       "      <td>Голубые глаза</td>\n",
       "      <td>Белые волосы</td>\n",
       "      <td>Мужской персонаж</td>\n",
       "      <td>3360.0</td>\n",
       "      <td>1941.0</td>\n",
       "    </tr>\n",
       "    <tr>\n",
       "      <th>2</th>\n",
       "      <td>Wolverine (James \\\"Logan\\\" Howlett)</td>\n",
       "      <td>Нейтральный персонаж</td>\n",
       "      <td>Голубые глаза</td>\n",
       "      <td>Черные волосы</td>\n",
       "      <td>Мужской персонаж</td>\n",
       "      <td>3061.0</td>\n",
       "      <td>1974.0</td>\n",
       "    </tr>\n",
       "  </tbody>\n",
       "</table>\n",
       "</div>"
      ],
      "text/plain": [
       "                                  name                 align            eye  \\\n",
       "0            Spider-Man (Peter Parker)       Добрый персонаж    Карие глаза   \n",
       "1      Captain America (Steven Rogers)       Добрый персонаж  Голубые глаза   \n",
       "2  Wolverine (James \\\"Logan\\\" Howlett)  Нейтральный персонаж  Голубые глаза   \n",
       "\n",
       "                hair               sex  appearances  first_appearance  \n",
       "0  Каштановые волосы  Мужской персонаж       4043.0            1962.0  \n",
       "1       Белые волосы  Мужской персонаж       3360.0            1941.0  \n",
       "2      Черные волосы  Мужской персонаж       3061.0            1974.0  "
      ]
     },
     "execution_count": 3,
     "metadata": {},
     "output_type": "execute_result"
    }
   ],
   "source": [
    "marvel.head(n=3)"
   ]
  },
  {
   "cell_type": "markdown",
   "id": "2d78a643-440d-48eb-869b-a4332c0e716d",
   "metadata": {},
   "source": [
    "# Задания"
   ]
  },
  {
   "cell_type": "markdown",
   "id": "9c57f664-1bd2-4908-a809-e2531a566ef1",
   "metadata": {},
   "source": [
    "### Какой тип графика из перечисленных наиболее удобен для описания распределения переменной `appearances`? Выберите один верный ответ."
   ]
  },
  {
   "cell_type": "code",
   "execution_count": 4,
   "id": "00bf7e79-27db-4ceb-aa81-c5c30b1851b2",
   "metadata": {},
   "outputs": [
    {
     "data": {
      "image/png": "[encoded data removed]",
      "text/plain": [
       "<Figure size 432x288 with 1 Axes>"
      ]
     },
     "metadata": {
      "needs_background": "light"
     },
     "output_type": "display_data"
    }
   ],
   "source": [
    "marvel['appearances'].hist(bins=100);"
   ]
  },
  {
   "cell_type": "markdown",
   "id": "6d25a98f-51f0-4e5c-bbaa-476e7fc4f7d4",
   "metadata": {},
   "source": [
    "### Укажите, верно ли следующее утверждение: переменную `name` можно изобразить на интерпретируемом графике."
   ]
  },
  {
   "cell_type": "markdown",
   "id": "48413a1b-6aa4-494d-b52e-dd13ca955cd8",
   "metadata": {},
   "source": [
    "### По переменной `align` была построена частотная таблица. Укажите, какие ошибки были допущены в таблице. Чтобы проверить ее, постройте таблицу сами, используя удобную вам программу. Выберите один верный ответ.\n",
    "\n"
   ]
  },
  {
   "cell_type": "code",
   "execution_count": 11,
   "id": "7dcc1538-b219-493d-95ae-ada5213b766a",
   "metadata": {},
   "outputs": [
    {
     "data": {
      "text/plain": [
       "Злой персонаж           6720\n",
       "Добрый персонаж         4636\n",
       "Нейтральный персонаж    2208\n",
       "Name: align, dtype: int64"
      ]
     },
     "execution_count": 11,
     "metadata": {},
     "output_type": "execute_result"
    }
   ],
   "source": [
    "marvel['align'].value_counts(dropna=True)"
   ]
  },
  {
   "cell_type": "markdown",
   "id": "74fe7fb6-fe8c-4e03-9497-288ce518812e",
   "metadata": {},
   "source": [
    "### Определите три наиболее часто встречающих цвета глаз персонажей, выберите из данных только их и заполните частотную таблицу по переменной eye. В вариантах ответов представлены числа, которые могут быть записаны в таблицу. Выберите один верный ответ."
   ]
  },
  {
   "cell_type": "code",
   "execution_count": 14,
   "id": "70fb86ae-1ec3-4b87-84aa-9ba0c6be9695",
   "metadata": {},
   "outputs": [
    {
     "data": {
      "text/plain": [
       "array([[1962],\n",
       "       [1924],\n",
       "       [ 613]], dtype=int64)"
      ]
     },
     "execution_count": 14,
     "metadata": {},
     "output_type": "execute_result"
    }
   ],
   "source": [
    "pd.DataFrame(marvel['eye'].value_counts()).head(n=3).values"
   ]
  },
  {
   "cell_type": "markdown",
   "id": "8974ce6b-1c9d-4adc-8837-c60d89ec28cd",
   "metadata": {},
   "source": [
    "### Укажите, верно ли следующее утверждение: у мужских персонажей чаще всего встречаются темно-карие глаза."
   ]
  },
  {
   "cell_type": "code",
   "execution_count": 23,
   "id": "9d694b5f-b4d0-4ed5-b710-9a90903db27a",
   "metadata": {},
   "outputs": [
    {
     "data": {
      "text/plain": [
       "0    True\n",
       "dtype: bool"
      ]
     },
     "execution_count": 23,
     "metadata": {},
     "output_type": "execute_result"
    }
   ],
   "source": [
    "marvel.loc[marvel['sex'] == 'Мужской персонаж', 'eye'].mode() == 'Темно-карие глаза'"
   ]
  },
  {
   "cell_type": "markdown",
   "id": "44ab03c2-e47a-4dc8-98e3-0a07c6a5020d",
   "metadata": {},
   "source": [
    "### Постройте частотную таблицу для персонажей женского пола по переменной `eye`. У скольких из них золотые глаза? Введите ответ в виде целого числа."
   ]
  },
  {
   "cell_type": "code",
   "execution_count": 35,
   "id": "de3c072b-e969-412d-9cc7-26146f2757dd",
   "metadata": {},
   "outputs": [
    {
     "data": {
      "text/plain": [
       "3"
      ]
     },
     "execution_count": 35,
     "metadata": {},
     "output_type": "execute_result"
    }
   ],
   "source": [
    "marvel.loc[(marvel['sex'] == 'Женский персонаж') & (marvel['eye'] == 'Золотые глаза'), 'name'].nunique()"
   ]
  },
  {
   "cell_type": "markdown",
   "id": "85e59792-bdbc-4e06-aa73-18be55cce4ba",
   "metadata": {},
   "source": [
    "### Сколько раз появлялся добрый персонаж с пурпурными глазами? Введите ответ в виде целого числа.\n"
   ]
  },
  {
   "cell_type": "code",
   "execution_count": 75,
   "id": "a08da458-9a0f-4455-b8e3-a4edd6dd9e7a",
   "metadata": {},
   "outputs": [
    {
     "data": {
      "text/plain": [
       "21.0"
      ]
     },
     "execution_count": 75,
     "metadata": {},
     "output_type": "execute_result"
    }
   ],
   "source": [
    "marvel.loc[(marvel['align'] == 'Добрый персонаж') & (marvel['eye'] == 'Пурпурные глаза'), 'appearances'].sum()"
   ]
  },
  {
   "cell_type": "markdown",
   "id": "231fa4b0-46dc-4c9c-985a-4953f03b12c4",
   "metadata": {},
   "source": [
    "### Были выбраны самые часто встречающиеся цвета глаз персонажей. Далее, только по этим данным, построена столбчатая диаграмма. Что можно сказать, основываясь только на графике? Выберите один верный ответ."
   ]
  },
  {
   "cell_type": "code",
   "execution_count": 54,
   "id": "99a1e432-2516-4d34-b35c-11674a82e945",
   "metadata": {},
   "outputs": [
    {
     "data": {
      "image/png": "[encoded data removed]",
      "text/plain": [
       "<Figure size 432x288 with 1 Axes>"
      ]
     },
     "metadata": {
      "needs_background": "light"
     },
     "output_type": "display_data"
    }
   ],
   "source": [
    "marvel \\\n",
    "    .loc[marvel['eye'].isin(['Голубые глаза', 'Темно-карие глаза','Красные глаза', 'Зеленые глаза','Черные глаза']), :] \\\n",
    "    .pivot_table(index='eye', columns='align', values='name', aggfunc='count') \\\n",
    "    .plot(kind='bar', grid=True);"
   ]
  },
  {
   "cell_type": "markdown",
   "id": "fc5a77e7-7fd5-46bc-965b-3789622c0d78",
   "metadata": {},
   "source": [
    "### Укажите, верно ли следующее утверждение: больше всего персонажей в первый раз появилось в 1993 году."
   ]
  },
  {
   "cell_type": "code",
   "execution_count": 61,
   "id": "a268f6a9-8417-4bd4-b584-2751e3b3eec6",
   "metadata": {},
   "outputs": [
    {
     "data": {
      "text/plain": [
       "0    True\n",
       "dtype: bool"
      ]
     },
     "execution_count": 61,
     "metadata": {},
     "output_type": "execute_result"
    }
   ],
   "source": [
    "marvel['first_appearance'].mode() == 1993"
   ]
  },
  {
   "cell_type": "markdown",
   "id": "31c033b6-dd05-44b3-af46-05b6c4280733",
   "metadata": {},
   "source": [
    "### Сколько процентов (от общего числа персонажей) составляют мужские персонажи, которые появлялись больше 100 раз? В ответ запишите число (процент от 0 до 100), округлите до целого."
   ]
  },
  {
   "cell_type": "code",
   "execution_count": 72,
   "id": "ddd57a43-bf79-4bb2-8f7e-c3c1fdb272f4",
   "metadata": {},
   "outputs": [
    {
     "data": {
      "text/plain": [
       "2"
      ]
     },
     "execution_count": 72,
     "metadata": {},
     "output_type": "execute_result"
    }
   ],
   "source": [
    "round(\n",
    "    marvel[(marvel['sex'] == 'Мужской персонаж') & (marvel['appearances'] > 100)].shape[0] / marvel['name'].nunique() * 100\n",
    ")"
   ]
  },
  {
   "cell_type": "code",
   "execution_count": 66,
   "id": "42d4a4db-e9d7-48e2-b97b-42105ba5d2b3",
   "metadata": {},
   "outputs": [
    {
     "name": "stdout",
     "output_type": "stream",
     "text": [
      "name ['Spider-Man (Peter Parker)' 'Captain America (Steven Rogers)'\n",
      " 'Wolverine (James \\\\\"Logan\\\\\" Howlett)' ...\n",
      " 'Tinkerer (Skrull) (Earth-616)' 'TK421 (Spiderling) (Earth-616)'\n",
      " 'Yologarch (Earth-616)'] \n",
      "\n",
      "align ['Добрый персонаж' 'Нейтральный персонаж' 'Злой персонаж' nan] \n",
      "\n",
      "eye ['Карие глаза' 'Голубые глаза' 'Темно-карие глаза' 'Зеленые глаза'\n",
      " 'Серые глаза' 'Желтые глаза' 'Золотые глаза' 'Красные глаза'\n",
      " 'Черные глазные яблоки' 'Янтарные глаза' 'Разноцветные глаза' nan\n",
      " 'Черные глаза' 'Белые глаза' 'Оранжевые глаза' 'Серебристые глаза'\n",
      " 'Фиолетовые глаза' 'Розовые глаза' 'Один глаз' 'Лиловые глаза'\n",
      " 'Много глаз' 'Пурпурные глаза' 'Желтые глазные яблоки' 'Нет глаз'\n",
      " 'Фасеточные глаза'] \n",
      "\n",
      "hair ['Каштановые волосы' 'Белые волосы' 'Черные волосы' 'Русые волосы'\n",
      " 'Без волос' nan 'Серебристые волосы' 'Фиолетовые волосы'\n",
      " 'Светло-розовые волосы' 'Зеленые волосы' 'Рыжевато-соломенные волосы'\n",
      " 'Золотые волосы' 'Оранжевые волосы' 'Розовые волосы'\n",
      " 'Разноцветные волосы' 'Желтые волосы' 'Светло-каштановые волосы'\n",
      " 'Пурпурные волосы' 'Бронзовые волосы' 'Окрашенные волосы'\n",
      " 'Оранжево-каштановые волосы'] \n",
      "\n",
      "sex ['Мужской персонаж' 'Женский персонаж' 'Гендерфлюидный персонаж'\n",
      " 'Безполый персонаж' nan] \n",
      "\n",
      "appearances [4.043e+03 3.360e+03 3.061e+03 2.961e+03 2.258e+03 2.255e+03 2.072e+03\n",
      " 2.017e+03 1.955e+03 1.934e+03 1.825e+03 1.713e+03 1.528e+03 1.512e+03\n",
      " 1.394e+03 1.338e+03 1.307e+03 1.304e+03 1.266e+03 1.265e+03 1.237e+03\n",
      " 1.233e+03 1.230e+03 1.162e+03 1.161e+03 1.137e+03 1.120e+03 1.107e+03\n",
      " 1.050e+03 1.047e+03 1.007e+03 1.000e+03 8.860e+02 8.810e+02 8.800e+02\n",
      " 8.780e+02 8.560e+02 8.500e+02 7.870e+02 7.520e+02 7.400e+02 7.250e+02\n",
      " 7.210e+02 7.090e+02 7.080e+02 6.960e+02 6.920e+02 6.890e+02 6.860e+02\n",
      " 6.570e+02 6.410e+02 6.360e+02 6.180e+02 6.120e+02 5.990e+02 5.900e+02\n",
      " 5.670e+02 5.580e+02 5.500e+02 5.480e+02 5.320e+02 5.280e+02 5.260e+02\n",
      " 5.250e+02 5.170e+02 5.120e+02 5.030e+02 5.020e+02 5.000e+02 4.780e+02\n",
      " 4.740e+02 4.730e+02 4.710e+02 4.640e+02 4.480e+02 4.460e+02 4.330e+02\n",
      " 4.290e+02 4.260e+02 4.220e+02 4.150e+02 4.080e+02 4.060e+02 4.030e+02\n",
      " 3.900e+02 3.880e+02 3.870e+02 3.840e+02 3.820e+02 3.800e+02 3.760e+02\n",
      " 3.750e+02 3.740e+02 3.730e+02 3.710e+02 3.680e+02 3.660e+02 3.610e+02\n",
      " 3.530e+02 3.480e+02 3.460e+02 3.420e+02 3.400e+02 3.380e+02 3.320e+02\n",
      " 3.290e+02 3.270e+02 3.250e+02 3.240e+02 3.230e+02 3.210e+02 3.200e+02\n",
      " 3.190e+02 3.180e+02 3.170e+02 3.160e+02 3.130e+02 3.110e+02 3.100e+02\n",
      " 3.060e+02 2.960e+02 2.930e+02 2.900e+02 2.840e+02 2.800e+02 2.770e+02\n",
      " 2.760e+02 2.740e+02 2.730e+02 2.720e+02 2.710e+02 2.700e+02 2.670e+02\n",
      " 2.650e+02 2.640e+02 2.630e+02 2.610e+02 2.600e+02 2.590e+02 2.570e+02\n",
      " 2.550e+02 2.520e+02 2.500e+02 2.490e+02 2.480e+02 2.470e+02 2.450e+02\n",
      " 2.420e+02 2.400e+02 2.390e+02 2.380e+02 2.370e+02 2.360e+02 2.340e+02\n",
      " 2.310e+02 2.290e+02 2.270e+02 2.260e+02 2.250e+02 2.240e+02 2.230e+02\n",
      " 2.220e+02 2.210e+02 2.180e+02 2.170e+02 2.120e+02 2.110e+02 2.100e+02\n",
      " 2.090e+02 2.070e+02 2.050e+02 2.040e+02 2.030e+02 2.020e+02 2.000e+02\n",
      " 1.980e+02 1.970e+02 1.950e+02 1.940e+02 1.930e+02 1.900e+02 1.890e+02\n",
      " 1.880e+02 1.870e+02 1.840e+02 1.810e+02 1.800e+02 1.790e+02 1.780e+02\n",
      " 1.770e+02 1.760e+02 1.750e+02 1.740e+02 1.720e+02 1.710e+02 1.700e+02\n",
      " 1.690e+02 1.660e+02 1.650e+02 1.640e+02 1.630e+02 1.610e+02 1.600e+02\n",
      " 1.580e+02 1.570e+02 1.560e+02 1.550e+02 1.530e+02 1.520e+02 1.510e+02\n",
      " 1.500e+02 1.490e+02 1.480e+02 1.470e+02 1.460e+02 1.450e+02 1.440e+02\n",
      " 1.430e+02 1.420e+02 1.410e+02 1.400e+02 1.390e+02 1.380e+02 1.370e+02\n",
      " 1.360e+02 1.350e+02 1.340e+02 1.330e+02 1.320e+02 1.310e+02 1.300e+02\n",
      " 1.290e+02 1.280e+02 1.270e+02 1.260e+02 1.250e+02 1.240e+02 1.220e+02\n",
      " 1.210e+02 1.200e+02 1.190e+02 1.180e+02 1.160e+02 1.150e+02 1.140e+02\n",
      " 1.130e+02 1.120e+02 1.110e+02 1.100e+02 1.090e+02 1.080e+02 1.070e+02\n",
      " 1.060e+02 1.050e+02 1.040e+02 1.030e+02 1.020e+02 1.010e+02 1.000e+02\n",
      " 9.900e+01 9.800e+01 9.700e+01 9.600e+01 9.500e+01 9.400e+01 9.300e+01\n",
      " 9.200e+01 9.100e+01 9.000e+01 8.900e+01 8.800e+01 8.700e+01 8.600e+01\n",
      " 8.500e+01 8.400e+01 8.300e+01 8.200e+01 8.100e+01 8.000e+01 7.900e+01\n",
      " 7.800e+01 7.700e+01 7.600e+01 7.500e+01 7.400e+01 7.300e+01 7.200e+01\n",
      " 7.100e+01 7.000e+01 6.900e+01 6.800e+01 6.700e+01 6.600e+01 6.500e+01\n",
      " 6.400e+01 6.300e+01 6.200e+01 6.100e+01 6.000e+01 5.900e+01 5.800e+01\n",
      " 5.700e+01 5.600e+01 5.500e+01 5.400e+01 5.300e+01 5.200e+01 5.100e+01\n",
      " 5.000e+01 4.900e+01 4.800e+01 4.700e+01 4.600e+01 4.500e+01 4.400e+01\n",
      " 4.300e+01 4.200e+01 4.100e+01 4.000e+01 3.900e+01 3.800e+01 3.700e+01\n",
      " 3.600e+01 3.500e+01 3.400e+01 3.300e+01 3.200e+01 3.100e+01 3.000e+01\n",
      " 2.900e+01 2.800e+01 2.700e+01 2.600e+01 2.500e+01 2.400e+01 2.300e+01\n",
      " 2.200e+01 2.100e+01 2.000e+01 1.900e+01 1.800e+01 1.700e+01 1.600e+01\n",
      " 1.500e+01 1.400e+01 1.300e+01 1.200e+01 1.100e+01 1.000e+01 9.000e+00\n",
      " 8.000e+00 7.000e+00 6.000e+00 5.000e+00 4.000e+00 3.000e+00 2.000e+00\n",
      " 1.000e+00       nan] \n",
      "\n",
      "first_appearance [1962. 1941. 1974. 1963. 1950. 1961.   nan 1975. 1964. 1965. 1968. 1980.\n",
      " 1972. 1970. 1967. 1976. 1966. 1982. 1990. 1986. 1969. 1944. 1939. 1949.\n",
      " 1979. 1991. 1977. 1989. 1940. 1978. 1971. 1984. 2005. 1973. 1945. 1985.\n",
      " 1992. 1988. 1948. 1981. 2004. 1983. 2000. 2003. 1960. 1987. 1951. 1994.\n",
      " 2008. 2006. 2001. 2002. 1993. 1953. 1943. 1995. 1947. 1956. 2010. 1946.\n",
      " 1998. 2009. 1997. 1996. 2011. 1954. 2012. 1999. 1955. 2007. 2013. 1952.\n",
      " 1942. 1958. 1957. 1959.] \n",
      "\n"
     ]
    }
   ],
   "source": [
    "for i in marvel.columns:\n",
    "    print(i, marvel[i].unique(), '\\n')"
   ]
  },
  {
   "cell_type": "code",
   "execution_count": null,
   "id": "a9d087d3-b368-4fec-a1a4-1dd59b435d19",
   "metadata": {},
   "outputs": [],
   "source": []
  }
 ],
 "metadata": {
  "kernelspec": {
   "display_name": "Python 3 (ipykernel)",
   "language": "python",
   "name": "python3"
  },
  "language_info": {
   "codemirror_mode": {
    "name": "ipython",
    "version": 3
   },
   "file_extension": ".py",
   "mimetype": "text/x-python",
   "name": "python",
   "nbconvert_exporter": "python",
   "pygments_lexer": "ipython3",
   "version": "3.9.7"
  }
 },
 "nbformat": 4,
 "nbformat_minor": 5
}
