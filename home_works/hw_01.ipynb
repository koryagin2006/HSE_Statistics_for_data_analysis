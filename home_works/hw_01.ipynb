{
 "cells": [
  {
   "cell_type": "code",
   "execution_count": 1,
   "id": "0de7a266-f466-4c1f-a4fa-fda87effbc66",
   "metadata": {},
   "outputs": [
    {
     "data": {
      "text/html": [
       "<style>.container { width:90% !important; }</style>"
      ],
      "text/plain": [
       "<IPython.core.display.HTML object>"
      ]
     },
     "metadata": {},
     "output_type": "display_data"
    }
   ],
   "source": [
    "import pandas as pd\n",
    "import numpy as np\n",
    "import os\n",
    "\n",
    "pd.set_option('max_colwidth', 200)\n",
    "pd.set_option('display.width', 400)\n",
    "\n",
    "from IPython.core.display import display, HTML\n",
    "display(HTML(\"<style>.container { width:90% !important; }</style>\"))\n",
    "\n",
    "from pprint import pprint\n",
    "from pathlib import Path"
   ]
  },
  {
   "cell_type": "code",
   "execution_count": 7,
   "id": "efd0eb31-f5aa-42dc-9a18-a286ed64d6c6",
   "metadata": {},
   "outputs": [],
   "source": [
    "star_wars = pd.read_csv('./Data/StarWars.csv', sep=';')"
   ]
  },
  {
   "cell_type": "code",
   "execution_count": 13,
   "id": "fec59893-e5a1-44b8-9897-10976afe4efb",
   "metadata": {},
   "outputs": [
    {
     "data": {
      "text/html": [
       "<div>\n",
       "<style scoped>\n",
       "    .dataframe tbody tr th:only-of-type {\n",
       "        vertical-align: middle;\n",
       "    }\n",
       "\n",
       "    .dataframe tbody tr th {\n",
       "        vertical-align: top;\n",
       "    }\n",
       "\n",
       "    .dataframe thead th {\n",
       "        text-align: right;\n",
       "    }\n",
       "</style>\n",
       "<table border=\"1\" class=\"dataframe\">\n",
       "  <thead>\n",
       "    <tr style=\"text-align: right;\">\n",
       "      <th></th>\n",
       "      <th>respondentID</th>\n",
       "      <th>seen</th>\n",
       "      <th>fan</th>\n",
       "      <th>gender</th>\n",
       "      <th>age_group</th>\n",
       "      <th>income</th>\n",
       "      <th>loc</th>\n",
       "      <th>yoda</th>\n",
       "      <th>princess_leia_organa</th>\n",
       "    </tr>\n",
       "  </thead>\n",
       "  <tbody>\n",
       "    <tr>\n",
       "      <th>0</th>\n",
       "      <td>3292879998</td>\n",
       "      <td>да</td>\n",
       "      <td>да</td>\n",
       "      <td>М</td>\n",
       "      <td>18-29</td>\n",
       "      <td>NaN</td>\n",
       "      <td>Южно-Атлантический</td>\n",
       "      <td>очень нравится</td>\n",
       "      <td>очень нравится</td>\n",
       "    </tr>\n",
       "    <tr>\n",
       "      <th>1</th>\n",
       "      <td>3292879538</td>\n",
       "      <td>нет</td>\n",
       "      <td>NaN</td>\n",
       "      <td>М</td>\n",
       "      <td>18-29</td>\n",
       "      <td>0 - 24.999</td>\n",
       "      <td>Юго-Западный центральный</td>\n",
       "      <td>NaN</td>\n",
       "      <td>NaN</td>\n",
       "    </tr>\n",
       "    <tr>\n",
       "      <th>2</th>\n",
       "      <td>3292765271</td>\n",
       "      <td>да</td>\n",
       "      <td>нет</td>\n",
       "      <td>М</td>\n",
       "      <td>18-29</td>\n",
       "      <td>0 - 24.999</td>\n",
       "      <td>Северо-Западный центральный</td>\n",
       "      <td>не знаю такого персонажа</td>\n",
       "      <td>нравится</td>\n",
       "    </tr>\n",
       "    <tr>\n",
       "      <th>3</th>\n",
       "      <td>3292763116</td>\n",
       "      <td>да</td>\n",
       "      <td>да</td>\n",
       "      <td>М</td>\n",
       "      <td>18-29</td>\n",
       "      <td>100.000 - 149.999</td>\n",
       "      <td>Северо-Западный центральный</td>\n",
       "      <td>очень нравится</td>\n",
       "      <td>очень нравится</td>\n",
       "    </tr>\n",
       "    <tr>\n",
       "      <th>4</th>\n",
       "      <td>3292731220</td>\n",
       "      <td>да</td>\n",
       "      <td>да</td>\n",
       "      <td>М</td>\n",
       "      <td>18-29</td>\n",
       "      <td>100.000 - 149.999</td>\n",
       "      <td>Северо-Западный центральный</td>\n",
       "      <td>нравится</td>\n",
       "      <td>нравится</td>\n",
       "    </tr>\n",
       "  </tbody>\n",
       "</table>\n",
       "</div>"
      ],
      "text/plain": [
       "   respondentID seen  fan gender age_group             income                          loc                      yoda princess_leia_organa\n",
       "0    3292879998   да   да      М     18-29                NaN           Южно-Атлантический            очень нравится       очень нравится\n",
       "1    3292879538  нет  NaN      М     18-29         0 - 24.999     Юго-Западный центральный                       NaN                  NaN\n",
       "2    3292765271   да  нет      М     18-29         0 - 24.999  Северо-Западный центральный  не знаю такого персонажа             нравится\n",
       "3    3292763116   да   да      М     18-29  100.000 - 149.999  Северо-Западный центральный            очень нравится       очень нравится\n",
       "4    3292731220   да   да      М     18-29  100.000 - 149.999  Северо-Западный центральный                  нравится             нравится"
      ]
     },
     "execution_count": 13,
     "metadata": {},
     "output_type": "execute_result"
    }
   ],
   "source": [
    "star_wars.head()"
   ]
  },
  {
   "cell_type": "markdown",
   "id": "5e80c0e9-b21b-4d09-9a07-2da8a289a384",
   "metadata": {},
   "source": [
    "# Описание данных\n",
    "\n",
    "- respondentID — идентификационный номер респондента\n",
    "- seen — ответ на вопрос, видел ли респондент хотя бы один фильм из серии «Звездных войн» (да/нет)\n",
    "- fan — ответ на вопрос, считает ли респондент себя фанатом серии фильмов (да/нет)\n",
    "- gender — пол респондента (М/Ж)\n",
    "- age_group — возрастная группа, к которой принадлежит респондент (18-29, 30-44, 45-60, > 60)\n",
    "- income — доход респондента в долларах США (0 - 24.999, 25.000 - 49.999, 50.000 - 99.999, 100.000 - 149.999, 150.000+)\n",
    "- loc — регион проживания респондента (в США)\n",
    "- yoda — отношение респондента к персонажу серии (Йоде)\n",
    "- princess_leia_organa — отношение респондента к персонажу серии (принцессе Лее Органе)"
   ]
  },
  {
   "cell_type": "markdown",
   "id": "fb9f82cc-5f10-451a-adbe-9c94cc463fd8",
   "metadata": {},
   "source": [
    "# Задания"
   ]
  },
  {
   "cell_type": "markdown",
   "id": "b6eb2a55-6722-4ebf-8358-0e3f88515a9d",
   "metadata": {},
   "source": [
    "#### К какой шкале относится переменная loc? Выберите один верный ответ."
   ]
  },
  {
   "cell_type": "code",
   "execution_count": 11,
   "id": "5eb4b5eb-b3b8-4671-88be-2726f186c7f8",
   "metadata": {},
   "outputs": [
    {
     "data": {
      "text/plain": [
       "array(['Южно-Атлантический', 'Юго-Западный центральный',\n",
       "       'Северо-Западный центральный', 'Средне-Атлантический',\n",
       "       'Северо-Восточный центральный', 'Тихоокеанский', nan, 'Горный',\n",
       "       'Новая Англия', 'Юго-Восточный центральный'], dtype=object)"
      ]
     },
     "execution_count": 11,
     "metadata": {},
     "output_type": "execute_result"
    }
   ],
   "source": [
    "star_wars['loc'].unique()"
   ]
  },
  {
   "cell_type": "markdown",
   "id": "1866f24a-ac17-40bd-afad-2e3655e48a34",
   "metadata": {},
   "source": [
    "#### Укажите, верно ли следующее утверждение: мужчины 18-29 лет, которые не являются фанатами серии, чаще всего проживают в Тихоокеанском регионе."
   ]
  },
  {
   "cell_type": "code",
   "execution_count": 32,
   "id": "59acc524-9706-4071-8aee-ecaba8748aed",
   "metadata": {},
   "outputs": [
    {
     "data": {
      "text/plain": [
       "0    Тихоокеанский\n",
       "dtype: object"
      ]
     },
     "execution_count": 32,
     "metadata": {},
     "output_type": "execute_result"
    }
   ],
   "source": [
    "star_wars.loc[\n",
    "    (star_wars['gender'] == 'М') &\n",
    "    (star_wars['fan'] != 'да')\n",
    "    ,\n",
    "    'loc'\n",
    "].mode()"
   ]
  },
  {
   "cell_type": "markdown",
   "id": "a07edba9-f6e7-4f8e-ad1f-132117ba1959",
   "metadata": {},
   "source": [
    "#### Какой регион проживания реже всего встречается в данных? Выберите один верный ответ."
   ]
  },
  {
   "cell_type": "code",
   "execution_count": 59,
   "id": "7046164f-4f53-4e29-9718-5b04a22c7b5a",
   "metadata": {},
   "outputs": [
    {
     "data": {
      "text/html": [
       "<div>\n",
       "<style scoped>\n",
       "    .dataframe tbody tr th:only-of-type {\n",
       "        vertical-align: middle;\n",
       "    }\n",
       "\n",
       "    .dataframe tbody tr th {\n",
       "        vertical-align: top;\n",
       "    }\n",
       "\n",
       "    .dataframe thead th {\n",
       "        text-align: right;\n",
       "    }\n",
       "</style>\n",
       "<table border=\"1\" class=\"dataframe\">\n",
       "  <thead>\n",
       "    <tr style=\"text-align: right;\">\n",
       "      <th></th>\n",
       "      <th>loc</th>\n",
       "    </tr>\n",
       "  </thead>\n",
       "  <tbody>\n",
       "    <tr>\n",
       "      <th>Юго-Восточный центральный</th>\n",
       "      <td>38</td>\n",
       "    </tr>\n",
       "  </tbody>\n",
       "</table>\n",
       "</div>"
      ],
      "text/plain": [
       "                           loc\n",
       "Юго-Восточный центральный   38"
      ]
     },
     "execution_count": 59,
     "metadata": {},
     "output_type": "execute_result"
    }
   ],
   "source": [
    "pd.DataFrame(star_wars['loc'].value_counts()).sort_values('loc').head(1)"
   ]
  },
  {
   "cell_type": "markdown",
   "id": "2b750855-c274-4a35-ad8b-920cdaef6bf6",
   "metadata": {},
   "source": [
    "#### Сколько респондентов не ответили на вопрос, нравится ли им Йода? Выберите один верный ответ."
   ]
  },
  {
   "cell_type": "code",
   "execution_count": 50,
   "id": "43c10cfb-2443-4366-9194-df20f1e68ddb",
   "metadata": {},
   "outputs": [
    {
     "data": {
      "text/plain": [
       "360"
      ]
     },
     "execution_count": 50,
     "metadata": {},
     "output_type": "execute_result"
    }
   ],
   "source": [
    "star_wars[star_wars['yoda'].isna()].shape[0]"
   ]
  },
  {
   "cell_type": "markdown",
   "id": "a86f2010-e276-4b1b-aff9-ead73bfaa17e",
   "metadata": {},
   "source": [
    "#### Скольким респондентам из Новой Англии очень нравится принцесса Лея Органа? Выберите один верный ответ."
   ]
  },
  {
   "cell_type": "code",
   "execution_count": 56,
   "id": "b47c19ed-b337-4d3a-9442-7cded0bb468d",
   "metadata": {},
   "outputs": [
    {
     "data": {
      "text/plain": [
       "39"
      ]
     },
     "execution_count": 56,
     "metadata": {},
     "output_type": "execute_result"
    }
   ],
   "source": [
    "star_wars.loc[\n",
    "    (star_wars['loc'] == 'Новая Англия') &\n",
    "    (star_wars['princess_leia_organa'] == 'очень нравится')\n",
    "    ,:].shape[0]"
   ]
  }
 ],
 "metadata": {
  "kernelspec": {
   "display_name": "Python 3 (ipykernel)",
   "language": "python",
   "name": "python3"
  },
  "language_info": {
   "codemirror_mode": {
    "name": "ipython",
    "version": 3
   },
   "file_extension": ".py",
   "mimetype": "text/x-python",
   "name": "python",
   "nbconvert_exporter": "python",
   "pygments_lexer": "ipython3",
   "version": "3.9.7"
  },
  "toc-showcode": false
 },
 "nbformat": 4,
 "nbformat_minor": 5
}
