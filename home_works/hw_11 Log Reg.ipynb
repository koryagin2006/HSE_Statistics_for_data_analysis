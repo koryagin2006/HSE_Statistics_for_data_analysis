{
 "cells": [
  {
   "cell_type": "code",
   "execution_count": 1,
   "id": "000bd104-fb54-418e-8a71-b450e88e8585",
   "metadata": {},
   "outputs": [
    {
     "data": {
      "text/html": [
       "<style>.container { width:70% !important; }</style>"
      ],
      "text/plain": [
       "<IPython.core.display.HTML object>"
      ]
     },
     "metadata": {},
     "output_type": "display_data"
    }
   ],
   "source": [
    "import pandas as pd\n",
    "import numpy as np\n",
    "import scipy.stats as st\n",
    "import statsmodels.api as sm\n",
    "\n",
    "import seaborn as sns\n",
    "import matplotlib.pyplot as plt\n",
    "\n",
    "pd.set_option('max_colwidth', 200)\n",
    "pd.set_option('display.width', 400)\n",
    "\n",
    "from IPython.core.display import display, HTML\n",
    "display(HTML(\"<style>.container { width:70% !important; }</style>\"))"
   ]
  },
  {
   "cell_type": "markdown",
   "id": "50a38683",
   "metadata": {},
   "source": [
    "# Тест на оценку"
   ]
  },
  {
   "cell_type": "code",
   "execution_count": 7,
   "id": "2f799f30",
   "metadata": {},
   "outputs": [
    {
     "data": {
      "text/html": [
       "<div>\n",
       "<style scoped>\n",
       "    .dataframe tbody tr th:only-of-type {\n",
       "        vertical-align: middle;\n",
       "    }\n",
       "\n",
       "    .dataframe tbody tr th {\n",
       "        vertical-align: top;\n",
       "    }\n",
       "\n",
       "    .dataframe thead th {\n",
       "        text-align: right;\n",
       "    }\n",
       "</style>\n",
       "<table border=\"1\" class=\"dataframe\">\n",
       "  <thead>\n",
       "    <tr style=\"text-align: right;\">\n",
       "      <th></th>\n",
       "      <th>competitorname</th>\n",
       "      <th>chocolate</th>\n",
       "      <th>fruity</th>\n",
       "      <th>caramel</th>\n",
       "      <th>peanutyalmondy</th>\n",
       "      <th>nougat</th>\n",
       "      <th>crispedricewafer</th>\n",
       "      <th>hard</th>\n",
       "      <th>bar</th>\n",
       "      <th>pluribus</th>\n",
       "      <th>sugarpercent</th>\n",
       "      <th>pricepercent</th>\n",
       "      <th>winpercent</th>\n",
       "    </tr>\n",
       "  </thead>\n",
       "  <tbody>\n",
       "    <tr>\n",
       "      <th>0</th>\n",
       "      <td>100 Grand</td>\n",
       "      <td>1</td>\n",
       "      <td>0</td>\n",
       "      <td>1</td>\n",
       "      <td>0</td>\n",
       "      <td>0</td>\n",
       "      <td>1</td>\n",
       "      <td>0</td>\n",
       "      <td>1</td>\n",
       "      <td>0</td>\n",
       "      <td>0.732</td>\n",
       "      <td>0.860</td>\n",
       "      <td>66.971725</td>\n",
       "    </tr>\n",
       "    <tr>\n",
       "      <th>1</th>\n",
       "      <td>3 Musketeers</td>\n",
       "      <td>1</td>\n",
       "      <td>0</td>\n",
       "      <td>0</td>\n",
       "      <td>0</td>\n",
       "      <td>1</td>\n",
       "      <td>0</td>\n",
       "      <td>0</td>\n",
       "      <td>1</td>\n",
       "      <td>0</td>\n",
       "      <td>0.604</td>\n",
       "      <td>0.511</td>\n",
       "      <td>67.602936</td>\n",
       "    </tr>\n",
       "    <tr>\n",
       "      <th>2</th>\n",
       "      <td>One dime</td>\n",
       "      <td>0</td>\n",
       "      <td>0</td>\n",
       "      <td>0</td>\n",
       "      <td>0</td>\n",
       "      <td>0</td>\n",
       "      <td>0</td>\n",
       "      <td>0</td>\n",
       "      <td>0</td>\n",
       "      <td>0</td>\n",
       "      <td>0.011</td>\n",
       "      <td>0.116</td>\n",
       "      <td>32.261086</td>\n",
       "    </tr>\n",
       "  </tbody>\n",
       "</table>\n",
       "</div>"
      ],
      "text/plain": [
       "  competitorname  chocolate  fruity  caramel  peanutyalmondy  nougat  crispedricewafer  hard  bar  pluribus  sugarpercent  pricepercent  winpercent\n",
       "0      100 Grand          1       0        1               0       0                 1     0    1         0         0.732         0.860   66.971725\n",
       "1   3 Musketeers          1       0        0               0       1                 0     0    1         0         0.604         0.511   67.602936\n",
       "2       One dime          0       0        0               0       0                 0     0    0         0         0.011         0.116   32.261086"
      ]
     },
     "execution_count": 7,
     "metadata": {},
     "output_type": "execute_result"
    }
   ],
   "source": [
    "df = pd.read_csv('../Data/CandyData.csv')\n",
    "df.head(3)"
   ]
  },
  {
   "cell_type": "markdown",
   "id": "28641ed6-09bd-4541-8608-21f5bcf9395a",
   "metadata": {},
   "source": [
    "## Описание данных\n",
    "\n",
    "- chocolate/fruity/caramel/peanutalmondy/nougat/crispedricewafer — содержит ли конфета шоколад/фруктовый ароматизатор/карамель/арахис/нугу/воздушный рис (1 – да/ 0 – нет)\n",
    "- hard — конфета твердая (1 – да/ 0 – нет)\n",
    "- bar — конфета похожа на батончик (1 – да/ 0 – нет)\n",
    "- pluribus — в упаковке одна конфета или несколько (1 – несколько/ 0 – одна)\n",
    "- sugarpercent — процент сахара в конфете\n",
    "- pricepercent — цена конфеты\n",
    "- winpercent — рейтинг конфеты"
   ]
  },
  {
   "cell_type": "code",
   "execution_count": 8,
   "id": "c15e7946",
   "metadata": {},
   "outputs": [],
   "source": [
    "df['winpercent_0_1'] = np.where(df['winpercent'] >= 50, 1, 0)"
   ]
  },
  {
   "cell_type": "code",
   "execution_count": 9,
   "id": "850df882",
   "metadata": {},
   "outputs": [
    {
     "data": {
      "text/html": [
       "<div>\n",
       "<style scoped>\n",
       "    .dataframe tbody tr th:only-of-type {\n",
       "        vertical-align: middle;\n",
       "    }\n",
       "\n",
       "    .dataframe tbody tr th {\n",
       "        vertical-align: top;\n",
       "    }\n",
       "\n",
       "    .dataframe thead th {\n",
       "        text-align: right;\n",
       "    }\n",
       "</style>\n",
       "<table border=\"1\" class=\"dataframe\">\n",
       "  <thead>\n",
       "    <tr style=\"text-align: right;\">\n",
       "      <th></th>\n",
       "      <th>competitorname</th>\n",
       "      <th>chocolate</th>\n",
       "      <th>fruity</th>\n",
       "      <th>caramel</th>\n",
       "      <th>peanutyalmondy</th>\n",
       "      <th>nougat</th>\n",
       "      <th>crispedricewafer</th>\n",
       "      <th>hard</th>\n",
       "      <th>bar</th>\n",
       "      <th>pluribus</th>\n",
       "      <th>sugarpercent</th>\n",
       "      <th>pricepercent</th>\n",
       "      <th>winpercent</th>\n",
       "      <th>winpercent_0_1</th>\n",
       "    </tr>\n",
       "  </thead>\n",
       "  <tbody>\n",
       "    <tr>\n",
       "      <th>0</th>\n",
       "      <td>100 Grand</td>\n",
       "      <td>1</td>\n",
       "      <td>0</td>\n",
       "      <td>1</td>\n",
       "      <td>0</td>\n",
       "      <td>0</td>\n",
       "      <td>1</td>\n",
       "      <td>0</td>\n",
       "      <td>1</td>\n",
       "      <td>0</td>\n",
       "      <td>0.732</td>\n",
       "      <td>0.860</td>\n",
       "      <td>66.971725</td>\n",
       "      <td>1</td>\n",
       "    </tr>\n",
       "    <tr>\n",
       "      <th>1</th>\n",
       "      <td>3 Musketeers</td>\n",
       "      <td>1</td>\n",
       "      <td>0</td>\n",
       "      <td>0</td>\n",
       "      <td>0</td>\n",
       "      <td>1</td>\n",
       "      <td>0</td>\n",
       "      <td>0</td>\n",
       "      <td>1</td>\n",
       "      <td>0</td>\n",
       "      <td>0.604</td>\n",
       "      <td>0.511</td>\n",
       "      <td>67.602936</td>\n",
       "      <td>1</td>\n",
       "    </tr>\n",
       "    <tr>\n",
       "      <th>2</th>\n",
       "      <td>One dime</td>\n",
       "      <td>0</td>\n",
       "      <td>0</td>\n",
       "      <td>0</td>\n",
       "      <td>0</td>\n",
       "      <td>0</td>\n",
       "      <td>0</td>\n",
       "      <td>0</td>\n",
       "      <td>0</td>\n",
       "      <td>0</td>\n",
       "      <td>0.011</td>\n",
       "      <td>0.116</td>\n",
       "      <td>32.261086</td>\n",
       "      <td>0</td>\n",
       "    </tr>\n",
       "    <tr>\n",
       "      <th>3</th>\n",
       "      <td>One quarter</td>\n",
       "      <td>0</td>\n",
       "      <td>0</td>\n",
       "      <td>0</td>\n",
       "      <td>0</td>\n",
       "      <td>0</td>\n",
       "      <td>0</td>\n",
       "      <td>0</td>\n",
       "      <td>0</td>\n",
       "      <td>0</td>\n",
       "      <td>0.011</td>\n",
       "      <td>0.511</td>\n",
       "      <td>46.116505</td>\n",
       "      <td>0</td>\n",
       "    </tr>\n",
       "    <tr>\n",
       "      <th>4</th>\n",
       "      <td>Air Heads</td>\n",
       "      <td>0</td>\n",
       "      <td>1</td>\n",
       "      <td>0</td>\n",
       "      <td>0</td>\n",
       "      <td>0</td>\n",
       "      <td>0</td>\n",
       "      <td>0</td>\n",
       "      <td>0</td>\n",
       "      <td>0</td>\n",
       "      <td>0.906</td>\n",
       "      <td>0.511</td>\n",
       "      <td>52.341465</td>\n",
       "      <td>1</td>\n",
       "    </tr>\n",
       "  </tbody>\n",
       "</table>\n",
       "</div>"
      ],
      "text/plain": [
       "  competitorname  chocolate  fruity  caramel  peanutyalmondy  nougat  crispedricewafer  hard  bar  pluribus  sugarpercent  pricepercent  winpercent  winpercent_0_1\n",
       "0      100 Grand          1       0        1               0       0                 1     0    1         0         0.732         0.860   66.971725               1\n",
       "1   3 Musketeers          1       0        0               0       1                 0     0    1         0         0.604         0.511   67.602936               1\n",
       "2       One dime          0       0        0               0       0                 0     0    0         0         0.011         0.116   32.261086               0\n",
       "3    One quarter          0       0        0               0       0                 0     0    0         0         0.011         0.511   46.116505               0\n",
       "4      Air Heads          0       1        0               0       0                 0     0    0         0         0.906         0.511   52.341465               1"
      ]
     },
     "execution_count": 9,
     "metadata": {},
     "output_type": "execute_result"
    }
   ],
   "source": [
    "df.head()"
   ]
  },
  {
   "cell_type": "markdown",
   "id": "188dcae1-4c3a-4c54-b2cd-83039b16c212",
   "metadata": {},
   "source": [
    "## Задания"
   ]
  },
  {
   "cell_type": "markdown",
   "id": "4dccfa01",
   "metadata": {},
   "source": [
    "### Постройте логистическую модель, где зависимой переменной выступает `winpercent_0_1`, а независимой – `sugarpercent`. Выберите верную интерпретацию константы."
   ]
  },
  {
   "cell_type": "code",
   "execution_count": 13,
   "id": "42171e5d",
   "metadata": {},
   "outputs": [
    {
     "name": "stdout",
     "output_type": "stream",
     "text": [
      "Optimization terminated successfully.\n",
      "         Current function value: 0.672972\n",
      "         Iterations 4\n",
      "                           Logit Regression Results                           \n",
      "==============================================================================\n",
      "Dep. Variable:         winpercent_0_1   No. Observations:                   85\n",
      "Model:                          Logit   Df Residuals:                       83\n",
      "Method:                           MLE   Df Model:                            1\n",
      "Date:                Sun, 05 Jun 2022   Pseudo R-squ.:                 0.02433\n",
      "Time:                        11:01:52   Log-Likelihood:                -57.203\n",
      "converged:                       True   LL-Null:                       -58.629\n",
      "Covariance Type:            nonrobust   LLR p-value:                   0.09122\n",
      "================================================================================\n",
      "                   coef    std err          z      P>|z|      [0.025      0.975]\n",
      "--------------------------------------------------------------------------------\n",
      "sugarpercent     1.3276      0.798      1.663      0.096      -0.237       2.892\n",
      "const           -0.8058      0.447     -1.803      0.071      -1.682       0.070\n",
      "================================================================================\n"
     ]
    }
   ],
   "source": [
    "X = df[['sugarpercent']].assign(const=1)\n",
    "y = df['winpercent_0_1']\n",
    "model_logit = sm.Logit(y, X)\n",
    "result = model_logit.fit()\n",
    "print(result.summary())"
   ]
  },
  {
   "cell_type": "code",
   "execution_count": 17,
   "id": "e2a76ec7",
   "metadata": {},
   "outputs": [
    {
     "data": {
      "text/plain": [
       "0.4467303992481016"
      ]
     },
     "execution_count": 17,
     "metadata": {},
     "output_type": "execute_result"
    }
   ],
   "source": [
    "np.exp(-0.8058)"
   ]
  },
  {
   "cell_type": "markdown",
   "id": "86ecee78",
   "metadata": {},
   "source": [
    " - [ ] При равным нулю процентном содержании сахара шанс, что у конфеты будет высокий рейтинг, ниже в 2.23 раза\n",
    " - [x] При равным нулю процентном содержании сахара шанс, что у конфеты будет высокий рейтинг, ниже в 0.44 раза\n",
    " - [ ] При равным нулю процентном содержании сахара шанс, что у конфеты будет низкий рейтинг, ниже в 2.23 раза\n",
    " - [ ] При равным нулю процентном содержании сахара шанс, что у конфеты будет низкий рейтинг, ниже в 0.44 раза"
   ]
  },
  {
   "cell_type": "markdown",
   "id": "8d87b6ef",
   "metadata": {},
   "source": [
    "### Постройте логистическую модель, где зависимой переменной выступает `winpercent_0_1`, а независимой – `sugarpercent`. Выберите верную интерпретацию коэффициента при объясняющей переменной. Выберите один верный ответ."
   ]
  },
  {
   "cell_type": "code",
   "execution_count": 18,
   "id": "c7d8cdc4",
   "metadata": {},
   "outputs": [
    {
     "data": {
      "text/plain": [
       "3.771979764137272"
      ]
     },
     "execution_count": 18,
     "metadata": {},
     "output_type": "execute_result"
    }
   ],
   "source": [
    "np.exp(1.3276)"
   ]
  },
  {
   "cell_type": "markdown",
   "id": "e1b6cb03",
   "metadata": {},
   "source": [
    "- [x] При увеличении процента содержания сахара на 1 шанс, что у конфеты будет высокий рейтинг, увеличивается в 3.77 раза\n",
    "- [ ] При увеличении процента содержания сахара на 1 шанс, что у конфеты будет высокий рейтинг, увеличивается в 1.32 раза\n",
    "- [ ] При увеличении процента содержания сахара на 1 шанс, что у конфеты будет низкий рейтинг, увеличивается в 3.77 раза\n",
    "- [ ] При увеличении процента содержания сахара на 1 шанс, что у конфеты будет низкий рейтинг, увеличивается в 1.32 раза"
   ]
  },
  {
   "cell_type": "markdown",
   "id": "7b9641ae",
   "metadata": {},
   "source": [
    "### Постройте логистическую модель, где зависимой переменной выступает `winpercent_0_1`, а независимой – `sugarpercent`. Укажите, верно ли следующее утверждение: на уровне значимости 0.05 процент сахара в конфете статистически значимо влияет на рейтинг конфеты."
   ]
  },
  {
   "cell_type": "markdown",
   "id": "23c65b12",
   "metadata": {},
   "source": [
    "### Постройте логистическую модель, где зависимой переменной выступает `winpercent_0_1`, а независимой – `sugarpercent`. Чему будет равен псевдо R-квадрат в данной модели? Выберите один верный ответ."
   ]
  },
  {
   "cell_type": "code",
   "execution_count": 19,
   "id": "7c51b9b3",
   "metadata": {},
   "outputs": [
    {
     "data": {
      "text/plain": [
       "0.02433"
      ]
     },
     "execution_count": 19,
     "metadata": {},
     "output_type": "execute_result"
    }
   ],
   "source": [
    "0.02433"
   ]
  },
  {
   "cell_type": "markdown",
   "id": "a851b6d7",
   "metadata": {},
   "source": [
    "### Постройте логистическую модель, где зависимой переменной выступает `winpercent_0_1`, а независимыми – `sugarpercent` и `pricepercent`. Чему будет равено отношение шансов при цене конфеты? Введите ответ в виде десятичной дроби, округлите до двух знаков после запятой."
   ]
  },
  {
   "cell_type": "code",
   "execution_count": 23,
   "id": "a5b67379",
   "metadata": {},
   "outputs": [
    {
     "name": "stdout",
     "output_type": "stream",
     "text": [
      "Optimization terminated successfully.\n",
      "         Current function value: 0.619123\n",
      "         Iterations 5\n",
      "                           Logit Regression Results                           \n",
      "==============================================================================\n",
      "Dep. Variable:         winpercent_0_1   No. Observations:                   85\n",
      "Model:                          Logit   Df Residuals:                       82\n",
      "Method:                           MLE   Df Model:                            2\n",
      "Date:                Sun, 05 Jun 2022   Pseudo R-squ.:                  0.1024\n",
      "Time:                        11:16:05   Log-Likelihood:                -52.625\n",
      "converged:                       True   LL-Null:                       -58.629\n",
      "Covariance Type:            nonrobust   LLR p-value:                  0.002470\n",
      "================================================================================\n",
      "                   coef    std err          z      P>|z|      [0.025      0.975]\n",
      "--------------------------------------------------------------------------------\n",
      "sugarpercent     0.5896      0.881      0.669      0.503      -1.137       2.316\n",
      "pricepercent     2.6012      0.906      2.871      0.004       0.825       4.377\n",
      "const           -1.6935      0.580     -2.918      0.004      -2.831      -0.556\n",
      "================================================================================\n"
     ]
    }
   ],
   "source": [
    "X = df[['sugarpercent', 'pricepercent']].assign(const=1)\n",
    "y = df['winpercent_0_1']\n",
    "model = sm.Logit(y, X)\n",
    "result = model.fit()\n",
    "print(result.summary())"
   ]
  },
  {
   "cell_type": "code",
   "execution_count": 25,
   "id": "6bef8165",
   "metadata": {},
   "outputs": [
    {
     "data": {
      "text/plain": [
       "0.13377446420340544"
      ]
     },
     "execution_count": 25,
     "metadata": {},
     "output_type": "execute_result"
    }
   ],
   "source": [
    "oods_sugar = np.exp(0.5896)\n",
    "oods_price= np.exp(2.6012)\n",
    "\n",
    "result = oods_sugar / oods_price\n",
    "result"
   ]
  },
  {
   "cell_type": "markdown",
   "id": "4304e6da",
   "metadata": {},
   "source": [
    "### Постройте логистическую модель, где зависимой переменной выступает `winpercent_0_1`, а независимыми – `sugarpercent` и `pricepercent`. Чему будет равно отношение шансов при проценте сахара в конфете? Введите ответ в виде десятичной дроби, округлите до двух знаков после запятой."
   ]
  },
  {
   "cell_type": "code",
   "execution_count": 28,
   "id": "535da85c",
   "metadata": {},
   "outputs": [
    {
     "data": {
      "text/plain": [
       "7.48"
      ]
     },
     "execution_count": 28,
     "metadata": {},
     "output_type": "execute_result"
    }
   ],
   "source": [
    "result = oods_price / oods_sugar\n",
    "result.round(2)"
   ]
  }
 ],
 "metadata": {
  "hide_input": false,
  "kernelspec": {
   "display_name": "Python 3 (ipykernel)",
   "language": "python",
   "name": "python3"
  },
  "language_info": {
   "codemirror_mode": {
    "name": "ipython",
    "version": 3
   },
   "file_extension": ".py",
   "mimetype": "text/x-python",
   "name": "python",
   "nbconvert_exporter": "python",
   "pygments_lexer": "ipython3",
   "version": "3.9.7"
  },
  "toc": {
   "base_numbering": 1,
   "nav_menu": {},
   "number_sections": true,
   "sideBar": true,
   "skip_h1_title": false,
   "title_cell": "Table of Contents",
   "title_sidebar": "Contents",
   "toc_cell": false,
   "toc_position": {
    "height": "calc(100% - 180px)",
    "left": "10px",
    "top": "150px",
    "width": "247.594px"
   },
   "toc_section_display": true,
   "toc_window_display": true
  },
  "varInspector": {
   "cols": {
    "lenName": 16,
    "lenType": 16,
    "lenVar": 40
   },
   "kernels_config": {
    "python": {
     "delete_cmd_postfix": "",
     "delete_cmd_prefix": "del ",
     "library": "var_list.py",
     "varRefreshCmd": "print(var_dic_list())"
    },
    "r": {
     "delete_cmd_postfix": ") ",
     "delete_cmd_prefix": "rm(",
     "library": "var_list.r",
     "varRefreshCmd": "cat(var_dic_list()) "
    }
   },
   "types_to_exclude": [
    "module",
    "function",
    "builtin_function_or_method",
    "instance",
    "_Feature"
   ],
   "window_display": false
  }
 },
 "nbformat": 4,
 "nbformat_minor": 5
}
