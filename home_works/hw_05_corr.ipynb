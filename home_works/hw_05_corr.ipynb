{
 "cells": [
  {
   "cell_type": "code",
   "execution_count": 3,
   "id": "45de734a-6ab3-41cc-91ea-077e59932f8f",
   "metadata": {},
   "outputs": [],
   "source": [
    "import pandas as pd\n",
    "import numpy as np\n",
    "df_sg = pd.read_csv('Data/ScrabbleGames.csv', sep=',')"
   ]
  },
  {
   "cell_type": "markdown",
   "id": "fcc4ba16-f438-4f08-a1f8-757561090697",
   "metadata": {},
   "source": [
    "# Описание данных\n",
    "\n",
    "- gameid — номер игры в скрэббл\n",
    "- tourneyid — номер турнира\n",
    "- tie — игра закончилась вничью\n",
    "- winnerid — порядковый номер победителя\n",
    "- winnername — имя победителя\n",
    "- winnerscore — набранные победителем очки\n",
    "- winneroldrating — рейтинг победителя до игры\n",
    "- winnernewrating — рейтинг победителя после игры\n",
    "- winnerpos — место победителя в турнире\n",
    "- loserid — порядковый номер проигравшего\n",
    "- loserscore — набранные проигравшем очки\n",
    "- loseroldrating — рейтинг проигравшего до игры\n",
    "- losernewrating — рейтинг проигравшего после игры\n",
    "- loserpos — место проигравшего в турнире\n",
    "- round — раунд турнира, в котором проходила игра\n",
    "- division — дивизион турнира, в котором проходила игра\n",
    "- date — дата игры\n",
    "- lexicon — набор слов, который использовался в игре (международный - 1; характерный для Северной Америки - 0)\n",
    "- year — год"
   ]
  },
  {
   "cell_type": "code",
   "execution_count": 4,
   "id": "dc2aed47-3f4f-4333-a5ac-248f21ead533",
   "metadata": {},
   "outputs": [
    {
     "data": {
      "text/html": [
       "<div>\n",
       "<style scoped>\n",
       "    .dataframe tbody tr th:only-of-type {\n",
       "        vertical-align: middle;\n",
       "    }\n",
       "\n",
       "    .dataframe tbody tr th {\n",
       "        vertical-align: top;\n",
       "    }\n",
       "\n",
       "    .dataframe thead th {\n",
       "        text-align: right;\n",
       "    }\n",
       "</style>\n",
       "<table border=\"1\" class=\"dataframe\">\n",
       "  <thead>\n",
       "    <tr style=\"text-align: right;\">\n",
       "      <th></th>\n",
       "      <th>gameid</th>\n",
       "      <th>tourneyid</th>\n",
       "      <th>tie</th>\n",
       "      <th>winnerid</th>\n",
       "      <th>winnername</th>\n",
       "      <th>winnerscore</th>\n",
       "      <th>winneroldrating</th>\n",
       "      <th>winnernewrating</th>\n",
       "      <th>winnerpos</th>\n",
       "      <th>loserid</th>\n",
       "      <th>losername</th>\n",
       "      <th>loserscore</th>\n",
       "      <th>loseroldrating</th>\n",
       "      <th>losernewrating</th>\n",
       "      <th>loserpos</th>\n",
       "      <th>round</th>\n",
       "      <th>division</th>\n",
       "      <th>date</th>\n",
       "      <th>lexicon</th>\n",
       "      <th>year</th>\n",
       "    </tr>\n",
       "  </thead>\n",
       "  <tbody>\n",
       "    <tr>\n",
       "      <th>0</th>\n",
       "      <td>451519</td>\n",
       "      <td>1590</td>\n",
       "      <td>0</td>\n",
       "      <td>38</td>\n",
       "      <td>Matt Laufer</td>\n",
       "      <td>0</td>\n",
       "      <td>1892</td>\n",
       "      <td>1877</td>\n",
       "      <td>5</td>\n",
       "      <td>608</td>\n",
       "      <td>Pam Grazette</td>\n",
       "      <td>0</td>\n",
       "      <td>1712</td>\n",
       "      <td>1692</td>\n",
       "      <td>14</td>\n",
       "      <td>1</td>\n",
       "      <td>1</td>\n",
       "      <td>1994-03-11</td>\n",
       "      <td>0</td>\n",
       "      <td>1994</td>\n",
       "    </tr>\n",
       "    <tr>\n",
       "      <th>1</th>\n",
       "      <td>451520</td>\n",
       "      <td>1590</td>\n",
       "      <td>0</td>\n",
       "      <td>38</td>\n",
       "      <td>Matt Laufer</td>\n",
       "      <td>0</td>\n",
       "      <td>1892</td>\n",
       "      <td>1877</td>\n",
       "      <td>5</td>\n",
       "      <td>82</td>\n",
       "      <td>Sally Ricketts</td>\n",
       "      <td>0</td>\n",
       "      <td>1390</td>\n",
       "      <td>1347</td>\n",
       "      <td>36</td>\n",
       "      <td>3</td>\n",
       "      <td>1</td>\n",
       "      <td>1994-03-11</td>\n",
       "      <td>0</td>\n",
       "      <td>1994</td>\n",
       "    </tr>\n",
       "    <tr>\n",
       "      <th>2</th>\n",
       "      <td>451521</td>\n",
       "      <td>1590</td>\n",
       "      <td>0</td>\n",
       "      <td>38</td>\n",
       "      <td>Matt Laufer</td>\n",
       "      <td>0</td>\n",
       "      <td>1892</td>\n",
       "      <td>1877</td>\n",
       "      <td>5</td>\n",
       "      <td>4001</td>\n",
       "      <td>James Guillot</td>\n",
       "      <td>0</td>\n",
       "      <td>1712</td>\n",
       "      <td>1700</td>\n",
       "      <td>22</td>\n",
       "      <td>5</td>\n",
       "      <td>1</td>\n",
       "      <td>1994-03-11</td>\n",
       "      <td>0</td>\n",
       "      <td>1994</td>\n",
       "    </tr>\n",
       "  </tbody>\n",
       "</table>\n",
       "</div>"
      ],
      "text/plain": [
       "   gameid  tourneyid  tie  winnerid   winnername  winnerscore  \\\n",
       "0  451519       1590    0        38  Matt Laufer            0   \n",
       "1  451520       1590    0        38  Matt Laufer            0   \n",
       "2  451521       1590    0        38  Matt Laufer            0   \n",
       "\n",
       "   winneroldrating  winnernewrating  winnerpos  loserid       losername  \\\n",
       "0             1892             1877          5      608    Pam Grazette   \n",
       "1             1892             1877          5       82  Sally Ricketts   \n",
       "2             1892             1877          5     4001   James Guillot   \n",
       "\n",
       "   loserscore  loseroldrating  losernewrating  loserpos  round  division  \\\n",
       "0           0            1712            1692        14      1         1   \n",
       "1           0            1390            1347        36      3         1   \n",
       "2           0            1712            1700        22      5         1   \n",
       "\n",
       "         date  lexicon  year  \n",
       "0  1994-03-11        0  1994  \n",
       "1  1994-03-11        0  1994  \n",
       "2  1994-03-11        0  1994  "
      ]
     },
     "execution_count": 4,
     "metadata": {},
     "output_type": "execute_result"
    }
   ],
   "source": [
    "df_sg.head(n=3)"
   ]
  },
  {
   "cell_type": "markdown",
   "id": "11d7c8a7-d95a-4478-a47a-4e8a9ffe3bc5",
   "metadata": {},
   "source": [
    "# Задания"
   ]
  },
  {
   "cell_type": "markdown",
   "id": "763aeaa4-5db3-4bf2-b9b0-e00ce40fc555",
   "metadata": {},
   "source": [
    "### Сгруппируйте датафрейм по переменной `tourneyid`, затем определите тип взаимосвязи между средними значениями переменных `winnerscore` и `winnernewrating`. Выберите один верный ответ."
   ]
  },
  {
   "cell_type": "code",
   "execution_count": 12,
   "id": "52e14064-d172-4a05-be37-c8c123371306",
   "metadata": {},
   "outputs": [
    {
     "data": {
      "text/plain": [
       "winnerscore        1.000000\n",
       "winnernewrating   -0.604013\n",
       "Name: winnerscore, dtype: float64"
      ]
     },
     "execution_count": 12,
     "metadata": {},
     "output_type": "execute_result"
    }
   ],
   "source": [
    "df_sg \\\n",
    "    .groupby(by='tourneyid') \\\n",
    "    .agg({'winnerscore': 'mean', 'winnernewrating': 'mean'}) \\\n",
    "    .corr()['winnerscore']"
   ]
  },
  {
   "cell_type": "markdown",
   "id": "18953c25",
   "metadata": {},
   "source": [
    "### Укажите, верно ли следующее утверждение: очки, набранные победителем, напрямую и сильно зависят от очков, набранных проигравшим. Сгруппируйте датафрейм по переменной `tourneyid` и посмотрите на средние значения интересующих нас переменных."
   ]
  },
  {
   "cell_type": "code",
   "execution_count": 23,
   "id": "55456a9a",
   "metadata": {},
   "outputs": [
    {
     "data": {
      "text/plain": [
       "0.9999382016001125"
      ]
     },
     "execution_count": 23,
     "metadata": {},
     "output_type": "execute_result"
    }
   ],
   "source": [
    "df_sg \\\n",
    "    .groupby(by='tourneyid') \\\n",
    "    .agg({'winnerscore': 'mean', 'loserscore': 'mean'}) \\\n",
    "    .corr().iloc[0, 1]"
   ]
  },
  {
   "cell_type": "markdown",
   "id": "926be8a6",
   "metadata": {},
   "source": [
    "### Между какими переменными можно найти интерпретируемый коэффициент корреляции? Выберите один верный ответ:\n",
    "\n",
    "- `gameid` и `tie`\n",
    "- `winnerid` и `loserid`\n",
    "- `loserid` и `loserpos`\n",
    "- `winnerpos` и `loserpos`"
   ]
  },
  {
   "cell_type": "markdown",
   "id": "36ac5ef9",
   "metadata": {},
   "source": [
    "### Сгруппируйте датафрейм по переменной `tourneyid`, затем рассчитайте коэффициент корреляции между средними значениями переменных `winnernewrating` и `losernewrating`. \n",
    "Введите ответ в виде десятичной дроби, округлите до двух знаков после запятой (например, 0.23); если связь обратная, не забудьте указать минус перед числом."
   ]
  },
  {
   "cell_type": "code",
   "execution_count": 55,
   "id": "cf7d7d89",
   "metadata": {},
   "outputs": [
    {
     "data": {
      "text/plain": [
       "0.98"
      ]
     },
     "execution_count": 55,
     "metadata": {},
     "output_type": "execute_result"
    }
   ],
   "source": [
    "df_sg \\\n",
    "    .pivot_table(values=['winnernewrating', 'losernewrating'], index='tourneyid', aggfunc='mean') \\\n",
    "    .corr().iloc[0, 1] \\\n",
    "    .round(2)"
   ]
  },
  {
   "cell_type": "markdown",
   "id": "f1c1525f",
   "metadata": {},
   "source": [
    "### Выберите только первые раунды турнира, сгруппируйте датафрейм по переменной `tourneyid`, затем рассчитайте коэффициент корреляции между переменными `winnerscore` и `loserscore`. \n",
    "Введите ответ в виде десятичной дроби, до двух знаков после запятой (например, 0.29); если связь обратная, не забудьте указать минус перед числом."
   ]
  },
  {
   "cell_type": "code",
   "execution_count": 77,
   "id": "e0701f83",
   "metadata": {},
   "outputs": [
    {
     "data": {
      "text/plain": [
       "0.9998969144453596"
      ]
     },
     "execution_count": 77,
     "metadata": {},
     "output_type": "execute_result"
    }
   ],
   "source": [
    "df_sg \\\n",
    "    .loc[df_sg['round'] == 1] \\\n",
    "    .pivot_table(values=['winnerscore', 'loserscore'], index='tourneyid', aggfunc='mean') \\\n",
    "    .corr().iloc[0, 1] \\\n",
    "#     .round(2)"
   ]
  },
  {
   "cell_type": "markdown",
   "id": "0fc4306b",
   "metadata": {},
   "source": [
    "### Укажите, верно ли следующее утверждение: переменная `tie` не влияет на характер взаимосвязи между переменными `winnernewrating` и `losernewrating`. Сгруппируйте датафрейм по переменной `tourneyid`, затем рассчитайте коэффициент корреляции между средними значениями указанных переменных."
   ]
  },
  {
   "cell_type": "code",
   "execution_count": 136,
   "id": "7e6108a0",
   "metadata": {},
   "outputs": [
    {
     "data": {
      "text/plain": [
       "0.923302721995826"
      ]
     },
     "execution_count": 136,
     "metadata": {},
     "output_type": "execute_result"
    }
   ],
   "source": [
    "df_sg \\\n",
    "    .loc[df_sg['tie'] == 1] \\\n",
    "    .pivot_table(values=['winnernewrating', 'losernewrating'], index='tourneyid', aggfunc='mean') \\\n",
    "    .corr().iloc[0, 1]"
   ]
  },
  {
   "cell_type": "code",
   "execution_count": 138,
   "id": "23359b13",
   "metadata": {},
   "outputs": [
    {
     "data": {
      "text/plain": [
       "0.9782555275896674"
      ]
     },
     "execution_count": 138,
     "metadata": {},
     "output_type": "execute_result"
    }
   ],
   "source": [
    "df_sg \\\n",
    "    .loc[df_sg['tie'] == 0] \\\n",
    "    .pivot_table(values=['winnernewrating', 'losernewrating'], index='tourneyid', aggfunc='mean') \\\n",
    "    .corr().iloc[0, 1]"
   ]
  },
  {
   "cell_type": "markdown",
   "id": "162375d5",
   "metadata": {},
   "source": [
    "### Выберите самого часто встречающегося победителя (столбец `winnername`). Сгруппируйте датафрейм по переменной `tourneyid`, затем рассчитайте коэффициент корреляции между средними значениями переменных `winnerscore` и `winneroldrating`. \n",
    "Введите ответ в виде десятичной дроби, округлите до двух знаков после запятой; если связь обратная, не забудьте указать минус перед числом."
   ]
  },
  {
   "cell_type": "code",
   "execution_count": 149,
   "id": "25c09c54",
   "metadata": {},
   "outputs": [
    {
     "data": {
      "text/plain": [
       "0.05"
      ]
     },
     "execution_count": 149,
     "metadata": {},
     "output_type": "execute_result"
    }
   ],
   "source": [
    "df_sg \\\n",
    "    .loc[df_sg['winnername'] == df_sg['winnername'].mode()[0], :] \\\n",
    "    .pivot_table(values=['winnerscore', 'winneroldrating'], index='tourneyid', aggfunc='mean') \\\n",
    "    .corr().iloc[0, 1] \\\n",
    "    .round(2)"
   ]
  },
  {
   "cell_type": "markdown",
   "id": "86e30cea",
   "metadata": {},
   "source": [
    "### Укажите, верно ли следующее утверждение: характер взаимосвязи (прямая или обратная) между средними значениями переменных `winnerscore` и `winneroldrating` для победителя по имени *Lester Schonbrun* не отличается для такого же показателя для победителя по имени *Stuart Goldman*. Сгруппируйте датафрейм по переменной tourneyid, затем рассчитайте коэффициент корреляции между средними значениями указанных переменных."
   ]
  },
  {
   "cell_type": "code",
   "execution_count": 151,
   "id": "0b23e2e8",
   "metadata": {},
   "outputs": [
    {
     "data": {
      "text/plain": [
       "0.05229383983973836"
      ]
     },
     "execution_count": 151,
     "metadata": {},
     "output_type": "execute_result"
    }
   ],
   "source": [
    "df_sg \\\n",
    "    .loc[df_sg['winnername'] == 'Lester Schonbrun', :] \\\n",
    "    .pivot_table(values=['winnerscore', 'winneroldrating'], index='tourneyid', aggfunc='mean') \\\n",
    "    .corr().iloc[0, 1]"
   ]
  },
  {
   "cell_type": "code",
   "execution_count": 152,
   "id": "70db6748",
   "metadata": {},
   "outputs": [
    {
     "data": {
      "text/plain": [
       "-0.49853115281438176"
      ]
     },
     "execution_count": 152,
     "metadata": {},
     "output_type": "execute_result"
    }
   ],
   "source": [
    "df_sg \\\n",
    "    .loc[df_sg['winnername'] == 'Stuart Goldman', :] \\\n",
    "    .pivot_table(values=['winnerscore', 'winneroldrating'], index='tourneyid', aggfunc='mean') \\\n",
    "    .corr().iloc[0, 1]"
   ]
  },
  {
   "cell_type": "markdown",
   "id": "56d31984",
   "metadata": {},
   "source": [
    "### Выберите данные только за 4376 турнир (переменная `tourneyid`). Рассчитайте коэффициент корреляции между переменными `winnerscore` и `loserscore`. \n",
    "Введите ответ в виде десятичной дроби, округлите до двух знаков после запятой; если связь обратная, не забудьте указать минус перед числом."
   ]
  },
  {
   "cell_type": "code",
   "execution_count": 163,
   "id": "c6d28c53",
   "metadata": {},
   "outputs": [
    {
     "data": {
      "text/plain": [
       "-0.25"
      ]
     },
     "execution_count": 163,
     "metadata": {},
     "output_type": "execute_result"
    }
   ],
   "source": [
    "df_sg \\\n",
    "    .loc[df_sg['tourneyid'] == 4376, ['winnerscore', 'loserscore']] \\\n",
    "    .corr().iloc[0, 1] \\\n",
    "    .round(2)"
   ]
  }
 ],
 "metadata": {
  "hide_input": false,
  "kernelspec": {
   "display_name": "Python 3 (ipykernel)",
   "language": "python",
   "name": "python3"
  },
  "language_info": {
   "codemirror_mode": {
    "name": "ipython",
    "version": 3
   },
   "file_extension": ".py",
   "mimetype": "text/x-python",
   "name": "python",
   "nbconvert_exporter": "python",
   "pygments_lexer": "ipython3",
   "version": "3.9.7"
  },
  "toc": {
   "base_numbering": 1,
   "nav_menu": {},
   "number_sections": true,
   "sideBar": true,
   "skip_h1_title": false,
   "title_cell": "Table of Contents",
   "title_sidebar": "Contents",
   "toc_cell": false,
   "toc_position": {},
   "toc_section_display": true,
   "toc_window_display": false
  },
  "toc-autonumbering": true,
  "varInspector": {
   "cols": {
    "lenName": 16,
    "lenType": 16,
    "lenVar": 40
   },
   "kernels_config": {
    "python": {
     "delete_cmd_postfix": "",
     "delete_cmd_prefix": "del ",
     "library": "var_list.py",
     "varRefreshCmd": "print(var_dic_list())"
    },
    "r": {
     "delete_cmd_postfix": ") ",
     "delete_cmd_prefix": "rm(",
     "library": "var_list.r",
     "varRefreshCmd": "cat(var_dic_list()) "
    }
   },
   "types_to_exclude": [
    "module",
    "function",
    "builtin_function_or_method",
    "instance",
    "_Feature"
   ],
   "window_display": false
  }
 },
 "nbformat": 4,
 "nbformat_minor": 5
}
