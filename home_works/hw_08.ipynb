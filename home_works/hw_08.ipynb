{
 "cells": [
  {
   "cell_type": "code",
   "execution_count": 4,
   "id": "000bd104-fb54-418e-8a71-b450e88e8585",
   "metadata": {},
   "outputs": [
    {
     "data": {
      "text/html": [
       "<style>.container { width:90% !important; }</style>"
      ],
      "text/plain": [
       "<IPython.core.display.HTML object>"
      ]
     },
     "metadata": {},
     "output_type": "display_data"
    }
   ],
   "source": [
    "import pandas as pd\n",
    "import numpy as np\n",
    "import scipy.stats as st\n",
    "import os\n",
    "\n",
    "pd.set_option('max_colwidth', 200)\n",
    "pd.set_option('display.width', 400)\n",
    "\n",
    "from IPython.core.display import display, HTML\n",
    "display(HTML(\"<style>.container { width:90% !important; }</style>\"))\n",
    "\n",
    "from pprint import pprint\n",
    "from pathlib import Path"
   ]
  },
  {
   "cell_type": "code",
   "execution_count": 5,
   "id": "fb7e1055-2056-4712-a821-6d92e93e1693",
   "metadata": {},
   "outputs": [
    {
     "data": {
      "text/html": [
       "<div>\n",
       "<style scoped>\n",
       "    .dataframe tbody tr th:only-of-type {\n",
       "        vertical-align: middle;\n",
       "    }\n",
       "\n",
       "    .dataframe tbody tr th {\n",
       "        vertical-align: top;\n",
       "    }\n",
       "\n",
       "    .dataframe thead th {\n",
       "        text-align: right;\n",
       "    }\n",
       "</style>\n",
       "<table border=\"1\" class=\"dataframe\">\n",
       "  <thead>\n",
       "    <tr style=\"text-align: right;\">\n",
       "      <th></th>\n",
       "      <th>respondentID</th>\n",
       "      <th>seen</th>\n",
       "      <th>fan</th>\n",
       "      <th>gender</th>\n",
       "      <th>age_group</th>\n",
       "      <th>income</th>\n",
       "      <th>loc</th>\n",
       "      <th>yoda</th>\n",
       "      <th>princess_leia_organa</th>\n",
       "    </tr>\n",
       "  </thead>\n",
       "  <tbody>\n",
       "    <tr>\n",
       "      <th>0</th>\n",
       "      <td>3292879998</td>\n",
       "      <td>да</td>\n",
       "      <td>да</td>\n",
       "      <td>М</td>\n",
       "      <td>18-29</td>\n",
       "      <td>NaN</td>\n",
       "      <td>Южно-Атлантический</td>\n",
       "      <td>очень нравится</td>\n",
       "      <td>очень нравится</td>\n",
       "    </tr>\n",
       "    <tr>\n",
       "      <th>1</th>\n",
       "      <td>3292879538</td>\n",
       "      <td>нет</td>\n",
       "      <td>NaN</td>\n",
       "      <td>М</td>\n",
       "      <td>18-29</td>\n",
       "      <td>0 - 24.999</td>\n",
       "      <td>Юго-Западный центральный</td>\n",
       "      <td>NaN</td>\n",
       "      <td>NaN</td>\n",
       "    </tr>\n",
       "    <tr>\n",
       "      <th>2</th>\n",
       "      <td>3292765271</td>\n",
       "      <td>да</td>\n",
       "      <td>нет</td>\n",
       "      <td>М</td>\n",
       "      <td>18-29</td>\n",
       "      <td>0 - 24.999</td>\n",
       "      <td>Северо-Западный центральный</td>\n",
       "      <td>не знаю такого персонажа</td>\n",
       "      <td>нравится</td>\n",
       "    </tr>\n",
       "    <tr>\n",
       "      <th>3</th>\n",
       "      <td>3292763116</td>\n",
       "      <td>да</td>\n",
       "      <td>да</td>\n",
       "      <td>М</td>\n",
       "      <td>18-29</td>\n",
       "      <td>100.000 - 149.999</td>\n",
       "      <td>Северо-Западный центральный</td>\n",
       "      <td>очень нравится</td>\n",
       "      <td>очень нравится</td>\n",
       "    </tr>\n",
       "    <tr>\n",
       "      <th>4</th>\n",
       "      <td>3292731220</td>\n",
       "      <td>да</td>\n",
       "      <td>да</td>\n",
       "      <td>М</td>\n",
       "      <td>18-29</td>\n",
       "      <td>100.000 - 149.999</td>\n",
       "      <td>Северо-Западный центральный</td>\n",
       "      <td>нравится</td>\n",
       "      <td>нравится</td>\n",
       "    </tr>\n",
       "  </tbody>\n",
       "</table>\n",
       "</div>"
      ],
      "text/plain": [
       "   respondentID seen  fan gender age_group             income                          loc                      yoda princess_leia_organa\n",
       "0    3292879998   да   да      М     18-29                NaN           Южно-Атлантический            очень нравится       очень нравится\n",
       "1    3292879538  нет  NaN      М     18-29         0 - 24.999     Юго-Западный центральный                       NaN                  NaN\n",
       "2    3292765271   да  нет      М     18-29         0 - 24.999  Северо-Западный центральный  не знаю такого персонажа             нравится\n",
       "3    3292763116   да   да      М     18-29  100.000 - 149.999  Северо-Западный центральный            очень нравится       очень нравится\n",
       "4    3292731220   да   да      М     18-29  100.000 - 149.999  Северо-Западный центральный                  нравится             нравится"
      ]
     },
     "execution_count": 5,
     "metadata": {},
     "output_type": "execute_result"
    }
   ],
   "source": [
    "star_wars = pd.read_csv('./Data/StarWars.csv', sep=';')\n",
    "star_wars.head()"
   ]
  },
  {
   "cell_type": "markdown",
   "id": "28641ed6-09bd-4541-8608-21f5bcf9395a",
   "metadata": {},
   "source": [
    "# Описание данных\n",
    "\n",
    "- respondentID — идентификационный номер респондента\n",
    "- seen — ответ на вопрос, видел ли респондент хотя бы один фильм из серии «Звездных войн» (да/нет)\n",
    "- fan — ответ на вопрос, считает ли респондент себя фанатом серии фильмов (да/нет)\n",
    "- gender — пол респондента (М/Ж)\n",
    "- age_group — возрастная группа, к которой принадлежит респондент (18-29, 30-44, 45-60, > 60)\n",
    "- income — доход респондента в долларах США (0 - 24.999, 25.000 - 49.999, 50.000 - 99.999, 100.000 - 149.999, 150.000+)\n",
    "- loc — регион проживания респондента (в США)\n",
    "- yoda — отношение респондента к персонажу серии (Йоде)\n",
    "- princess_leia_organa — отношение респондента к персонажу серии (принцессе Лее Органе)"
   ]
  },
  {
   "cell_type": "markdown",
   "id": "188dcae1-4c3a-4c54-b2cd-83039b16c212",
   "metadata": {},
   "source": [
    "# Задания"
   ]
  },
  {
   "cell_type": "markdown",
   "id": "07f31f2c-993a-4470-95d3-b56692bb1e64",
   "metadata": {},
   "source": [
    "### Обратим внимание на переменные `gender` и `fan`. Какую гипотезу мы можем протестировать, используя хи-квадрат? Выберите один верный ответ."
   ]
  },
  {
   "cell_type": "markdown",
   "id": "8c09088a",
   "metadata": {},
   "source": [
    "- [ ] Распределение наблюдений по категориям выбранных переменных ошибочно\n",
    "- [x] Распределение наблюдений по категориям выбранных переменных независимо\n",
    "- [ ] Распределение наблюдений по категориям выбранных переменных корректно\n",
    "- [ ] Распределение наблюдений по категориям выбранных переменных отсутствует"
   ]
  },
  {
   "cell_type": "markdown",
   "id": "dc2d2e66",
   "metadata": {},
   "source": [
    "### Постройте таблицу сопряженности для переменных `gender` и `fan`. \n",
    "Укажите, верно ли следующее утверждение: 120 мужчин являются фанатами серии фильмов «Звездные войны»."
   ]
  },
  {
   "cell_type": "code",
   "execution_count": 16,
   "id": "f12012c6",
   "metadata": {},
   "outputs": [
    {
     "data": {
      "text/html": [
       "<div>\n",
       "<style scoped>\n",
       "    .dataframe tbody tr th:only-of-type {\n",
       "        vertical-align: middle;\n",
       "    }\n",
       "\n",
       "    .dataframe tbody tr th {\n",
       "        vertical-align: top;\n",
       "    }\n",
       "\n",
       "    .dataframe thead th {\n",
       "        text-align: right;\n",
       "    }\n",
       "</style>\n",
       "<table border=\"1\" class=\"dataframe\">\n",
       "  <thead>\n",
       "    <tr style=\"text-align: right;\">\n",
       "      <th>fan</th>\n",
       "      <th>да</th>\n",
       "      <th>нет</th>\n",
       "    </tr>\n",
       "    <tr>\n",
       "      <th>gender</th>\n",
       "      <th></th>\n",
       "      <th></th>\n",
       "    </tr>\n",
       "  </thead>\n",
       "  <tbody>\n",
       "    <tr>\n",
       "      <th>Ж</th>\n",
       "      <td>238</td>\n",
       "      <td>159</td>\n",
       "    </tr>\n",
       "    <tr>\n",
       "      <th>М</th>\n",
       "      <td>303</td>\n",
       "      <td>120</td>\n",
       "    </tr>\n",
       "  </tbody>\n",
       "</table>\n",
       "</div>"
      ],
      "text/plain": [
       "fan      да  нет\n",
       "gender          \n",
       "Ж       238  159\n",
       "М       303  120"
      ]
     },
     "execution_count": 16,
     "metadata": {},
     "output_type": "execute_result"
    }
   ],
   "source": [
    "ct_o = star_wars.pivot_table(values='respondentID', index='gender', columns='fan', aggfunc='count')\n",
    "ct_o"
   ]
  },
  {
   "cell_type": "markdown",
   "id": "08987fcd",
   "metadata": {},
   "source": [
    "### Предположим, что мы тестируем гипотезу о том, что распределение наблюдений по категориям выбранных нами переменных независимо. \n",
    "Чему будет равно количество степеней свободы, рассчитанное по построенной в предыдущем задании таблице сопряженности? Выберите один верный ответ."
   ]
  },
  {
   "cell_type": "code",
   "execution_count": 17,
   "id": "b4bc31d3",
   "metadata": {},
   "outputs": [
    {
     "data": {
      "text/plain": [
       "1"
      ]
     },
     "execution_count": 17,
     "metadata": {},
     "output_type": "execute_result"
    }
   ],
   "source": [
    "(nrows, ncols) = ct_o.shape\n",
    "dof = (nrows - 1) * (ncols - 1)\n",
    "dof"
   ]
  },
  {
   "cell_type": "markdown",
   "id": "b7377596",
   "metadata": {},
   "source": [
    "### Что означает равенство уровня значимости пяти процентам? \n",
    "Выберите один верный ответ."
   ]
  },
  {
   "cell_type": "markdown",
   "id": "709c6762",
   "metadata": {},
   "source": [
    "- [x] Вероятность ошибки первого рода равна 5%\n",
    "- [ ] Вероятность ошибки первого рода равна 95%\n",
    "- [ ] Вероятность ошибки второго рода равна 5%\n",
    "- [ ] Вероятность ошибки второго рода равна 95%"
   ]
  },
  {
   "cell_type": "markdown",
   "id": "6bc2a398",
   "metadata": {},
   "source": [
    "### Чему будет равно критическое значение критерия хи-квадрат для указанных выше параметров (уровня значимости 5% и верного числа степеней свободы), при котором мы сможем отвергнуть нулевую гипотезу? \n",
    "Выберите один верный ответ."
   ]
  },
  {
   "cell_type": "code",
   "execution_count": 18,
   "id": "cd31cc7f",
   "metadata": {},
   "outputs": [
    {
     "data": {
      "text/plain": [
       "3.84"
      ]
     },
     "execution_count": 18,
     "metadata": {},
     "output_type": "execute_result"
    }
   ],
   "source": [
    "3.84"
   ]
  },
  {
   "cell_type": "markdown",
   "id": "80baf386",
   "metadata": {},
   "source": [
    "### Чему равна оценка вероятности того, что человек является фанатом серии фильмов? \n",
    "Введите ответ в виде десятичной дроби, округлите до двух знаков после запятой."
   ]
  },
  {
   "cell_type": "code",
   "execution_count": 29,
   "id": "27a8b7c9",
   "metadata": {},
   "outputs": [
    {
     "name": "stdout",
     "output_type": "stream",
     "text": [
      "85.91\n"
     ]
    }
   ],
   "source": [
    "chi, p = st.chisquare(f_obs=star_wars['fan'].value_counts().to_numpy(), ddof=1)\n",
    "print(round(chi, 2))"
   ]
  },
  {
   "cell_type": "markdown",
   "id": "763b8786",
   "metadata": {},
   "source": [
    "### Чему равна теоретическая частота для женщин, которые являются фанатами серии фильмов? \n",
    "В ответ запишите число, округлите до целого.\n",
    "\n",
    "$\n",
    "f_e = \\frac{f_cf_r}{n}\n",
    "$"
   ]
  },
  {
   "cell_type": "code",
   "execution_count": 54,
   "id": "0f9e9fae",
   "metadata": {},
   "outputs": [],
   "source": [
    "def f_e(ct_o, idx, col):\n",
    "    return round(ct_o.loc[:, col].sum() * ct_o.loc[idx, :].sum() / ct_o.to_numpy().sum())"
   ]
  },
  {
   "cell_type": "code",
   "execution_count": 55,
   "id": "218d0e20",
   "metadata": {},
   "outputs": [
    {
     "data": {
      "text/plain": [
       "262"
      ]
     },
     "execution_count": 55,
     "metadata": {},
     "output_type": "execute_result"
    }
   ],
   "source": [
    "f_e(ct_o, 'Ж', 'да')"
   ]
  },
  {
   "cell_type": "markdown",
   "id": "60f41d79",
   "metadata": {},
   "source": [
    "### Чему равна теоретическая частота для мужчин, которые не являются фанатами серии фильмов?\n",
    "\n",
    "В ответ запишите число, округлите до целого."
   ]
  },
  {
   "cell_type": "code",
   "execution_count": 56,
   "id": "7552d1a8",
   "metadata": {},
   "outputs": [
    {
     "data": {
      "text/plain": [
       "144"
      ]
     },
     "execution_count": 56,
     "metadata": {},
     "output_type": "execute_result"
    }
   ],
   "source": [
    "f_e(ct_o, 'М', 'нет')"
   ]
  },
  {
   "cell_type": "markdown",
   "id": "d8702e94",
   "metadata": {},
   "source": [
    "### Чему равен критерий хи-квадрат? \n",
    "Введите ответ в виде десятичной дроби, округлите до двух знаков после запятой."
   ]
  },
  {
   "cell_type": "code",
   "execution_count": 58,
   "id": "7aa0bbfc",
   "metadata": {},
   "outputs": [
    {
     "name": "stdout",
     "output_type": "stream",
     "text": [
      "12.45\n"
     ]
    }
   ],
   "source": [
    "chi_square = scipy.stats.chi2_contingency(observed=ct_o,correction=False)[0]\n",
    "\n",
    "print(round(chi_square, 2))"
   ]
  }
 ],
 "metadata": {
  "hide_input": false,
  "kernelspec": {
   "display_name": "Python 3 (ipykernel)",
   "language": "python",
   "name": "python3"
  },
  "language_info": {
   "codemirror_mode": {
    "name": "ipython",
    "version": 3
   },
   "file_extension": ".py",
   "mimetype": "text/x-python",
   "name": "python",
   "nbconvert_exporter": "python",
   "pygments_lexer": "ipython3",
   "version": "3.9.7"
  },
  "toc": {
   "base_numbering": 1,
   "nav_menu": {},
   "number_sections": true,
   "sideBar": true,
   "skip_h1_title": false,
   "title_cell": "Table of Contents",
   "title_sidebar": "Contents",
   "toc_cell": false,
   "toc_position": {},
   "toc_section_display": true,
   "toc_window_display": false
  },
  "varInspector": {
   "cols": {
    "lenName": 16,
    "lenType": 16,
    "lenVar": 40
   },
   "kernels_config": {
    "python": {
     "delete_cmd_postfix": "",
     "delete_cmd_prefix": "del ",
     "library": "var_list.py",
     "varRefreshCmd": "print(var_dic_list())"
    },
    "r": {
     "delete_cmd_postfix": ") ",
     "delete_cmd_prefix": "rm(",
     "library": "var_list.r",
     "varRefreshCmd": "cat(var_dic_list()) "
    }
   },
   "types_to_exclude": [
    "module",
    "function",
    "builtin_function_or_method",
    "instance",
    "_Feature"
   ],
   "window_display": false
  }
 },
 "nbformat": 4,
 "nbformat_minor": 5
}
