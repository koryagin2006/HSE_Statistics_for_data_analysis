{
 "cells": [
  {
   "cell_type": "code",
   "execution_count": 51,
   "id": "000bd104-fb54-418e-8a71-b450e88e8585",
   "metadata": {},
   "outputs": [
    {
     "data": {
      "text/html": [
       "<style>.container { width:70% !important; }</style>"
      ],
      "text/plain": [
       "<IPython.core.display.HTML object>"
      ]
     },
     "metadata": {},
     "output_type": "display_data"
    }
   ],
   "source": [
    "import pandas as pd\n",
    "import numpy as np\n",
    "import scipy.stats as st\n",
    "import math\n",
    "import os\n",
    "\n",
    "pd.set_option('max_colwidth', 200)\n",
    "pd.set_option('display.width', 400)\n",
    "\n",
    "from IPython.core.display import display, HTML\n",
    "display(HTML(\"<style>.container { width:70% !important; }</style>\"))\n",
    "\n",
    "from pprint import pprint\n",
    "from pathlib import Path"
   ]
  },
  {
   "cell_type": "markdown",
   "id": "0015a441",
   "metadata": {},
   "source": [
    "# Самопроверка (не оценивается)"
   ]
  },
  {
   "cell_type": "markdown",
   "id": "11d6a7fc",
   "metadata": {},
   "source": [
    "### 1\n",
    "Предположим, что у нас есть следующие данные: `X = [23, 3, 11, 35, -3, -10]` и `Y = [29, 1, 20, 3, 0, 0]`. \n",
    "Мы хотим проверить нулевую гипотезу о том, что средняя разность между этими показателями равна нулю. Чему в таком случае будет равно t-наблюдаемое? Выберите один верный ответ."
   ]
  },
  {
   "cell_type": "code",
   "execution_count": 84,
   "id": "b96d4b42",
   "metadata": {},
   "outputs": [
    {
     "name": "stdout",
     "output_type": "stream",
     "text": [
      "235.472; 130.472; "
     ]
    },
    {
     "data": {
      "text/plain": [
       "Ttest_indResult(statistic=0.11689001732394605, pvalue=0.9094487485927087)"
      ]
     },
     "execution_count": 84,
     "metadata": {},
     "output_type": "execute_result"
    }
   ],
   "source": [
    "X = np.array([23, 3, 11, 35, -3, -10])\n",
    "Y = np.array([29, 1, 20, 3, 0, 0])\n",
    "\n",
    "for s in [X, Y]:\n",
    "    print(s.var().round(3), end='; ')\n",
    "\n",
    "st.ttest_ind(a=X, b=Y, equal_var=False)"
   ]
  },
  {
   "cell_type": "markdown",
   "id": "3284cd40",
   "metadata": {},
   "source": [
    "### 2\n",
    "Предположим, что у нас есть следующие данные: `X = [13, 0, 6, 9, -1, 0]` и Y = `[4, 1, 5, 1, 20, 0]`. Мы хотим проверить нулевую гипотезу о том, что средние значения этих показателей равны. Чему в таком случае будет равно t-наблюдаемое? Выберите один верный ответ."
   ]
  },
  {
   "cell_type": "code",
   "execution_count": 89,
   "id": "6aed6621",
   "metadata": {},
   "outputs": [
    {
     "name": "stdout",
     "output_type": "stream",
     "text": [
      "33.1; 56.567; "
     ]
    },
    {
     "data": {
      "text/plain": [
       "-0.1724522454236908"
      ]
     },
     "execution_count": 89,
     "metadata": {},
     "output_type": "execute_result"
    }
   ],
   "source": [
    "X = np.array([13, 0, 6, 9, -1, 0])\n",
    "Y = np.array([4, 1, 5, 1, 20, 0])\n",
    "\n",
    "for s in [X, Y]:\n",
    "    print(s.var(ddof=1).round(3), end='; ')\n",
    "    \n",
    "st.ttest_ind(a=X, b=Y, equal_var=False)[0]"
   ]
  },
  {
   "cell_type": "markdown",
   "id": "335b2309",
   "metadata": {},
   "source": [
    "### 3\n",
    "Предположим, что у нас есть следующие данные: X = `[3, 2, 98, 34, 11, 2]`. Мы хотим проверить нулевую гипотезу о том, что среднее значение равно 7. Чему в таком случае будет равно t-наблюдаемое? Выберите один верный ответ."
   ]
  },
  {
   "cell_type": "code",
   "execution_count": 90,
   "id": "4e094049",
   "metadata": {},
   "outputs": [
    {
     "data": {
      "text/plain": [
       "1.1661136003542576"
      ]
     },
     "execution_count": 90,
     "metadata": {},
     "output_type": "execute_result"
    }
   ],
   "source": [
    "X = np.array([3, 2, 98, 34, 11, 2])\n",
    "Y_mean = 7\n",
    "\n",
    "t = (X.mean() - Y_mean) / (X.std(ddof=1) / math.sqrt(len(X)))\n",
    "t"
   ]
  },
  {
   "cell_type": "markdown",
   "id": "27a1b047",
   "metadata": {},
   "source": [
    "### 4\n",
    "Какой будет критическая область для t-статистики при уровне значимости 0.05 и 20 степенях свободы? Выберите один верный ответ."
   ]
  },
  {
   "cell_type": "code",
   "execution_count": 111,
   "id": "9c0857d6",
   "metadata": {},
   "outputs": [
    {
     "data": {
      "text/plain": [
       "[-2.086, 2.086]"
      ]
     },
     "execution_count": 111,
     "metadata": {},
     "output_type": "execute_result"
    }
   ],
   "source": [
    "CI = st.t.interval(alpha=0.95, df=20) \n",
    "[round(c, 3) for c in CI]"
   ]
  },
  {
   "cell_type": "markdown",
   "id": "df478f7d",
   "metadata": {},
   "source": [
    "### 5\n",
    "Укажите, верно ли следующее утверждение: если t-значение получилось меньше t-критического, то при одностороннем тесте нулевая гипотеза не отвергается."
   ]
  },
  {
   "cell_type": "markdown",
   "id": "50a38683",
   "metadata": {},
   "source": [
    "# Тест на оценку"
   ]
  },
  {
   "cell_type": "code",
   "execution_count": 116,
   "id": "2f799f30",
   "metadata": {},
   "outputs": [
    {
     "data": {
      "text/html": [
       "<div>\n",
       "<style scoped>\n",
       "    .dataframe tbody tr th:only-of-type {\n",
       "        vertical-align: middle;\n",
       "    }\n",
       "\n",
       "    .dataframe tbody tr th {\n",
       "        vertical-align: top;\n",
       "    }\n",
       "\n",
       "    .dataframe thead th {\n",
       "        text-align: right;\n",
       "    }\n",
       "</style>\n",
       "<table border=\"1\" class=\"dataframe\">\n",
       "  <thead>\n",
       "    <tr style=\"text-align: right;\">\n",
       "      <th></th>\n",
       "      <th>statefips</th>\n",
       "      <th>state</th>\n",
       "      <th>gisjoin</th>\n",
       "      <th>lat_tract</th>\n",
       "      <th>long_tract</th>\n",
       "      <th>population</th>\n",
       "      <th>adj_radiuspop_5</th>\n",
       "      <th>urbanindex</th>\n",
       "      <th>log_pop</th>\n",
       "    </tr>\n",
       "  </thead>\n",
       "  <tbody>\n",
       "    <tr>\n",
       "      <th>0</th>\n",
       "      <td>1</td>\n",
       "      <td>Alabama</td>\n",
       "      <td>G0100010020100</td>\n",
       "      <td>32.47718</td>\n",
       "      <td>-86.49007</td>\n",
       "      <td>1845</td>\n",
       "      <td>44076.0</td>\n",
       "      <td>10.69367</td>\n",
       "      <td>7.520235</td>\n",
       "    </tr>\n",
       "    <tr>\n",
       "      <th>1</th>\n",
       "      <td>1</td>\n",
       "      <td>Alabama</td>\n",
       "      <td>G0100010020200</td>\n",
       "      <td>32.47425</td>\n",
       "      <td>-86.47337</td>\n",
       "      <td>2172</td>\n",
       "      <td>43008.0</td>\n",
       "      <td>10.66914</td>\n",
       "      <td>7.683404</td>\n",
       "    </tr>\n",
       "    <tr>\n",
       "      <th>2</th>\n",
       "      <td>1</td>\n",
       "      <td>Alabama</td>\n",
       "      <td>G0100010020300</td>\n",
       "      <td>32.47543</td>\n",
       "      <td>-86.46019</td>\n",
       "      <td>3385</td>\n",
       "      <td>38987.0</td>\n",
       "      <td>10.57098</td>\n",
       "      <td>8.127109</td>\n",
       "    </tr>\n",
       "  </tbody>\n",
       "</table>\n",
       "</div>"
      ],
      "text/plain": [
       "   statefips    state         gisjoin  lat_tract  long_tract  population  adj_radiuspop_5  urbanindex   log_pop\n",
       "0          1  Alabama  G0100010020100   32.47718   -86.49007        1845          44076.0    10.69367  7.520235\n",
       "1          1  Alabama  G0100010020200   32.47425   -86.47337        2172          43008.0    10.66914  7.683404\n",
       "2          1  Alabama  G0100010020300   32.47543   -86.46019        3385          38987.0    10.57098  8.127109"
      ]
     },
     "execution_count": 116,
     "metadata": {},
     "output_type": "execute_result"
    }
   ],
   "source": [
    "df = pd.read_csv('../Data/UrbanizationCensusTract.csv', index_col=0)\n",
    "df.head(3)"
   ]
  },
  {
   "cell_type": "markdown",
   "id": "28641ed6-09bd-4541-8608-21f5bcf9395a",
   "metadata": {},
   "source": [
    "## Описание данных\n",
    "\n",
    "\n",
    "- statefip — намер штата США или территории в ведение США\n",
    "- state — название штата или территории\n",
    "- gisjoin — номер переписного района согласно данным переписи 2010 года\n",
    "- lat_tract, long_tract — широта и долгота центра переписного района\n",
    "- population — число жителей переписного района\n",
    "- adj_radiuspop_5 — оцененное значение числа жителей в радиусе пяти миль от переписного пункта\n",
    "- urbanindex — индекс того, насколько городской или сельской является данный район\n",
    "- log_pop — логарифм населения переписного пункта"
   ]
  },
  {
   "cell_type": "markdown",
   "id": "188dcae1-4c3a-4c54-b2cd-83039b16c212",
   "metadata": {},
   "source": [
    "## Задания"
   ]
  },
  {
   "cell_type": "markdown",
   "id": "4dccfa01",
   "metadata": {},
   "source": [
    "### Сравните дисперсии по переменной `log_pop` в штатах Вайоминг (Wyoming) и Южная Дакота (South Dakota). \n",
    "Укажите, верно ли следующее утверждение: полученные дисперсии равны."
   ]
  },
  {
   "cell_type": "code",
   "execution_count": 134,
   "id": "3d2cbf75",
   "metadata": {},
   "outputs": [
    {
     "data": {
      "text/html": [
       "<div>\n",
       "<style scoped>\n",
       "    .dataframe tbody tr th:only-of-type {\n",
       "        vertical-align: middle;\n",
       "    }\n",
       "\n",
       "    .dataframe tbody tr th {\n",
       "        vertical-align: top;\n",
       "    }\n",
       "\n",
       "    .dataframe thead th {\n",
       "        text-align: right;\n",
       "    }\n",
       "</style>\n",
       "<table border=\"1\" class=\"dataframe\">\n",
       "  <thead>\n",
       "    <tr style=\"text-align: right;\">\n",
       "      <th></th>\n",
       "      <th>statefips</th>\n",
       "      <th>state</th>\n",
       "      <th>gisjoin</th>\n",
       "      <th>lat_tract</th>\n",
       "      <th>long_tract</th>\n",
       "      <th>population</th>\n",
       "      <th>adj_radiuspop_5</th>\n",
       "      <th>urbanindex</th>\n",
       "      <th>log_pop</th>\n",
       "    </tr>\n",
       "  </thead>\n",
       "  <tbody>\n",
       "    <tr>\n",
       "      <th>0</th>\n",
       "      <td>1</td>\n",
       "      <td>Alabama</td>\n",
       "      <td>G0100010020100</td>\n",
       "      <td>32.47718</td>\n",
       "      <td>-86.49007</td>\n",
       "      <td>1845</td>\n",
       "      <td>44076.0</td>\n",
       "      <td>10.69367</td>\n",
       "      <td>7.520235</td>\n",
       "    </tr>\n",
       "    <tr>\n",
       "      <th>1</th>\n",
       "      <td>1</td>\n",
       "      <td>Alabama</td>\n",
       "      <td>G0100010020200</td>\n",
       "      <td>32.47425</td>\n",
       "      <td>-86.47337</td>\n",
       "      <td>2172</td>\n",
       "      <td>43008.0</td>\n",
       "      <td>10.66914</td>\n",
       "      <td>7.683404</td>\n",
       "    </tr>\n",
       "    <tr>\n",
       "      <th>2</th>\n",
       "      <td>1</td>\n",
       "      <td>Alabama</td>\n",
       "      <td>G0100010020300</td>\n",
       "      <td>32.47543</td>\n",
       "      <td>-86.46019</td>\n",
       "      <td>3385</td>\n",
       "      <td>38987.0</td>\n",
       "      <td>10.57098</td>\n",
       "      <td>8.127109</td>\n",
       "    </tr>\n",
       "    <tr>\n",
       "      <th>3</th>\n",
       "      <td>1</td>\n",
       "      <td>Alabama</td>\n",
       "      <td>G0100010020400</td>\n",
       "      <td>32.47200</td>\n",
       "      <td>-86.44363</td>\n",
       "      <td>4267</td>\n",
       "      <td>43131.0</td>\n",
       "      <td>10.67200</td>\n",
       "      <td>8.358666</td>\n",
       "    </tr>\n",
       "    <tr>\n",
       "      <th>4</th>\n",
       "      <td>1</td>\n",
       "      <td>Alabama</td>\n",
       "      <td>G0100010020500</td>\n",
       "      <td>32.45883</td>\n",
       "      <td>-86.42266</td>\n",
       "      <td>9965</td>\n",
       "      <td>43131.0</td>\n",
       "      <td>10.67200</td>\n",
       "      <td>9.206834</td>\n",
       "    </tr>\n",
       "    <tr>\n",
       "      <th>...</th>\n",
       "      <td>...</td>\n",
       "      <td>...</td>\n",
       "      <td>...</td>\n",
       "      <td>...</td>\n",
       "      <td>...</td>\n",
       "      <td>...</td>\n",
       "      <td>...</td>\n",
       "      <td>...</td>\n",
       "      <td>...</td>\n",
       "    </tr>\n",
       "    <tr>\n",
       "      <th>73275</th>\n",
       "      <td>72</td>\n",
       "      <td>Puerto Rico</td>\n",
       "      <td>G7201530750501</td>\n",
       "      <td>18.03124</td>\n",
       "      <td>-66.86725</td>\n",
       "      <td>6011</td>\n",
       "      <td>52155.0</td>\n",
       "      <td>10.86198</td>\n",
       "      <td>8.701346</td>\n",
       "    </tr>\n",
       "    <tr>\n",
       "      <th>73276</th>\n",
       "      <td>72</td>\n",
       "      <td>Puerto Rico</td>\n",
       "      <td>G7201530750502</td>\n",
       "      <td>18.02477</td>\n",
       "      <td>-66.86044</td>\n",
       "      <td>2342</td>\n",
       "      <td>55257.0</td>\n",
       "      <td>10.91975</td>\n",
       "      <td>7.758761</td>\n",
       "    </tr>\n",
       "    <tr>\n",
       "      <th>73277</th>\n",
       "      <td>72</td>\n",
       "      <td>Puerto Rico</td>\n",
       "      <td>G7201530750503</td>\n",
       "      <td>18.02527</td>\n",
       "      <td>-66.87763</td>\n",
       "      <td>2218</td>\n",
       "      <td>48423.0</td>\n",
       "      <td>10.78773</td>\n",
       "      <td>7.704361</td>\n",
       "    </tr>\n",
       "    <tr>\n",
       "      <th>73278</th>\n",
       "      <td>72</td>\n",
       "      <td>Puerto Rico</td>\n",
       "      <td>G7201530750601</td>\n",
       "      <td>18.01738</td>\n",
       "      <td>-66.83936</td>\n",
       "      <td>4380</td>\n",
       "      <td>50600.0</td>\n",
       "      <td>10.83171</td>\n",
       "      <td>8.384804</td>\n",
       "    </tr>\n",
       "    <tr>\n",
       "      <th>73279</th>\n",
       "      <td>72</td>\n",
       "      <td>Puerto Rico</td>\n",
       "      <td>G7201530750602</td>\n",
       "      <td>17.98674</td>\n",
       "      <td>-66.85192</td>\n",
       "      <td>3001</td>\n",
       "      <td>44921.0</td>\n",
       "      <td>10.71266</td>\n",
       "      <td>8.006701</td>\n",
       "    </tr>\n",
       "  </tbody>\n",
       "</table>\n",
       "<p>73280 rows × 9 columns</p>\n",
       "</div>"
      ],
      "text/plain": [
       "       statefips        state         gisjoin  lat_tract  long_tract  population  adj_radiuspop_5  urbanindex   log_pop\n",
       "0              1      Alabama  G0100010020100   32.47718   -86.49007        1845          44076.0    10.69367  7.520235\n",
       "1              1      Alabama  G0100010020200   32.47425   -86.47337        2172          43008.0    10.66914  7.683404\n",
       "2              1      Alabama  G0100010020300   32.47543   -86.46019        3385          38987.0    10.57098  8.127109\n",
       "3              1      Alabama  G0100010020400   32.47200   -86.44363        4267          43131.0    10.67200  8.358666\n",
       "4              1      Alabama  G0100010020500   32.45883   -86.42266        9965          43131.0    10.67200  9.206834\n",
       "...          ...          ...             ...        ...         ...         ...              ...         ...       ...\n",
       "73275         72  Puerto Rico  G7201530750501   18.03124   -66.86725        6011          52155.0    10.86198  8.701346\n",
       "73276         72  Puerto Rico  G7201530750502   18.02477   -66.86044        2342          55257.0    10.91975  7.758761\n",
       "73277         72  Puerto Rico  G7201530750503   18.02527   -66.87763        2218          48423.0    10.78773  7.704361\n",
       "73278         72  Puerto Rico  G7201530750601   18.01738   -66.83936        4380          50600.0    10.83171  8.384804\n",
       "73279         72  Puerto Rico  G7201530750602   17.98674   -66.85192        3001          44921.0    10.71266  8.006701\n",
       "\n",
       "[73280 rows x 9 columns]"
      ]
     },
     "execution_count": 134,
     "metadata": {},
     "output_type": "execute_result"
    }
   ],
   "source": [
    "df"
   ]
  },
  {
   "cell_type": "code",
   "execution_count": 191,
   "id": "d7ed7e9b",
   "metadata": {},
   "outputs": [],
   "source": [
    "X = df.loc[df['state'] == 'South Dakota', 'log_pop']\n",
    "Y = df.loc[df['state'] == 'Wyoming', 'log_pop']"
   ]
  },
  {
   "cell_type": "code",
   "execution_count": 137,
   "id": "88cb9d7f",
   "metadata": {},
   "outputs": [
    {
     "data": {
      "text/html": [
       "<div>\n",
       "<style scoped>\n",
       "    .dataframe tbody tr th:only-of-type {\n",
       "        vertical-align: middle;\n",
       "    }\n",
       "\n",
       "    .dataframe tbody tr th {\n",
       "        vertical-align: top;\n",
       "    }\n",
       "\n",
       "    .dataframe thead th {\n",
       "        text-align: right;\n",
       "    }\n",
       "</style>\n",
       "<table border=\"1\" class=\"dataframe\">\n",
       "  <thead>\n",
       "    <tr style=\"text-align: right;\">\n",
       "      <th></th>\n",
       "      <th>log_pop</th>\n",
       "      <th>statefips</th>\n",
       "    </tr>\n",
       "    <tr>\n",
       "      <th>state</th>\n",
       "      <th></th>\n",
       "      <th></th>\n",
       "    </tr>\n",
       "  </thead>\n",
       "  <tbody>\n",
       "    <tr>\n",
       "      <th>South Dakota</th>\n",
       "      <td>0.247386</td>\n",
       "      <td>219</td>\n",
       "    </tr>\n",
       "    <tr>\n",
       "      <th>Wyoming</th>\n",
       "      <td>0.185171</td>\n",
       "      <td>131</td>\n",
       "    </tr>\n",
       "  </tbody>\n",
       "</table>\n",
       "</div>"
      ],
      "text/plain": [
       "               log_pop  statefips\n",
       "state                            \n",
       "South Dakota  0.247386        219\n",
       "Wyoming       0.185171        131"
      ]
     },
     "execution_count": 137,
     "metadata": {},
     "output_type": "execute_result"
    }
   ],
   "source": [
    "df.loc[df['state'].isin(['Wyoming', 'South Dakota'])].groupby(by='state').agg({'log_pop': 'var', 'statefips': 'count'})"
   ]
  },
  {
   "cell_type": "markdown",
   "id": "cd6bae87",
   "metadata": {},
   "source": [
    "### Чему будет равно количество степеней свободы для указанной выше переменной и штатов с поправкой Уэлча? \n",
    "Рассчитайте показатель вручную. Выберите один верный ответ.\n",
    "\n",
    "$\n",
    "V_1 = \\frac{s^2_1}{n_1}\n",
    "$\n",
    "$\n",
    "V_2 = \\frac{s^2_2}{n_2}\n",
    "$\n",
    "\n",
    "$\n",
    "\\begin{align}\n",
    "df = \\frac{(V_1 + V_2)^2}{\\frac{V^2_1}{n_1 - 1} + \\frac{V^2_2}{n_2 - 1}}\n",
    "\\end{align}\n",
    "$"
   ]
  },
  {
   "cell_type": "code",
   "execution_count": 174,
   "id": "14eb0416",
   "metadata": {},
   "outputs": [
    {
     "data": {
      "text/html": [
       "<div>\n",
       "<style scoped>\n",
       "    .dataframe tbody tr th:only-of-type {\n",
       "        vertical-align: middle;\n",
       "    }\n",
       "\n",
       "    .dataframe tbody tr th {\n",
       "        vertical-align: top;\n",
       "    }\n",
       "\n",
       "    .dataframe thead tr th {\n",
       "        text-align: left;\n",
       "    }\n",
       "\n",
       "    .dataframe thead tr:last-of-type th {\n",
       "        text-align: right;\n",
       "    }\n",
       "</style>\n",
       "<table border=\"1\" class=\"dataframe\">\n",
       "  <thead>\n",
       "    <tr>\n",
       "      <th></th>\n",
       "      <th colspan=\"2\" halign=\"left\">log_pop</th>\n",
       "      <th>statefips</th>\n",
       "    </tr>\n",
       "    <tr>\n",
       "      <th></th>\n",
       "      <th>mean</th>\n",
       "      <th>var</th>\n",
       "      <th>count</th>\n",
       "    </tr>\n",
       "    <tr>\n",
       "      <th>state</th>\n",
       "      <th></th>\n",
       "      <th></th>\n",
       "      <th></th>\n",
       "    </tr>\n",
       "  </thead>\n",
       "  <tbody>\n",
       "    <tr>\n",
       "      <th>South Dakota</th>\n",
       "      <td>8.135171</td>\n",
       "      <td>0.247386</td>\n",
       "      <td>219</td>\n",
       "    </tr>\n",
       "    <tr>\n",
       "      <th>Wyoming</th>\n",
       "      <td>8.313296</td>\n",
       "      <td>0.185171</td>\n",
       "      <td>131</td>\n",
       "    </tr>\n",
       "  </tbody>\n",
       "</table>\n",
       "</div>"
      ],
      "text/plain": [
       "               log_pop           statefips\n",
       "                  mean       var     count\n",
       "state                                     \n",
       "South Dakota  8.135171  0.247386       219\n",
       "Wyoming       8.313296  0.185171       131"
      ]
     },
     "metadata": {},
     "output_type": "display_data"
    },
    {
     "data": {
      "text/plain": [
       "304.74376993186036"
      ]
     },
     "execution_count": 174,
     "metadata": {},
     "output_type": "execute_result"
    }
   ],
   "source": [
    "df_f = df \\\n",
    "    .loc[df['state'].isin(['Wyoming', 'South Dakota'])] \\\n",
    "    .groupby(by='state') \\\n",
    "    .agg({'log_pop': ['mean', 'var'], 'statefips': 'count'})\n",
    "\n",
    "display(df_f)\n",
    "\n",
    "mean_1, var_1, n_1 = df_f.loc['South Dakota'].values\n",
    "mean_2, var_2, n_2 = df_f.loc['Wyoming'].values\n",
    "\n",
    "v_1, v_2 = var_1 / n_1, var_2 / n_2\n",
    "\n",
    "df_welch = (v_1 + v_2)**2 / (v_1**2 / (n_1 - 1) + v_2**2 / (n_2 - 1))\n",
    "df_welch"
   ]
  },
  {
   "cell_type": "markdown",
   "id": "b69c343b",
   "metadata": {},
   "source": [
    "### Какой будет критическая область для t-статистики при уровне значимости 0.01 и верно посчитанных выше степенях свободы? \n",
    "Выберите один верный ответ."
   ]
  },
  {
   "cell_type": "code",
   "execution_count": 163,
   "id": "4c1065d5",
   "metadata": {},
   "outputs": [
    {
     "data": {
      "text/plain": [
       "[-2.5921, 2.5921]"
      ]
     },
     "execution_count": 163,
     "metadata": {},
     "output_type": "execute_result"
    }
   ],
   "source": [
    "CI = st.t.interval(alpha=1-0.01, df=int(df_welch)) \n",
    "[round(c, 4) for c in CI]"
   ]
  },
  {
   "cell_type": "markdown",
   "id": "30527c61",
   "metadata": {},
   "source": [
    "### Чему равна стандартная ошибка для выбранных выше штатов и переменной? Выберите один верный ответ."
   ]
  },
  {
   "cell_type": "code",
   "execution_count": 176,
   "id": "15496e1c",
   "metadata": {},
   "outputs": [
    {
     "data": {
      "text/plain": [
       "0.0504"
      ]
     },
     "execution_count": 176,
     "metadata": {},
     "output_type": "execute_result"
    }
   ],
   "source": [
    "s_m1_m2 = np.sqrt(var_1 / n_1 + var_2 / n_2)\n",
    "s_m1_m2.round(4)"
   ]
  },
  {
   "cell_type": "markdown",
   "id": "c9abd98b",
   "metadata": {},
   "source": [
    "#### Чему равна разность между средними выборок по указанным выше штатам? Выберите один верный ответ."
   ]
  },
  {
   "cell_type": "code",
   "execution_count": 177,
   "id": "6d938ab1",
   "metadata": {},
   "outputs": [
    {
     "data": {
      "text/plain": [
       "log_pop    0.178125\n",
       "dtype: float64"
      ]
     },
     "execution_count": 177,
     "metadata": {},
     "output_type": "execute_result"
    }
   ],
   "source": [
    "a = df \\\n",
    "    .loc[df['state'].isin(['Wyoming', 'South Dakota'])] \\\n",
    "    .groupby(by='state').agg({'log_pop': 'mean'}).T\n",
    "\n",
    "np.abs(a['South Dakota'] - a['Wyoming'])"
   ]
  },
  {
   "cell_type": "markdown",
   "id": "723c579c",
   "metadata": {},
   "source": [
    "### Чему получилось равно t-значение для указанных выше штатов и переменной log_pop ? \n",
    "Введите ответ в виде модуля десятичной дроби, округлите до двух знаков после запятой."
   ]
  },
  {
   "cell_type": "code",
   "execution_count": 205,
   "id": "9d458413",
   "metadata": {},
   "outputs": [
    {
     "data": {
      "text/plain": [
       "-3.53"
      ]
     },
     "execution_count": 205,
     "metadata": {},
     "output_type": "execute_result"
    }
   ],
   "source": [
    "# Передаем значения статистик\n",
    "st.ttest_ind_from_stats(\n",
    "    mean1=mean_1, std1=np.sqrt(var_1), nobs1=n_1,\n",
    "    mean2=mean_2, std2=np.sqrt(var_2), nobs2=n_2,\n",
    "    equal_var=False  # False - если дисперсия двую выборок не равна, применяется поправка Уэлча\n",
    ")[0].round(2)"
   ]
  },
  {
   "cell_type": "markdown",
   "id": "19103c89",
   "metadata": {},
   "source": [
    "### Чему получилось равно t-критическое для уровня значимости 0.01? Введите ответ в виде десятичной дроби, округлите до двух знаков после запятой.\n"
   ]
  }
 ],
 "metadata": {
  "hide_input": false,
  "kernelspec": {
   "display_name": "Python 3 (ipykernel)",
   "language": "python",
   "name": "python3"
  },
  "language_info": {
   "codemirror_mode": {
    "name": "ipython",
    "version": 3
   },
   "file_extension": ".py",
   "mimetype": "text/x-python",
   "name": "python",
   "nbconvert_exporter": "python",
   "pygments_lexer": "ipython3",
   "version": "3.9.7"
  },
  "toc": {
   "base_numbering": 1,
   "nav_menu": {},
   "number_sections": true,
   "sideBar": true,
   "skip_h1_title": false,
   "title_cell": "Table of Contents",
   "title_sidebar": "Contents",
   "toc_cell": false,
   "toc_position": {},
   "toc_section_display": true,
   "toc_window_display": true
  },
  "varInspector": {
   "cols": {
    "lenName": 16,
    "lenType": 16,
    "lenVar": 40
   },
   "kernels_config": {
    "python": {
     "delete_cmd_postfix": "",
     "delete_cmd_prefix": "del ",
     "library": "var_list.py",
     "varRefreshCmd": "print(var_dic_list())"
    },
    "r": {
     "delete_cmd_postfix": ") ",
     "delete_cmd_prefix": "rm(",
     "library": "var_list.r",
     "varRefreshCmd": "cat(var_dic_list()) "
    }
   },
   "types_to_exclude": [
    "module",
    "function",
    "builtin_function_or_method",
    "instance",
    "_Feature"
   ],
   "window_display": false
  }
 },
 "nbformat": 4,
 "nbformat_minor": 5
}
