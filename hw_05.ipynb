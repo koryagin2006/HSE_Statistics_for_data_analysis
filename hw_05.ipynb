{
 "cells": [
  {
   "cell_type": "code",
   "execution_count": 1,
   "id": "45de734a-6ab3-41cc-91ea-077e59932f8f",
   "metadata": {},
   "outputs": [],
   "source": [
    "import pandas as pd\n",
    "import numpy as np\n",
    "df_m = pd.read_csv('Data/MarvelComicCaracters.csv', sep=';')"
   ]
  },
  {
   "cell_type": "markdown",
   "id": "fcc4ba16-f438-4f08-a1f8-757561090697",
   "metadata": {},
   "source": [
    "# Описание данных\n",
    "\n",
    "- name — оригинальное имя персонажа вселенной Marvel\n",
    "- align — принадлежность персонажа к доброй/злой/нейтральной стороне\n",
    "- eye — описание глаз персонажа\n",
    "- hair — описание волос персонажа\n",
    "- sex — пол персонажа\n",
    "- appearances — количество появлений персонажа\n",
    "- first_appearance — год первого появления персонажа"
   ]
  },
  {
   "cell_type": "code",
   "execution_count": 2,
   "id": "dc2aed47-3f4f-4333-a5ac-248f21ead533",
   "metadata": {},
   "outputs": [
    {
     "data": {
      "text/html": [
       "<div>\n",
       "<style scoped>\n",
       "    .dataframe tbody tr th:only-of-type {\n",
       "        vertical-align: middle;\n",
       "    }\n",
       "\n",
       "    .dataframe tbody tr th {\n",
       "        vertical-align: top;\n",
       "    }\n",
       "\n",
       "    .dataframe thead th {\n",
       "        text-align: right;\n",
       "    }\n",
       "</style>\n",
       "<table border=\"1\" class=\"dataframe\">\n",
       "  <thead>\n",
       "    <tr style=\"text-align: right;\">\n",
       "      <th></th>\n",
       "      <th>name</th>\n",
       "      <th>align</th>\n",
       "      <th>eye</th>\n",
       "      <th>hair</th>\n",
       "      <th>sex</th>\n",
       "      <th>appearances</th>\n",
       "      <th>first_appearance</th>\n",
       "    </tr>\n",
       "  </thead>\n",
       "  <tbody>\n",
       "    <tr>\n",
       "      <th>0</th>\n",
       "      <td>Spider-Man (Peter Parker)</td>\n",
       "      <td>Добрый персонаж</td>\n",
       "      <td>Карие глаза</td>\n",
       "      <td>Каштановые волосы</td>\n",
       "      <td>Мужской персонаж</td>\n",
       "      <td>4043.0</td>\n",
       "      <td>1962.0</td>\n",
       "    </tr>\n",
       "    <tr>\n",
       "      <th>1</th>\n",
       "      <td>Captain America (Steven Rogers)</td>\n",
       "      <td>Добрый персонаж</td>\n",
       "      <td>Голубые глаза</td>\n",
       "      <td>Белые волосы</td>\n",
       "      <td>Мужской персонаж</td>\n",
       "      <td>3360.0</td>\n",
       "      <td>1941.0</td>\n",
       "    </tr>\n",
       "    <tr>\n",
       "      <th>2</th>\n",
       "      <td>Wolverine (James \\\"Logan\\\" Howlett)</td>\n",
       "      <td>Нейтральный персонаж</td>\n",
       "      <td>Голубые глаза</td>\n",
       "      <td>Черные волосы</td>\n",
       "      <td>Мужской персонаж</td>\n",
       "      <td>3061.0</td>\n",
       "      <td>1974.0</td>\n",
       "    </tr>\n",
       "  </tbody>\n",
       "</table>\n",
       "</div>"
      ],
      "text/plain": [
       "                                  name                 align            eye  \\\n",
       "0            Spider-Man (Peter Parker)       Добрый персонаж    Карие глаза   \n",
       "1      Captain America (Steven Rogers)       Добрый персонаж  Голубые глаза   \n",
       "2  Wolverine (James \\\"Logan\\\" Howlett)  Нейтральный персонаж  Голубые глаза   \n",
       "\n",
       "                hair               sex  appearances  first_appearance  \n",
       "0  Каштановые волосы  Мужской персонаж       4043.0            1962.0  \n",
       "1       Белые волосы  Мужской персонаж       3360.0            1941.0  \n",
       "2      Черные волосы  Мужской персонаж       3061.0            1974.0  "
      ]
     },
     "execution_count": 2,
     "metadata": {},
     "output_type": "execute_result"
    }
   ],
   "source": [
    "df_m.head(n=3)"
   ]
  },
  {
   "cell_type": "markdown",
   "id": "11d7c8a7-d95a-4478-a47a-4e8a9ffe3bc5",
   "metadata": {},
   "source": [
    "# Задания"
   ]
  },
  {
   "cell_type": "markdown",
   "id": "763aeaa4-5db3-4bf2-b9b0-e00ce40fc555",
   "metadata": {},
   "source": [
    "### Сколько пропущенных значений в переменной `appearances`? Выберите один верный ответ."
   ]
  },
  {
   "cell_type": "code",
   "execution_count": 3,
   "id": "52e14064-d172-4a05-be37-c8c123371306",
   "metadata": {},
   "outputs": [
    {
     "data": {
      "text/plain": [
       "1096"
      ]
     },
     "execution_count": 3,
     "metadata": {},
     "output_type": "execute_result"
    }
   ],
   "source": [
    "df_m['appearances'].isna().sum()"
   ]
  },
  {
   "cell_type": "markdown",
   "id": "0dc3b7fc-d87e-4b24-8a0a-adb37d631c47",
   "metadata": {},
   "source": [
    "### Укажите, верно ли следующее утверждение: наибольший межквартильный размах по переменной `appearances` будет для злых персонажей. Вам понадобятся данные по типу персонажа (переменная `align`), удалите пропущенные значения по столбцу `appearances` и посчитайте требуемую меру разброса."
   ]
  },
  {
   "cell_type": "code",
   "execution_count": 6,
   "id": "a4ae91df-434b-4135-a470-9406b457156a",
   "metadata": {},
   "outputs": [],
   "source": [
    "def get_iqr(a):\n",
    "    q1 = np.percentile(a, 25)\n",
    "    q3 = np.percentile(a, 75) \n",
    "    return q3 - q1\n",
    "\n",
    "\n",
    "def get_iqr_outlier_thresholds(df, col, n_iqr):\n",
    "    q1 = df[col].quantile(0.25)\n",
    "    q3 = df[col].quantile(0.75)\n",
    "    iqr = q3 - q1\n",
    "    \n",
    "    iqr_outlier_threshold_bottom = q1 - n_iqr * iqr\n",
    "    iqr_outlier_threshold_up = q3 + n_iqr * iqr\n",
    "    return iqr_outlier_threshold_bottom, iqr_outlier_threshold_up"
   ]
  },
  {
   "cell_type": "code",
   "execution_count": 4,
   "id": "28c8547a-4c18-4bad-bb78-fb11e32acc75",
   "metadata": {},
   "outputs": [
    {
     "data": {
      "text/plain": [
       "align\n",
       "Добрый персонаж         13.0\n",
       "Нейтральный персонаж     8.0\n",
       "Злой персонаж            5.0\n",
       "Name: appearances, dtype: float64"
      ]
     },
     "execution_count": 4,
     "metadata": {},
     "output_type": "execute_result"
    }
   ],
   "source": [
    "df_m \\\n",
    "    .loc[df_m['appearances'].notna(), :] \\\n",
    "    .groupby('align')['appearances'].agg(get_iqr) \\\n",
    "    .sort_values(ascending=False)"
   ]
  },
  {
   "cell_type": "markdown",
   "id": "acba0e1f-5fdc-4f42-b571-4562d704fe4f",
   "metadata": {},
   "source": [
    "### Сколько выбросов встречается по переменной `appearances`? Работайте с исходными данными, предварительно удалите пропущенные значения по столбцу `appearances`, используйте для нахождения выбросов межквартильный размах. Выберите один верный ответ."
   ]
  },
  {
   "cell_type": "code",
   "execution_count": 16,
   "id": "ea226865-d9c8-41d4-9e43-ea2dc3046e7c",
   "metadata": {},
   "outputs": [
    {
     "data": {
      "text/plain": [
       "1938"
      ]
     },
     "execution_count": 16,
     "metadata": {},
     "output_type": "execute_result"
    }
   ],
   "source": [
    "d.loc[d['appearances'] > get_iqr_outlier_thresholds(d, 'appearances', 1.5)[1]].shape[0]"
   ]
  },
  {
   "cell_type": "markdown",
   "id": "4077ff04-92ac-487a-9533-8935eafe5dc9",
   "metadata": {},
   "source": [
    "### На основе данных, полученных в третьем номере, укажите, верно ли следующее утверждение: наибольшее количество выбросов по переменной `appearances` наблюдается у добрых персонажей."
   ]
  },
  {
   "cell_type": "code",
   "execution_count": 39,
   "id": "041f037e-01cf-4ac0-b5da-f50df08d672b",
   "metadata": {},
   "outputs": [
    {
     "data": {
      "text/plain": [
       "'Добрый персонаж'"
      ]
     },
     "execution_count": 39,
     "metadata": {},
     "output_type": "execute_result"
    }
   ],
   "source": [
    "d \\\n",
    "    .loc[d['appearances'] > get_iqr_outlier_thresholds(d, 'appearances', 1.5)[1]] \\\n",
    "    .pivot_table(values='name', index='align', aggfunc='count', dropna=False) \\\n",
    "    .sort_values('name', ascending=False) \\\n",
    "    .index[0]"
   ]
  },
  {
   "cell_type": "markdown",
   "id": "6ae8be56-07dc-43d3-826b-c71a9509c164",
   "metadata": {},
   "source": [
    "### Создайте новую переменную, которая будет представлять собой прологарифмированную переменную `appearances`. Сколько выбросов получится по новой переменной? Работайте с исходными данными, предварительно удалите пропущенные значения по новому столбцу, используйте для нахождения выбросов три среднеквадратичных отклонения от среднего. Введите ответ в виде целого числа."
   ]
  },
  {
   "cell_type": "code",
   "execution_count": null,
   "id": "f385999b-6467-4a7f-b0e3-1fc98f343f6a",
   "metadata": {},
   "outputs": [],
   "source": []
  }
 ],
 "metadata": {
  "kernelspec": {
   "display_name": "Python 3 (ipykernel)",
   "language": "python",
   "name": "python3"
  },
  "language_info": {
   "codemirror_mode": {
    "name": "ipython",
    "version": 3
   },
   "file_extension": ".py",
   "mimetype": "text/x-python",
   "name": "python",
   "nbconvert_exporter": "python",
   "pygments_lexer": "ipython3",
   "version": "3.9.7"
  },
  "toc-autonumbering": true
 },
 "nbformat": 4,
 "nbformat_minor": 5
}
