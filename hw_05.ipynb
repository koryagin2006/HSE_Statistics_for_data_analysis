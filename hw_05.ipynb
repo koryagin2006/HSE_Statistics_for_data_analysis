{
 "cells": [
  {
   "cell_type": "code",
   "execution_count": 4,
   "id": "45de734a-6ab3-41cc-91ea-077e59932f8f",
   "metadata": {},
   "outputs": [],
   "source": [
    "import pandas as pd\n",
    "import numpy as np\n",
    "df_m = pd.read_csv('Data/MarvelComicCaracters.csv', sep=';')"
   ]
  },
  {
   "cell_type": "markdown",
   "id": "fcc4ba16-f438-4f08-a1f8-757561090697",
   "metadata": {},
   "source": [
    "# Описание данных\n",
    "\n",
    "- name — оригинальное имя персонажа вселенной Marvel\n",
    "- align — принадлежность персонажа к доброй/злой/нейтральной стороне\n",
    "- eye — описание глаз персонажа\n",
    "- hair — описание волос персонажа\n",
    "- sex — пол персонажа\n",
    "- appearances — количество появлений персонажа\n",
    "- first_appearance — год первого появления персонажа"
   ]
  },
  {
   "cell_type": "code",
   "execution_count": 5,
   "id": "dc2aed47-3f4f-4333-a5ac-248f21ead533",
   "metadata": {},
   "outputs": [
    {
     "data": {
      "text/html": [
       "<div>\n",
       "<style scoped>\n",
       "    .dataframe tbody tr th:only-of-type {\n",
       "        vertical-align: middle;\n",
       "    }\n",
       "\n",
       "    .dataframe tbody tr th {\n",
       "        vertical-align: top;\n",
       "    }\n",
       "\n",
       "    .dataframe thead th {\n",
       "        text-align: right;\n",
       "    }\n",
       "</style>\n",
       "<table border=\"1\" class=\"dataframe\">\n",
       "  <thead>\n",
       "    <tr style=\"text-align: right;\">\n",
       "      <th></th>\n",
       "      <th>name</th>\n",
       "      <th>align</th>\n",
       "      <th>eye</th>\n",
       "      <th>hair</th>\n",
       "      <th>sex</th>\n",
       "      <th>appearances</th>\n",
       "      <th>first_appearance</th>\n",
       "    </tr>\n",
       "  </thead>\n",
       "  <tbody>\n",
       "    <tr>\n",
       "      <th>0</th>\n",
       "      <td>Spider-Man (Peter Parker)</td>\n",
       "      <td>Добрый персонаж</td>\n",
       "      <td>Карие глаза</td>\n",
       "      <td>Каштановые волосы</td>\n",
       "      <td>Мужской персонаж</td>\n",
       "      <td>4043.0</td>\n",
       "      <td>1962.0</td>\n",
       "    </tr>\n",
       "    <tr>\n",
       "      <th>1</th>\n",
       "      <td>Captain America (Steven Rogers)</td>\n",
       "      <td>Добрый персонаж</td>\n",
       "      <td>Голубые глаза</td>\n",
       "      <td>Белые волосы</td>\n",
       "      <td>Мужской персонаж</td>\n",
       "      <td>3360.0</td>\n",
       "      <td>1941.0</td>\n",
       "    </tr>\n",
       "    <tr>\n",
       "      <th>2</th>\n",
       "      <td>Wolverine (James \\\"Logan\\\" Howlett)</td>\n",
       "      <td>Нейтральный персонаж</td>\n",
       "      <td>Голубые глаза</td>\n",
       "      <td>Черные волосы</td>\n",
       "      <td>Мужской персонаж</td>\n",
       "      <td>3061.0</td>\n",
       "      <td>1974.0</td>\n",
       "    </tr>\n",
       "  </tbody>\n",
       "</table>\n",
       "</div>"
      ],
      "text/plain": [
       "                                  name                 align            eye  \\\n",
       "0            Spider-Man (Peter Parker)       Добрый персонаж    Карие глаза   \n",
       "1      Captain America (Steven Rogers)       Добрый персонаж  Голубые глаза   \n",
       "2  Wolverine (James \\\"Logan\\\" Howlett)  Нейтральный персонаж  Голубые глаза   \n",
       "\n",
       "                hair               sex  appearances  first_appearance  \n",
       "0  Каштановые волосы  Мужской персонаж       4043.0            1962.0  \n",
       "1       Белые волосы  Мужской персонаж       3360.0            1941.0  \n",
       "2      Черные волосы  Мужской персонаж       3061.0            1974.0  "
      ]
     },
     "execution_count": 5,
     "metadata": {},
     "output_type": "execute_result"
    }
   ],
   "source": [
    "df_m.head(n=3)"
   ]
  },
  {
   "cell_type": "markdown",
   "id": "11d7c8a7-d95a-4478-a47a-4e8a9ffe3bc5",
   "metadata": {},
   "source": [
    "# Задания"
   ]
  },
  {
   "cell_type": "markdown",
   "id": "763aeaa4-5db3-4bf2-b9b0-e00ce40fc555",
   "metadata": {},
   "source": [
    "### Сколько пропущенных значений в переменной `appearances`? Выберите один верный ответ."
   ]
  },
  {
   "cell_type": "code",
   "execution_count": 6,
   "id": "52e14064-d172-4a05-be37-c8c123371306",
   "metadata": {},
   "outputs": [
    {
     "data": {
      "text/plain": [
       "1096"
      ]
     },
     "execution_count": 6,
     "metadata": {},
     "output_type": "execute_result"
    }
   ],
   "source": [
    "df_m['appearances'].isna().sum()"
   ]
  },
  {
   "cell_type": "markdown",
   "id": "0dc3b7fc-d87e-4b24-8a0a-adb37d631c47",
   "metadata": {},
   "source": [
    "### Укажите, верно ли следующее утверждение: наибольший межквартильный размах по переменной `appearances` будет для злых персонажей. Вам понадобятся данные по типу персонажа (переменная `align`), удалите пропущенные значения по столбцу `appearances` и посчитайте требуемую меру разброса."
   ]
  },
  {
   "cell_type": "code",
   "execution_count": 7,
   "id": "a4ae91df-434b-4135-a470-9406b457156a",
   "metadata": {},
   "outputs": [],
   "source": [
    "def get_iqr(a):\n",
    "    q1 = np.percentile(a, 25)\n",
    "    q3 = np.percentile(a, 75) \n",
    "    return q3 - q1\n",
    "\n",
    "\n",
    "def get_iqr_outlier_thresholds(df, col, n_iqr):\n",
    "    q1 = df[col].quantile(0.25)\n",
    "    q3 = df[col].quantile(0.75)\n",
    "    iqr = q3 - q1\n",
    "    \n",
    "    iqr_outlier_threshold_bottom = q1 - n_iqr * iqr\n",
    "    iqr_outlier_threshold_up = q3 + n_iqr * iqr\n",
    "    return iqr_outlier_threshold_bottom, iqr_outlier_threshold_up"
   ]
  },
  {
   "cell_type": "code",
   "execution_count": 8,
   "id": "28c8547a-4c18-4bad-bb78-fb11e32acc75",
   "metadata": {},
   "outputs": [
    {
     "data": {
      "text/plain": [
       "align\n",
       "Добрый персонаж         13.0\n",
       "Нейтральный персонаж     8.0\n",
       "Злой персонаж            5.0\n",
       "Name: appearances, dtype: float64"
      ]
     },
     "execution_count": 8,
     "metadata": {},
     "output_type": "execute_result"
    }
   ],
   "source": [
    "df_m \\\n",
    "    .loc[df_m['appearances'].notna(), :] \\\n",
    "    .groupby('align')['appearances'].agg(get_iqr) \\\n",
    "    .sort_values(ascending=False)"
   ]
  },
  {
   "cell_type": "markdown",
   "id": "acba0e1f-5fdc-4f42-b571-4562d704fe4f",
   "metadata": {},
   "source": [
    "### Сколько выбросов встречается по переменной `appearances`? Работайте с исходными данными, предварительно удалите пропущенные значения по столбцу `appearances`, используйте для нахождения выбросов межквартильный размах. Выберите один верный ответ."
   ]
  },
  {
   "cell_type": "code",
   "execution_count": 11,
   "id": "ea226865-d9c8-41d4-9e43-ea2dc3046e7c",
   "metadata": {},
   "outputs": [
    {
     "data": {
      "text/plain": [
       "1938"
      ]
     },
     "execution_count": 11,
     "metadata": {},
     "output_type": "execute_result"
    }
   ],
   "source": [
    "d_notna = df_m.loc[df_m['appearances'].notna(), :]\n",
    "\n",
    "d_notna.loc[d_notna['appearances'] > get_iqr_outlier_thresholds(d_notna, 'appearances', 1.5)[1]].shape[0]"
   ]
  },
  {
   "cell_type": "markdown",
   "id": "4077ff04-92ac-487a-9533-8935eafe5dc9",
   "metadata": {},
   "source": [
    "### На основе данных, полученных в третьем номере, укажите, верно ли следующее утверждение: наибольшее количество выбросов по переменной `appearances` наблюдается у добрых персонажей."
   ]
  },
  {
   "cell_type": "code",
   "execution_count": 14,
   "id": "041f037e-01cf-4ac0-b5da-f50df08d672b",
   "metadata": {},
   "outputs": [
    {
     "data": {
      "text/plain": [
       "'Добрый персонаж'"
      ]
     },
     "execution_count": 14,
     "metadata": {},
     "output_type": "execute_result"
    }
   ],
   "source": [
    "d_notna \\\n",
    "    .loc[d_notna['appearances'] > get_iqr_outlier_thresholds(d_notna, 'appearances', 1.5)[1]] \\\n",
    "    .pivot_table(values='name', index='align', aggfunc='count', dropna=False) \\\n",
    "    .sort_values('name', ascending=False) \\\n",
    "    .index[0]"
   ]
  },
  {
   "cell_type": "markdown",
   "id": "6ae8be56-07dc-43d3-826b-c71a9509c164",
   "metadata": {},
   "source": [
    "### Создайте новую переменную, которая будет представлять собой прологарифмированную переменную `appearances`. Сколько выбросов получится по новой переменной? Работайте с исходными данными, предварительно удалите пропущенные значения по новому столбцу, используйте для нахождения выбросов три среднеквадратичных отклонения от среднего. Введите ответ в виде целого числа."
   ]
  },
  {
   "cell_type": "code",
   "execution_count": 27,
   "id": "e81e9977-9141-4ad6-bd13-607f022284f4",
   "metadata": {},
   "outputs": [],
   "source": [
    "def get_std_outlier_thresholds(df, col, n_std):\n",
    "    mean, std = df[col].mean(), df[col].std()\n",
    "    std_outlier_threshold_bottom = mean - n_std * std\n",
    "    std_outlier_threshold_up = mean + n_std * std\n",
    "    return std_outlier_threshold_bottom, std_outlier_threshold_up"
   ]
  },
  {
   "cell_type": "code",
   "execution_count": 34,
   "id": "f385999b-6467-4a7f-b0e3-1fc98f343f6a",
   "metadata": {},
   "outputs": [
    {
     "data": {
      "text/plain": [
       "195"
      ]
     },
     "execution_count": 34,
     "metadata": {},
     "output_type": "execute_result"
    }
   ],
   "source": [
    "d_log = df_m.copy()\n",
    "d_log['appearances_log'] = np.log(d_log['appearances'])\n",
    "d_log = d_log.loc[d_log['appearances_log'].notna()]\n",
    "\n",
    "low, high = get_std_outlier_thresholds(d_log, 'appearances_log', 3)\n",
    "d_log.loc[(d_log['appearances_log'] > high) |\n",
    "          (d_log['appearances_log'] < low)\n",
    "          ,:].shape[0]"
   ]
  },
  {
   "cell_type": "markdown",
   "id": "bd128326-ac4c-45dd-bcdc-3a005d3d7fdf",
   "metadata": {},
   "source": [
    "### Сколько выбросов получится по переменной `appearancs`? Работайте с исходными данными, предварительно удалите пропущенные значения по столбцу `appearances`, используйте для нахождения выбросов три среднеквадратичных отклонения от среднего. Введите ответ в виде целого числа."
   ]
  },
  {
   "cell_type": "code",
   "execution_count": 48,
   "id": "834d8a65-82e3-4833-89e3-7f31eee01175",
   "metadata": {},
   "outputs": [
    {
     "data": {
      "text/plain": [
       "128"
      ]
     },
     "execution_count": 48,
     "metadata": {},
     "output_type": "execute_result"
    }
   ],
   "source": [
    "d_notna = df_m.loc[df_m['appearances'].notna(), :]\n",
    "\n",
    "low, high = get_std_outlier_thresholds(d_notna, 'appearances', 3)\n",
    "d_notna.loc[(d_notna['appearances'] < low) | (d_notna['appearances'] > high)].shape[0]"
   ]
  },
  {
   "cell_type": "markdown",
   "id": "fec45169-27f8-4d80-9f3f-3f52bf7b4f04",
   "metadata": {},
   "source": [
    "### Сколько выбросов получится по переменной `appearancs`, если выбраны только женские персонажи? Работайте с исходными данными, выберите женских персонажей, удалите пропущенные значения по столбцу `appearancs`, используйте для нахождения выбросов z-оценку и три среднеквадратичных отклонения от среднего. Введите ответ в виде целого числа."
   ]
  },
  {
   "cell_type": "code",
   "execution_count": 49,
   "id": "2e6166fd-1fc0-4397-8f82-2d2a74618a4b",
   "metadata": {},
   "outputs": [
    {
     "data": {
      "text/plain": [
       "48"
      ]
     },
     "execution_count": 49,
     "metadata": {},
     "output_type": "execute_result"
    }
   ],
   "source": [
    "d_fem_notna = df_m[(df_m['appearances'].notna()) &\n",
    "                   (df_m['sex'] == 'Женский персонаж')\n",
    "                  ]\n",
    "low, high = get_std_outlier_thresholds(d_fem_notna, 'appearances', 3)\n",
    "d_fem_notna.loc[(d_fem_notna['appearances'] < low) | (d_fem_notna['appearances'] > high)].shape[0]"
   ]
  },
  {
   "cell_type": "markdown",
   "id": "84615f40-d993-4a53-ab0f-7e57a075a85a",
   "metadata": {},
   "source": [
    "### Сравните среднее значение по переменной `appearancs` в двух датафреймах — без выбросов, определенных по межквартильному размаху, и без выбросов, определенных по трем среднеквадратичным отклонениям от среднего. Будем считать, что границы датафреймов без выбросов содержат значения верхних и нижних границ, определенных по межквартильному размаху или среднеквадратичному отклонению от среднего. В ответ запишите число (наибольшее среднее из двух), округлите до целого."
   ]
  },
  {
   "cell_type": "code",
   "execution_count": 63,
   "id": "949d38a2-b6a2-4219-9818-d6bacf018b02",
   "metadata": {},
   "outputs": [
    {
     "data": {
      "text/plain": [
       "617"
      ]
     },
     "execution_count": 63,
     "metadata": {},
     "output_type": "execute_result"
    }
   ],
   "source": [
    "d_notna = df_m.loc[df_m['appearances'].notna(), :]\n",
    "d_notna\n",
    "\n",
    "std_low, std_high = get_std_outlier_thresholds(d_notna, 'appearances', 3.0)\n",
    "iqr_low, iqr_high = get_iqr_outlier_thresholds(d_notna, 'appearances', 1.5)\n",
    "\n",
    "outliers = {\n",
    "    'std': d_fem_notna.loc[(d_fem_notna['appearances'] <= std_low) | (d_fem_notna['appearances'] >= std_high), 'appearances'].mean(),\n",
    "    'iqr': d_fem_notna.loc[(d_fem_notna['appearances'] <= iqr_low) | (d_fem_notna['appearances'] >= iqr_high), 'appearances'].mean()\n",
    "}\n",
    "\n",
    "round(\n",
    "    max(\n",
    "        outliers.values()\n",
    "    )\n",
    ")"
   ]
  },
  {
   "cell_type": "markdown",
   "id": "314fbd2a-ef3a-4f67-9370-02304e78fd3f",
   "metadata": {},
   "source": [
    "### Укажите, верно ли следующее утверждение: в датафрейме для добрых женских персонажей мода по переменной `hair` не изменится, если удалить выбросы по переменной `appearances`. Работайте с исходными данными, предварительно удалите пропущенные значения по столбцу `appearances`, используйте для нахождения выбросов межквартильный размах."
   ]
  },
  {
   "cell_type": "code",
   "execution_count": 76,
   "id": "23259548-26f3-478a-b53d-ec49d8c468f6",
   "metadata": {},
   "outputs": [
    {
     "data": {
      "text/plain": [
       "array([ True])"
      ]
     },
     "execution_count": 76,
     "metadata": {},
     "output_type": "execute_result"
    }
   ],
   "source": [
    "d_notna = df_m.loc[df_m['appearances'].notna(), :]\n",
    "\n",
    "iqr_low, iqr_high = get_iqr_outlier_thresholds(d_notna, 'appearances', 1.5)\n",
    "\n",
    "\n",
    "d_fem_notna.loc[(d_fem_notna['appearances'] >= iqr_low) & (d_fem_notna['appearances'] <= iqr_high), 'hair'].mode().values == df_m['hair'].mode().values"
   ]
  },
  {
   "cell_type": "markdown",
   "id": "2602c3f8-a49e-47dc-b713-ca182dd84205",
   "metadata": {},
   "source": [
    "### Выберите только злых персонажей. Сравните медиану по переменной appearances в двух датафреймах — с выбросами и без выбросов, определенных по межквартильному размаху. В ответ запишите число (наибольшее среднее из двух), округлите до целого."
   ]
  },
  {
   "cell_type": "code",
   "execution_count": 83,
   "id": "f65112ee-bd47-4d6f-a911-1e8d2b6d69d7",
   "metadata": {},
   "outputs": [
    {
     "data": {
      "text/plain": [
       "27.0"
      ]
     },
     "execution_count": 83,
     "metadata": {},
     "output_type": "execute_result"
    }
   ],
   "source": [
    "d_u = df_m[df_m['align'] == 'Злой персонаж']\n",
    "d_u_notna = d_u.loc[d_u['appearances'].notna(), :]\n",
    "\n",
    "iqr_low, iqr_high = get_iqr_outlier_thresholds(d_u_notna, 'appearances', 1.5)\n",
    "median = {'d_u': d_u.loc[:, 'appearances'].median(),\n",
    "          'd_u_notna': d_u_notna.loc[(d_u_notna['appearances'] < iqr_low) | (d_u_notna['appearances'] > iqr_high), 'appearances'].median()\n",
    "         }\n",
    "max(median.values())"
   ]
  }
 ],
 "metadata": {
  "kernelspec": {
   "display_name": "Python 3 (ipykernel)",
   "language": "python",
   "name": "python3"
  },
  "language_info": {
   "codemirror_mode": {
    "name": "ipython",
    "version": 3
   },
   "file_extension": ".py",
   "mimetype": "text/x-python",
   "name": "python",
   "nbconvert_exporter": "python",
   "pygments_lexer": "ipython3",
   "version": "3.9.7"
  },
  "toc-autonumbering": true
 },
 "nbformat": 4,
 "nbformat_minor": 5
}
