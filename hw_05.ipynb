{
 "cells": [
  {
   "cell_type": "code",
   "execution_count": 28,
   "id": "45de734a-6ab3-41cc-91ea-077e59932f8f",
   "metadata": {},
   "outputs": [],
   "source": [
    "import pandas as pd\n",
    "import numpy as np\n",
    "df_m = pd.read_csv('Data/MarvelComicCaracters.csv', sep=';')"
   ]
  },
  {
   "cell_type": "markdown",
   "id": "fcc4ba16-f438-4f08-a1f8-757561090697",
   "metadata": {},
   "source": [
    "# Описание данных\n",
    "\n",
    "- name — оригинальное имя персонажа вселенной Marvel\n",
    "- align — принадлежность персонажа к доброй/злой/нейтральной стороне\n",
    "- eye — описание глаз персонажа\n",
    "- hair — описание волос персонажа\n",
    "- sex — пол персонажа\n",
    "- appearances — количество появлений персонажа\n",
    "- first_appearance — год первого появления персонажа"
   ]
  },
  {
   "cell_type": "code",
   "execution_count": null,
   "id": "dc2aed47-3f4f-4333-a5ac-248f21ead533",
   "metadata": {},
   "outputs": [],
   "source": [
    "df_m.head(n=3)"
   ]
  },
  {
   "cell_type": "markdown",
   "id": "11d7c8a7-d95a-4478-a47a-4e8a9ffe3bc5",
   "metadata": {},
   "source": [
    "# Задания"
   ]
  },
  {
   "cell_type": "markdown",
   "id": "763aeaa4-5db3-4bf2-b9b0-e00ce40fc555",
   "metadata": {},
   "source": [
    "### Сколько пропущенных значений в переменной `appearances`? Выберите один верный ответ."
   ]
  },
  {
   "cell_type": "code",
   "execution_count": 15,
   "id": "52e14064-d172-4a05-be37-c8c123371306",
   "metadata": {},
   "outputs": [
    {
     "data": {
      "text/plain": [
       "1096"
      ]
     },
     "execution_count": 15,
     "metadata": {},
     "output_type": "execute_result"
    }
   ],
   "source": [
    "df_m['appearances'].isna().sum()"
   ]
  },
  {
   "cell_type": "markdown",
   "id": "0dc3b7fc-d87e-4b24-8a0a-adb37d631c47",
   "metadata": {},
   "source": [
    "### Укажите, верно ли следующее утверждение: наибольший межквартильный размах по переменной `appearances` будет для злых персонажей. Вам понадобятся данные по типу персонажа (переменная `align`), удалите пропущенные значения по столбцу `appearances` и посчитайте требуемую меру разброса."
   ]
  },
  {
   "cell_type": "code",
   "execution_count": 69,
   "id": "86ce68b7-0f5f-4800-9f7a-a092832d6c30",
   "metadata": {},
   "outputs": [
    {
     "data": {
      "text/plain": [
       "align\n",
       "Добрый персонаж         13.0\n",
       "Нейтральный персонаж     8.0\n",
       "Злой персонаж            5.0\n",
       "Name: appearances, dtype: float64"
      ]
     },
     "execution_count": 69,
     "metadata": {},
     "output_type": "execute_result"
    }
   ],
   "source": [
    "def get_iqr(a):\n",
    "    q1 = np.percentile(a, 25)\n",
    "    q3 = np.percentile(a, 75) \n",
    "    return q3 - q1\n",
    "\n",
    "df_m \\\n",
    "    .loc[df_m['appearances'].notna(), :] \\\n",
    "    .groupby('align')['appearances'].agg(get_iqr) \\\n",
    "    .sort_values(ascending=False)"
   ]
  },
  {
   "cell_type": "markdown",
   "id": "acba0e1f-5fdc-4f42-b571-4562d704fe4f",
   "metadata": {},
   "source": [
    "### Сколько выбросов встречается по переменной `appearances`? Работайте с исходными данными, предварительно удалите пропущенные значения по столбцу `appearances`, используйте для нахождения выбросов межквартильный размах. Выберите один верный ответ."
   ]
  },
  {
   "cell_type": "code",
   "execution_count": 72,
   "id": "223ba3c7-7ddf-4f80-9179-6232e9ecb03a",
   "metadata": {},
   "outputs": [
    {
     "data": {
      "text/html": [
       "<div>\n",
       "<style scoped>\n",
       "    .dataframe tbody tr th:only-of-type {\n",
       "        vertical-align: middle;\n",
       "    }\n",
       "\n",
       "    .dataframe tbody tr th {\n",
       "        vertical-align: top;\n",
       "    }\n",
       "\n",
       "    .dataframe thead th {\n",
       "        text-align: right;\n",
       "    }\n",
       "</style>\n",
       "<table border=\"1\" class=\"dataframe\">\n",
       "  <thead>\n",
       "    <tr style=\"text-align: right;\">\n",
       "      <th></th>\n",
       "      <th>name</th>\n",
       "      <th>align</th>\n",
       "      <th>eye</th>\n",
       "      <th>hair</th>\n",
       "      <th>sex</th>\n",
       "      <th>appearances</th>\n",
       "      <th>first_appearance</th>\n",
       "    </tr>\n",
       "  </thead>\n",
       "  <tbody>\n",
       "    <tr>\n",
       "      <th>0</th>\n",
       "      <td>Spider-Man (Peter Parker)</td>\n",
       "      <td>Добрый персонаж</td>\n",
       "      <td>Карие глаза</td>\n",
       "      <td>Каштановые волосы</td>\n",
       "      <td>Мужской персонаж</td>\n",
       "      <td>4043.0</td>\n",
       "      <td>1962.0</td>\n",
       "    </tr>\n",
       "    <tr>\n",
       "      <th>1</th>\n",
       "      <td>Captain America (Steven Rogers)</td>\n",
       "      <td>Добрый персонаж</td>\n",
       "      <td>Голубые глаза</td>\n",
       "      <td>Белые волосы</td>\n",
       "      <td>Мужской персонаж</td>\n",
       "      <td>3360.0</td>\n",
       "      <td>1941.0</td>\n",
       "    </tr>\n",
       "    <tr>\n",
       "      <th>2</th>\n",
       "      <td>Wolverine (James \\\"Logan\\\" Howlett)</td>\n",
       "      <td>Нейтральный персонаж</td>\n",
       "      <td>Голубые глаза</td>\n",
       "      <td>Черные волосы</td>\n",
       "      <td>Мужской персонаж</td>\n",
       "      <td>3061.0</td>\n",
       "      <td>1974.0</td>\n",
       "    </tr>\n",
       "    <tr>\n",
       "      <th>3</th>\n",
       "      <td>Iron Man (Anthony \\\"Tony\\\" Stark)</td>\n",
       "      <td>Добрый персонаж</td>\n",
       "      <td>Голубые глаза</td>\n",
       "      <td>Черные волосы</td>\n",
       "      <td>Мужской персонаж</td>\n",
       "      <td>2961.0</td>\n",
       "      <td>1963.0</td>\n",
       "    </tr>\n",
       "    <tr>\n",
       "      <th>4</th>\n",
       "      <td>Thor (Thor Odinson)</td>\n",
       "      <td>Добрый персонаж</td>\n",
       "      <td>Голубые глаза</td>\n",
       "      <td>Русые волосы</td>\n",
       "      <td>Мужской персонаж</td>\n",
       "      <td>2258.0</td>\n",
       "      <td>1950.0</td>\n",
       "    </tr>\n",
       "    <tr>\n",
       "      <th>...</th>\n",
       "      <td>...</td>\n",
       "      <td>...</td>\n",
       "      <td>...</td>\n",
       "      <td>...</td>\n",
       "      <td>...</td>\n",
       "      <td>...</td>\n",
       "      <td>...</td>\n",
       "    </tr>\n",
       "    <tr>\n",
       "      <th>15275</th>\n",
       "      <td>Visher-Rakk (Earth-616)</td>\n",
       "      <td>Злой персонаж</td>\n",
       "      <td>NaN</td>\n",
       "      <td>NaN</td>\n",
       "      <td>NaN</td>\n",
       "      <td>1.0</td>\n",
       "      <td>NaN</td>\n",
       "    </tr>\n",
       "    <tr>\n",
       "      <th>15276</th>\n",
       "      <td>Weapon Red (Chinese Mutant) (Earth-616)</td>\n",
       "      <td>Злой персонаж</td>\n",
       "      <td>Белые глаза</td>\n",
       "      <td>Черные волосы</td>\n",
       "      <td>Мужской персонаж</td>\n",
       "      <td>1.0</td>\n",
       "      <td>NaN</td>\n",
       "    </tr>\n",
       "    <tr>\n",
       "      <th>15277</th>\n",
       "      <td>Wolfgang von Roehm (Earth-616)</td>\n",
       "      <td>Нейтральный персонаж</td>\n",
       "      <td>NaN</td>\n",
       "      <td>NaN</td>\n",
       "      <td>Мужской персонаж</td>\n",
       "      <td>1.0</td>\n",
       "      <td>NaN</td>\n",
       "    </tr>\n",
       "    <tr>\n",
       "      <th>15278</th>\n",
       "      <td>Xan (Earth-616)</td>\n",
       "      <td>Злой персонаж</td>\n",
       "      <td>Желтые глаза</td>\n",
       "      <td>Черные волосы</td>\n",
       "      <td>Мужской персонаж</td>\n",
       "      <td>1.0</td>\n",
       "      <td>NaN</td>\n",
       "    </tr>\n",
       "    <tr>\n",
       "      <th>15279</th>\n",
       "      <td>Zamira (Earth-616)</td>\n",
       "      <td>Добрый персонаж</td>\n",
       "      <td>Темно-карие глаза</td>\n",
       "      <td>Черные волосы</td>\n",
       "      <td>Женский персонаж</td>\n",
       "      <td>1.0</td>\n",
       "      <td>NaN</td>\n",
       "    </tr>\n",
       "  </tbody>\n",
       "</table>\n",
       "<p>15280 rows × 7 columns</p>\n",
       "</div>"
      ],
      "text/plain": [
       "                                          name                 align  \\\n",
       "0                    Spider-Man (Peter Parker)       Добрый персонаж   \n",
       "1              Captain America (Steven Rogers)       Добрый персонаж   \n",
       "2          Wolverine (James \\\"Logan\\\" Howlett)  Нейтральный персонаж   \n",
       "3            Iron Man (Anthony \\\"Tony\\\" Stark)       Добрый персонаж   \n",
       "4                          Thor (Thor Odinson)       Добрый персонаж   \n",
       "...                                        ...                   ...   \n",
       "15275                  Visher-Rakk (Earth-616)         Злой персонаж   \n",
       "15276  Weapon Red (Chinese Mutant) (Earth-616)         Злой персонаж   \n",
       "15277           Wolfgang von Roehm (Earth-616)  Нейтральный персонаж   \n",
       "15278                          Xan (Earth-616)         Злой персонаж   \n",
       "15279                       Zamira (Earth-616)       Добрый персонаж   \n",
       "\n",
       "                     eye               hair               sex  appearances  \\\n",
       "0            Карие глаза  Каштановые волосы  Мужской персонаж       4043.0   \n",
       "1          Голубые глаза       Белые волосы  Мужской персонаж       3360.0   \n",
       "2          Голубые глаза      Черные волосы  Мужской персонаж       3061.0   \n",
       "3          Голубые глаза      Черные волосы  Мужской персонаж       2961.0   \n",
       "4          Голубые глаза       Русые волосы  Мужской персонаж       2258.0   \n",
       "...                  ...                ...               ...          ...   \n",
       "15275                NaN                NaN               NaN          1.0   \n",
       "15276        Белые глаза      Черные волосы  Мужской персонаж          1.0   \n",
       "15277                NaN                NaN  Мужской персонаж          1.0   \n",
       "15278       Желтые глаза      Черные волосы  Мужской персонаж          1.0   \n",
       "15279  Темно-карие глаза      Черные волосы  Женский персонаж          1.0   \n",
       "\n",
       "       first_appearance  \n",
       "0                1962.0  \n",
       "1                1941.0  \n",
       "2                1974.0  \n",
       "3                1963.0  \n",
       "4                1950.0  \n",
       "...                 ...  \n",
       "15275               NaN  \n",
       "15276               NaN  \n",
       "15277               NaN  \n",
       "15278               NaN  \n",
       "15279               NaN  \n",
       "\n",
       "[15280 rows x 7 columns]"
      ]
     },
     "execution_count": 72,
     "metadata": {},
     "output_type": "execute_result"
    }
   ],
   "source": [
    "df_m \\\n",
    "    .loc[df_m['appearances'].notna(), :] \\\n",
    "    "
   ]
  },
  {
   "cell_type": "code",
   "execution_count": null,
   "id": "ea226865-d9c8-41d4-9e43-ea2dc3046e7c",
   "metadata": {},
   "outputs": [],
   "source": []
  }
 ],
 "metadata": {
  "kernelspec": {
   "display_name": "Python 3 (ipykernel)",
   "language": "python",
   "name": "python3"
  },
  "language_info": {
   "codemirror_mode": {
    "name": "ipython",
    "version": 3
   },
   "file_extension": ".py",
   "mimetype": "text/x-python",
   "name": "python",
   "nbconvert_exporter": "python",
   "pygments_lexer": "ipython3",
   "version": "3.9.7"
  }
 },
 "nbformat": 4,
 "nbformat_minor": 5
}
