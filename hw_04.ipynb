{
 "cells": [
  {
   "cell_type": "code",
   "execution_count": 1,
   "id": "3be5a893-d464-46fd-9142-608437578993",
   "metadata": {},
   "outputs": [],
   "source": [
    "import pandas as pd\n",
    "df_m = pd.read_csv('Data/MarvelComicCaracters.csv', sep=';')"
   ]
  },
  {
   "cell_type": "markdown",
   "id": "63ab670e-692e-489d-bc0f-c85cba571142",
   "metadata": {},
   "source": [
    "# Описание данных\n",
    "\n",
    "- name — оригинальное имя персонажа вселенной Marvel\n",
    "- align — принадлежность персонажа к доброй/злой/нейтральной стороне\n",
    "- eye — описание глаз персонажа\n",
    "- hair — описание волос персонажа\n",
    "- sex — пол персонажа\n",
    "- appearances — количество появлений персонажа\n",
    "- first_appearance — год первого появления персонажа"
   ]
  },
  {
   "cell_type": "code",
   "execution_count": 2,
   "id": "76d3682a-fb35-4fbf-98ed-c4ac44318ea8",
   "metadata": {},
   "outputs": [
    {
     "data": {
      "text/html": [
       "<div>\n",
       "<style scoped>\n",
       "    .dataframe tbody tr th:only-of-type {\n",
       "        vertical-align: middle;\n",
       "    }\n",
       "\n",
       "    .dataframe tbody tr th {\n",
       "        vertical-align: top;\n",
       "    }\n",
       "\n",
       "    .dataframe thead th {\n",
       "        text-align: right;\n",
       "    }\n",
       "</style>\n",
       "<table border=\"1\" class=\"dataframe\">\n",
       "  <thead>\n",
       "    <tr style=\"text-align: right;\">\n",
       "      <th></th>\n",
       "      <th>name</th>\n",
       "      <th>align</th>\n",
       "      <th>eye</th>\n",
       "      <th>hair</th>\n",
       "      <th>sex</th>\n",
       "      <th>appearances</th>\n",
       "      <th>first_appearance</th>\n",
       "    </tr>\n",
       "  </thead>\n",
       "  <tbody>\n",
       "    <tr>\n",
       "      <th>0</th>\n",
       "      <td>Spider-Man (Peter Parker)</td>\n",
       "      <td>Добрый персонаж</td>\n",
       "      <td>Карие глаза</td>\n",
       "      <td>Каштановые волосы</td>\n",
       "      <td>Мужской персонаж</td>\n",
       "      <td>4043.0</td>\n",
       "      <td>1962.0</td>\n",
       "    </tr>\n",
       "    <tr>\n",
       "      <th>1</th>\n",
       "      <td>Captain America (Steven Rogers)</td>\n",
       "      <td>Добрый персонаж</td>\n",
       "      <td>Голубые глаза</td>\n",
       "      <td>Белые волосы</td>\n",
       "      <td>Мужской персонаж</td>\n",
       "      <td>3360.0</td>\n",
       "      <td>1941.0</td>\n",
       "    </tr>\n",
       "    <tr>\n",
       "      <th>2</th>\n",
       "      <td>Wolverine (James \\\"Logan\\\" Howlett)</td>\n",
       "      <td>Нейтральный персонаж</td>\n",
       "      <td>Голубые глаза</td>\n",
       "      <td>Черные волосы</td>\n",
       "      <td>Мужской персонаж</td>\n",
       "      <td>3061.0</td>\n",
       "      <td>1974.0</td>\n",
       "    </tr>\n",
       "  </tbody>\n",
       "</table>\n",
       "</div>"
      ],
      "text/plain": [
       "                                  name                 align            eye  \\\n",
       "0            Spider-Man (Peter Parker)       Добрый персонаж    Карие глаза   \n",
       "1      Captain America (Steven Rogers)       Добрый персонаж  Голубые глаза   \n",
       "2  Wolverine (James \\\"Logan\\\" Howlett)  Нейтральный персонаж  Голубые глаза   \n",
       "\n",
       "                hair               sex  appearances  first_appearance  \n",
       "0  Каштановые волосы  Мужской персонаж       4043.0            1962.0  \n",
       "1       Белые волосы  Мужской персонаж       3360.0            1941.0  \n",
       "2      Черные волосы  Мужской персонаж       3061.0            1974.0  "
      ]
     },
     "execution_count": 2,
     "metadata": {},
     "output_type": "execute_result"
    }
   ],
   "source": [
    "df_m.head(n=3)"
   ]
  },
  {
   "cell_type": "markdown",
   "id": "a39bcffe-3cae-4c1b-9b66-3a1b6815a56f",
   "metadata": {},
   "source": [
    "# Задания"
   ]
  },
  {
   "cell_type": "markdown",
   "id": "4768bf0e-50e7-4b1a-9021-4275bc050a2f",
   "metadata": {},
   "source": [
    "### Какова мода по переменной `eye`? Выберите один верный ответ."
   ]
  },
  {
   "cell_type": "code",
   "execution_count": 3,
   "id": "14840d09-7562-4847-950d-1fb5acdaba89",
   "metadata": {},
   "outputs": [
    {
     "data": {
      "text/plain": [
       "0    Голубые глаза\n",
       "dtype: object"
      ]
     },
     "execution_count": 3,
     "metadata": {},
     "output_type": "execute_result"
    }
   ],
   "source": [
    "df_m['eye'].mode()"
   ]
  },
  {
   "cell_type": "markdown",
   "id": "651fa15b-675d-43df-a813-3ab3aab92329",
   "metadata": {},
   "source": [
    "### Укажите, верно ли следующее утверждение: для переменной `eye` можно определить медиану."
   ]
  },
  {
   "cell_type": "code",
   "execution_count": 4,
   "id": "3d55fe6d-d350-4c46-a2ca-78cc89e8184c",
   "metadata": {},
   "outputs": [
    {
     "name": "stdout",
     "output_type": "stream",
     "text": [
      "Нельзя определить\n"
     ]
    }
   ],
   "source": [
    "try:\n",
    "    df_m['eye'].median()\n",
    "except:\n",
    "    print('Нельзя определить')"
   ]
  },
  {
   "cell_type": "markdown",
   "id": "e13d99a8-58e4-4a4d-b16e-2999d2ea3d81",
   "metadata": {},
   "source": [
    "### Вам представлены утверждения о мерах центральной тенденции (среднее арифметическое, мода, медиана) для переменной `appearances`. Какое из них верно? Выберите один верный ответ."
   ]
  },
  {
   "cell_type": "code",
   "execution_count": 5,
   "id": "b9ae0407-e3ec-47bc-b0bd-d09a27402ec8",
   "metadata": {},
   "outputs": [
    {
     "name": "stdout",
     "output_type": "stream",
     "text": [
      "mean = 17.033376963350786\n",
      "mode = [1.]\n",
      "median = 3.0\n"
     ]
    }
   ],
   "source": [
    "print('mean =', df_m['appearances'].mean())\n",
    "print('mode =', df_m['appearances'].mode().values)\n",
    "print('median =', df_m['appearances'].median())"
   ]
  },
  {
   "cell_type": "markdown",
   "id": "62790468-c409-4b68-a271-0401710bc442",
   "metadata": {},
   "source": [
    "### Укажите, верно ли следующее утверждение: мода по переменной `hair` для женских персонажей равна моде по переменной `hair` для мужских персонажей."
   ]
  },
  {
   "cell_type": "code",
   "execution_count": 6,
   "id": "43820e17-13fe-4bae-9e81-54f956402e90",
   "metadata": {},
   "outputs": [
    {
     "data": {
      "text/plain": [
       "0    True\n",
       "dtype: bool"
      ]
     },
     "execution_count": 6,
     "metadata": {},
     "output_type": "execute_result"
    }
   ],
   "source": [
    "df_m.loc[df_m['sex'] == 'Женский персонаж', 'hair'].mode() == df_m.loc[df_m['sex'] == 'Мужской персонаж', 'hair'].mode()"
   ]
  },
  {
   "cell_type": "code",
   "execution_count": 7,
   "id": "142c3f74-d391-461c-a101-20773a6beb38",
   "metadata": {},
   "outputs": [
    {
     "data": {
      "text/plain": [
       "sex\n",
       "Безполый персонаж                                   Без волос\n",
       "Гендерфлюидный персонаж    [Каштановые волосы, Черные волосы]\n",
       "Женский персонаж                                Черные волосы\n",
       "Мужской персонаж                                Черные волосы\n",
       "Name: hair, dtype: object"
      ]
     },
     "execution_count": 7,
     "metadata": {},
     "output_type": "execute_result"
    }
   ],
   "source": [
    "df_m.groupby('sex')['hair'].agg(pd.Series.mode)"
   ]
  },
  {
   "cell_type": "markdown",
   "id": "ddbd28f3-4344-4d98-a951-372649eec2d2",
   "metadata": {},
   "source": [
    "### Вам представлены утверждения о мерах разброса (размах и межквартильных размах) для переменной `hair`. Какое из них верно? Выберите один верный ответ."
   ]
  },
  {
   "cell_type": "markdown",
   "id": "4f5d5ee6-d2ca-4b53-840b-b302a1c6262a",
   "metadata": {},
   "source": [
    "### Выберите только злых персонажей и определите медиану по переменной `appearances`. Введите ответ в виде целого числа."
   ]
  },
  {
   "cell_type": "code",
   "execution_count": 8,
   "id": "e0d63ae8-a8b4-4f83-92f2-190415e2271c",
   "metadata": {},
   "outputs": [
    {
     "data": {
      "text/plain": [
       "3.0"
      ]
     },
     "execution_count": 8,
     "metadata": {},
     "output_type": "execute_result"
    }
   ],
   "source": [
    "df_m.loc[df_m['align'] == 'Злой персонаж', 'appearances'].median()"
   ]
  },
  {
   "cell_type": "markdown",
   "id": "0cb7a3fd-0e0b-4195-b07c-e9eb76a87285",
   "metadata": {},
   "source": [
    "### Найдите дисперсию по переменной `appearances`. Помните, что мы работаем с генеральной совокупностью. В ответ запишите число, округлите до целого."
   ]
  },
  {
   "cell_type": "code",
   "execution_count": 9,
   "id": "2b1079d9-aba2-4e7f-9444-554a4c2abd28",
   "metadata": {},
   "outputs": [
    {
     "data": {
      "text/plain": [
       "9287"
      ]
     },
     "execution_count": 9,
     "metadata": {},
     "output_type": "execute_result"
    }
   ],
   "source": [
    "round(df_m['appearances'].var(ddof=0))"
   ]
  },
  {
   "cell_type": "markdown",
   "id": "768de583-9bd7-474c-9630-f8db3d7bb289",
   "metadata": {},
   "source": [
    "### Найдите моду по переменной `first_appearance`. Введите ответ в виде целого числа."
   ]
  },
  {
   "cell_type": "code",
   "execution_count": 10,
   "id": "8d9e8a68-eac1-40d5-9aac-8ced286da521",
   "metadata": {},
   "outputs": [
    {
     "data": {
      "text/plain": [
       "0    1993.0\n",
       "dtype: float64"
      ]
     },
     "execution_count": 10,
     "metadata": {},
     "output_type": "execute_result"
    }
   ],
   "source": [
    "df_m['first_appearance'].mode()"
   ]
  },
  {
   "cell_type": "markdown",
   "id": "f277e1a1-a4f1-433a-af6c-444a4f518dd0",
   "metadata": {},
   "source": [
    "### Укажите, верно ли следующее утверждение: если убрать первые пятьсот наблюдений в наших данных, то мода по переменной `eye` не изменится."
   ]
  },
  {
   "cell_type": "code",
   "execution_count": 11,
   "id": "3350dc41-a838-4712-9a2f-94176a220b16",
   "metadata": {},
   "outputs": [
    {
     "data": {
      "text/plain": [
       "0    False\n",
       "dtype: bool"
      ]
     },
     "execution_count": 11,
     "metadata": {},
     "output_type": "execute_result"
    }
   ],
   "source": [
    "df_m['eye'].mode() == df_m[500:]['eye'].mode()"
   ]
  },
  {
   "cell_type": "markdown",
   "id": "0723cf14-7fd3-4aa9-9bca-cf52df8c01b2",
   "metadata": {},
   "source": [
    "### Определите моду по переменной `hair`, затем выберите только тех персонажей, цвет волос которых соответствует найденной моде. По имеющемуся подмассиву данных по переменной `appearances` рассчитайте стандартное отклонение. Помните, что мы работаем с генеральной совокупностью. В ответ запишите число, округлите до целого."
   ]
  },
  {
   "cell_type": "code",
   "execution_count": 12,
   "id": "407af7a7-de4b-497a-be84-eeb6402cac08",
   "metadata": {},
   "outputs": [
    {
     "data": {
      "text/plain": [
       "94"
      ]
     },
     "execution_count": 12,
     "metadata": {},
     "output_type": "execute_result"
    }
   ],
   "source": [
    "round(\n",
    "    df_m.loc[df_m['hair'].isin(df_m['hair'].mode()), 'appearances'].std(ddof=0)\n",
    ")"
   ]
  }
 ],
 "metadata": {
  "kernelspec": {
   "display_name": "Python 3 (ipykernel)",
   "language": "python",
   "name": "python3"
  },
  "language_info": {
   "codemirror_mode": {
    "name": "ipython",
    "version": 3
   },
   "file_extension": ".py",
   "mimetype": "text/x-python",
   "name": "python",
   "nbconvert_exporter": "python",
   "pygments_lexer": "ipython3",
   "version": "3.9.7"
  },
  "toc-showcode": false
 },
 "nbformat": 4,
 "nbformat_minor": 5
}
