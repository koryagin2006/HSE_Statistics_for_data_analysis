{
 "cells": [
  {
   "cell_type": "markdown",
   "id": "73dde666-1565-492f-8663-e445a135a782",
   "metadata": {},
   "source": [
    "# Глава 4. Частотные распределения и диаграммы"
   ]
  },
  {
   "cell_type": "code",
   "execution_count": 12,
   "id": "117fc198-4765-4eef-a17b-2eb5660b5311",
   "metadata": {},
   "outputs": [],
   "source": [
    "import numpy as np\n",
    "import pandas as pd"
   ]
  },
  {
   "cell_type": "markdown",
   "id": "e59612ec-01c4-4a7d-b8bb-bdfba05a4578",
   "metadata": {},
   "source": [
    "Обычно после сбора данных у нас есть большое количество чисел, которые может быть необходимо представить в более организованной форме. Это поможет сразу отследить какие-то закономерности."
   ]
  },
  {
   "cell_type": "markdown",
   "id": "fe3e9623-ace8-4e2c-b6d9-8f1a4fc4c4ce",
   "metadata": {},
   "source": [
    "Один из самых простых вариантов представления большого количества чисел — это частотная таблица. Для того чтобы построить частотную таблицу, необходимо выстроить от меньшего к большему все возможные значения, которые встречаются в наших данных. А потом для каждого их них посчитать частоту — количество раз, сколько встречается это значение."
   ]
  },
  {
   "cell_type": "markdown",
   "id": "e288a944-6480-4fbf-bc15-accac0703971",
   "metadata": {},
   "source": [
    "Например, если мы хотим построить распределение оценок, которые получили школьники за текущую четверть по пятибалльной шкале, то у нас будет пять вариантов значений: $1, 2,3, 4, 5$. И для каждого значения мы можем посчитать, сколько раз такая оценка была выставлена. По полученному распределению можно сразу оценить основную тенденцию: каких оценок большего всего, часто ли ученики получают неудовлетворительные оценки, какова доля четверок и т.д.ь"
   ]
  },
  {
   "cell_type": "markdown",
   "id": "06634747-77c7-4f99-8aff-a1c731d53185",
   "metadata": {},
   "source": [
    "Давайте рассмотрим наш пример с оценками не в теории, а на практике. Пусть у нас есть  школьников, которые написали контрольную по программированию и получили разные оценки от $2$ до $5$  "
   ]
  },
  {
   "cell_type": "code",
   "execution_count": 84,
   "id": "6da458f0-a6cb-4381-a446-47fe5987aea5",
   "metadata": {},
   "outputs": [
    {
     "data": {
      "text/html": [
       "<div>\n",
       "<style scoped>\n",
       "    .dataframe tbody tr th:only-of-type {\n",
       "        vertical-align: middle;\n",
       "    }\n",
       "\n",
       "    .dataframe tbody tr th {\n",
       "        vertical-align: top;\n",
       "    }\n",
       "\n",
       "    .dataframe thead th {\n",
       "        text-align: right;\n",
       "    }\n",
       "</style>\n",
       "<table border=\"1\" class=\"dataframe\">\n",
       "  <thead>\n",
       "    <tr style=\"text-align: right;\">\n",
       "      <th></th>\n",
       "      <th>0</th>\n",
       "      <th>1</th>\n",
       "      <th>2</th>\n",
       "      <th>3</th>\n",
       "    </tr>\n",
       "  </thead>\n",
       "  <tbody>\n",
       "    <tr>\n",
       "      <th>scores</th>\n",
       "      <td>2</td>\n",
       "      <td>3</td>\n",
       "      <td>4</td>\n",
       "      <td>5</td>\n",
       "    </tr>\n",
       "    <tr>\n",
       "      <th>freq</th>\n",
       "      <td>5</td>\n",
       "      <td>10</td>\n",
       "      <td>6</td>\n",
       "      <td>4</td>\n",
       "    </tr>\n",
       "  </tbody>\n",
       "</table>\n",
       "</div>"
      ],
      "text/plain": [
       "        0   1  2  3\n",
       "scores  2   3  4  5\n",
       "freq    5  10  6  4"
      ]
     },
     "execution_count": 84,
     "metadata": {},
     "output_type": "execute_result"
    }
   ],
   "source": [
    "scores = np.array([3,2,3,3,5,4,3,2,4,2,3,4,5,2,4,3,4,5,5,4,3,3,3,2,3])\n",
    "df = pd.DataFrame(pd.DataFrame(scores, columns=['scores']).value_counts(sort=False)).rename(columns={0: 'freq'}).reset_index()\n",
    "df.T"
   ]
  },
  {
   "cell_type": "markdown",
   "id": "693e16d8-63ef-499a-888d-af35d8dc8e29",
   "metadata": {},
   "source": [
    "Смотря на такую таблицу, мы сразу можем сделать ряд выводов: например, о том, что контрольная была явно сложная, так как очень мало отличных оценок, достаточно много неудовлетворительных и больше всего оценок «удовлетворительно»."
   ]
  },
  {
   "cell_type": "markdown",
   "id": "9b8716eb-474f-4f1b-a7ef-488dd2f5426e",
   "metadata": {},
   "source": [
    "С помощью такого распределения можно так же быстро сделать дополнительные вычисления: для начала мы можем посчитать сумму всех оценок, но не складывая все оценки по очереди, а складывая произведения значения и его частоты:\n",
    "$$\n",
    "2 \\cdot 5 + 3 \\cdot 10 + 4 \\cdot 6 + 5 \\cdot 4 = 10 + 30 + 24 + 20 = 84\n",
    "$$"
   ]
  },
  {
   "cell_type": "markdown",
   "id": "e6b15ddb-5f5a-4553-b4b2-ae14e4e08720",
   "metadata": {},
   "source": [
    "И так же просто можно посчитать среднее значение, если поделить полученную сумму на количество:\n",
    "$$\n",
    "\\frac{84}{25} = 3.36\n",
    "$$"
   ]
  },
  {
   "cell_type": "code",
   "execution_count": 88,
   "id": "e0078d38-7310-42ca-adc5-9a0076e8da88",
   "metadata": {},
   "outputs": [
    {
     "name": "stdout",
     "output_type": "stream",
     "text": [
      "3.36\n",
      "3.36\n"
     ]
    }
   ],
   "source": [
    "print((df['scores'] * df['freq']).sum() / len(scores))\n",
    "print(scores.mean())"
   ]
  },
  {
   "cell_type": "markdown",
   "id": "93cdad6b-9bd5-41a3-80b7-ef292b0a4508",
   "metadata": {},
   "source": [
    "Иногда в распределениях считают не абсолютные частоты, а пропорции или проценты. Так проще показать, какую долю занимают те или иные значения. В нашем примере мы видим, что двойку получило $5$ человек из $25$. Значит, мы можем рассчитать, что это $\\frac{5}{25} = 0.2$  от общего количества,если считать долю. Или $0.2 \\cdot 100 = 20\\%$, если считать в процентах.\n",
    "\n",
    "Добавим к нашим значениям в таблицу представление в виде доли и в виде процента:"
   ]
  },
  {
   "cell_type": "code",
   "execution_count": 91,
   "id": "3df23886-dd44-4cd4-bb33-d6527c7c1b18",
   "metadata": {},
   "outputs": [
    {
     "data": {
      "text/html": [
       "<div>\n",
       "<style scoped>\n",
       "    .dataframe tbody tr th:only-of-type {\n",
       "        vertical-align: middle;\n",
       "    }\n",
       "\n",
       "    .dataframe tbody tr th {\n",
       "        vertical-align: top;\n",
       "    }\n",
       "\n",
       "    .dataframe thead th {\n",
       "        text-align: right;\n",
       "    }\n",
       "</style>\n",
       "<table border=\"1\" class=\"dataframe\">\n",
       "  <thead>\n",
       "    <tr style=\"text-align: right;\">\n",
       "      <th></th>\n",
       "      <th>0</th>\n",
       "      <th>1</th>\n",
       "      <th>2</th>\n",
       "      <th>3</th>\n",
       "    </tr>\n",
       "  </thead>\n",
       "  <tbody>\n",
       "    <tr>\n",
       "      <th>scores</th>\n",
       "      <td>2.0</td>\n",
       "      <td>3.0</td>\n",
       "      <td>4.00</td>\n",
       "      <td>5.00</td>\n",
       "    </tr>\n",
       "    <tr>\n",
       "      <th>shape</th>\n",
       "      <td>0.2</td>\n",
       "      <td>0.4</td>\n",
       "      <td>0.24</td>\n",
       "      <td>0.16</td>\n",
       "    </tr>\n",
       "  </tbody>\n",
       "</table>\n",
       "</div>"
      ],
      "text/plain": [
       "          0    1     2     3\n",
       "scores  2.0  3.0  4.00  5.00\n",
       "shape   0.2  0.4  0.24  0.16"
      ]
     },
     "execution_count": 91,
     "metadata": {},
     "output_type": "execute_result"
    }
   ],
   "source": [
    "pd.DataFrame(pd.DataFrame(scores, columns=['scores']).value_counts(sort=False, normalize=True)).rename(columns={0: 'shape'}) \\\n",
    "    .reset_index().T"
   ]
  },
  {
   "cell_type": "code",
   "execution_count": null,
   "id": "badb43a4-e7b6-40a6-abe0-c68d984d2cff",
   "metadata": {},
   "outputs": [],
   "source": []
  }
 ],
 "metadata": {
  "kernelspec": {
   "display_name": "Python 3 (ipykernel)",
   "language": "python",
   "name": "python3"
  },
  "language_info": {
   "codemirror_mode": {
    "name": "ipython",
    "version": 3
   },
   "file_extension": ".py",
   "mimetype": "text/x-python",
   "name": "python",
   "nbconvert_exporter": "python",
   "pygments_lexer": "ipython3",
   "version": "3.9.7"
  }
 },
 "nbformat": 4,
 "nbformat_minor": 5
}
