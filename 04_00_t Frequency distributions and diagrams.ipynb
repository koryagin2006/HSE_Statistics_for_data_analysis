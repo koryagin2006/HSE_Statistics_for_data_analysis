{
 "cells": [
  {
   "cell_type": "markdown",
   "id": "73dde666-1565-492f-8663-e445a135a782",
   "metadata": {},
   "source": [
    "# Глава 4. Частотные распределения и диаграммы"
   ]
  },
  {
   "cell_type": "code",
   "execution_count": null,
   "id": "fadbe49b-6725-4489-a707-40c91f6cb130",
   "metadata": {},
   "outputs": [],
   "source": []
  }
 ],
 "metadata": {
  "kernelspec": {
   "display_name": "Python 3 (ipykernel)",
   "language": "python",
   "name": "python3"
  },
  "language_info": {
   "codemirror_mode": {
    "name": "ipython",
    "version": 3
   },
   "file_extension": ".py",
   "mimetype": "text/x-python",
   "name": "python",
   "nbconvert_exporter": "python",
   "pygments_lexer": "ipython3",
   "version": "3.9.7"
  }
 },
 "nbformat": 4,
 "nbformat_minor": 5
}
