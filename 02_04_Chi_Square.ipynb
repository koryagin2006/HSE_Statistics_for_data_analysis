{
 "cells": [
  {
   "cell_type": "markdown",
   "metadata": {},
   "source": [
    "# Критерий хи-квадрта"
   ]
  },
  {
   "cell_type": "code",
   "execution_count": 1,
   "metadata": {},
   "outputs": [
    {
     "data": {
      "text/html": [
       "<div>\n",
       "<style scoped>\n",
       "    .dataframe tbody tr th:only-of-type {\n",
       "        vertical-align: middle;\n",
       "    }\n",
       "\n",
       "    .dataframe tbody tr th {\n",
       "        vertical-align: top;\n",
       "    }\n",
       "\n",
       "    .dataframe thead th {\n",
       "        text-align: right;\n",
       "    }\n",
       "</style>\n",
       "<table border=\"1\" class=\"dataframe\">\n",
       "  <thead>\n",
       "    <tr style=\"text-align: right;\">\n",
       "      <th></th>\n",
       "      <th>age</th>\n",
       "      <th>sex</th>\n",
       "      <th>cp</th>\n",
       "      <th>trestbps</th>\n",
       "      <th>chol</th>\n",
       "      <th>fbs</th>\n",
       "      <th>restecg</th>\n",
       "      <th>thalach</th>\n",
       "      <th>exang</th>\n",
       "      <th>target</th>\n",
       "    </tr>\n",
       "  </thead>\n",
       "  <tbody>\n",
       "    <tr>\n",
       "      <th>0</th>\n",
       "      <td>63</td>\n",
       "      <td>1</td>\n",
       "      <td>3</td>\n",
       "      <td>145</td>\n",
       "      <td>233</td>\n",
       "      <td>1</td>\n",
       "      <td>0</td>\n",
       "      <td>150</td>\n",
       "      <td>0</td>\n",
       "      <td>1</td>\n",
       "    </tr>\n",
       "    <tr>\n",
       "      <th>1</th>\n",
       "      <td>37</td>\n",
       "      <td>1</td>\n",
       "      <td>2</td>\n",
       "      <td>130</td>\n",
       "      <td>250</td>\n",
       "      <td>0</td>\n",
       "      <td>1</td>\n",
       "      <td>187</td>\n",
       "      <td>0</td>\n",
       "      <td>1</td>\n",
       "    </tr>\n",
       "    <tr>\n",
       "      <th>2</th>\n",
       "      <td>41</td>\n",
       "      <td>0</td>\n",
       "      <td>1</td>\n",
       "      <td>130</td>\n",
       "      <td>204</td>\n",
       "      <td>0</td>\n",
       "      <td>0</td>\n",
       "      <td>172</td>\n",
       "      <td>0</td>\n",
       "      <td>1</td>\n",
       "    </tr>\n",
       "    <tr>\n",
       "      <th>3</th>\n",
       "      <td>56</td>\n",
       "      <td>1</td>\n",
       "      <td>1</td>\n",
       "      <td>120</td>\n",
       "      <td>236</td>\n",
       "      <td>0</td>\n",
       "      <td>1</td>\n",
       "      <td>178</td>\n",
       "      <td>0</td>\n",
       "      <td>1</td>\n",
       "    </tr>\n",
       "    <tr>\n",
       "      <th>4</th>\n",
       "      <td>57</td>\n",
       "      <td>0</td>\n",
       "      <td>0</td>\n",
       "      <td>120</td>\n",
       "      <td>354</td>\n",
       "      <td>0</td>\n",
       "      <td>1</td>\n",
       "      <td>163</td>\n",
       "      <td>1</td>\n",
       "      <td>1</td>\n",
       "    </tr>\n",
       "  </tbody>\n",
       "</table>\n",
       "</div>"
      ],
      "text/plain": [
       "   age  sex  cp  trestbps  chol  fbs  restecg  thalach  exang  target\n",
       "0   63    1   3       145   233    1        0      150      0       1\n",
       "1   37    1   2       130   250    0        1      187      0       1\n",
       "2   41    0   1       130   204    0        0      172      0       1\n",
       "3   56    1   1       120   236    0        1      178      0       1\n",
       "4   57    0   0       120   354    0        1      163      1       1"
      ]
     },
     "execution_count": 1,
     "metadata": {},
     "output_type": "execute_result"
    }
   ],
   "source": [
    "import pandas as pd\n",
    "import numpy as np\n",
    "import scipy.stats\n",
    "\n",
    "df = pd.read_csv('Data/heart.csv')\n",
    "df.head()"
   ]
  },
  {
   "cell_type": "markdown",
   "metadata": {},
   "source": [
    "## Вычисление вручную"
   ]
  },
  {
   "cell_type": "code",
   "execution_count": 19,
   "metadata": {},
   "outputs": [
    {
     "data": {
      "text/html": [
       "<div>\n",
       "<style scoped>\n",
       "    .dataframe tbody tr th:only-of-type {\n",
       "        vertical-align: middle;\n",
       "    }\n",
       "\n",
       "    .dataframe tbody tr th {\n",
       "        vertical-align: top;\n",
       "    }\n",
       "\n",
       "    .dataframe thead th {\n",
       "        text-align: right;\n",
       "    }\n",
       "</style>\n",
       "<table border=\"1\" class=\"dataframe\">\n",
       "  <thead>\n",
       "    <tr style=\"text-align: right;\">\n",
       "      <th>target</th>\n",
       "      <th>0</th>\n",
       "      <th>1</th>\n",
       "    </tr>\n",
       "    <tr>\n",
       "      <th>sex</th>\n",
       "      <th></th>\n",
       "      <th></th>\n",
       "    </tr>\n",
       "  </thead>\n",
       "  <tbody>\n",
       "    <tr>\n",
       "      <th>0</th>\n",
       "      <td>24</td>\n",
       "      <td>72</td>\n",
       "    </tr>\n",
       "    <tr>\n",
       "      <th>1</th>\n",
       "      <td>114</td>\n",
       "      <td>93</td>\n",
       "    </tr>\n",
       "  </tbody>\n",
       "</table>\n",
       "</div>"
      ],
      "text/plain": [
       "target    0   1\n",
       "sex            \n",
       "0        24  72\n",
       "1       114  93"
      ]
     },
     "execution_count": 19,
     "metadata": {},
     "output_type": "execute_result"
    }
   ],
   "source": [
    "# df.pivot_table(values='age', index='sex', columns='target', aggfunc='count')\n",
    "ct_o = df.groupby('sex')['target'].value_counts().unstack()\n",
    "ct_o"
   ]
  },
  {
   "cell_type": "markdown",
   "metadata": {},
   "source": [
    "$\n",
    "dof = (R - 1)(C - 1)\n",
    "$"
   ]
  },
  {
   "cell_type": "code",
   "execution_count": 36,
   "metadata": {},
   "outputs": [
    {
     "data": {
      "text/plain": [
       "1"
      ]
     },
     "execution_count": 36,
     "metadata": {},
     "output_type": "execute_result"
    }
   ],
   "source": [
    "(nrows, ncols) = ct_o.shape\n",
    "dof = (nrows - 1) * (ncols - 1)\n",
    "dof"
   ]
  },
  {
   "cell_type": "code",
   "execution_count": 37,
   "metadata": {},
   "outputs": [],
   "source": [
    "alpha = 0.01\n",
    "critical_value = 6.63  # по таблице"
   ]
  },
  {
   "cell_type": "code",
   "execution_count": 43,
   "metadata": {},
   "outputs": [
    {
     "name": "stdout",
     "output_type": "stream",
     "text": [
      "303 138 165\n",
      "96 207\n"
     ]
    }
   ],
   "source": [
    "n_total = ct_o.sum().sum()\n",
    "n_target_0 = ct_o[0].sum()\n",
    "n_target_1 = ct_o[1].sum()\n",
    "\n",
    "n_women = ct_o.iloc[0].sum()\n",
    "n_men = ct_o.iloc[1].sum()\n",
    "\n",
    "print(n_total, n_target_0, n_target_1)\n",
    "print(n_women, n_men)"
   ]
  },
  {
   "cell_type": "code",
   "execution_count": 41,
   "metadata": {},
   "outputs": [
    {
     "name": "stdout",
     "output_type": "stream",
     "text": [
      "0.45544554455445546 0.5445544554455446\n"
     ]
    }
   ],
   "source": [
    "p_target_0 = n_target_0 / n_total\n",
    "p_target_1 = n_target_1 / n_total\n",
    "print(p_target_0, p_target_1)"
   ]
  },
  {
   "cell_type": "code",
   "execution_count": 44,
   "metadata": {},
   "outputs": [
    {
     "name": "stdout",
     "output_type": "stream",
     "text": [
      "43.722772277227726 52.27722772277228\n",
      "94.27722772277228 112.72277227722773\n"
     ]
    }
   ],
   "source": [
    "f_e_target_0_women = n_women * p_target_0\n",
    "f_e_target_1_women = n_women * p_target_1\n",
    "\n",
    "f_e_target_0_men = n_men * p_target_0\n",
    "f_e_target_1_men = n_men * p_target_1\n",
    "\n",
    "print(f_e_target_0_women, f_e_target_1_women)\n",
    "print(f_e_target_0_men, f_e_target_1_men)"
   ]
  },
  {
   "cell_type": "code",
   "execution_count": 46,
   "metadata": {},
   "outputs": [
    {
     "name": "stdout",
     "output_type": "stream",
     "text": [
      "303.0\n"
     ]
    }
   ],
   "source": [
    "print(f_e_target_0_women + f_e_target_1_women + f_e_target_0_men + f_e_target_1_men)"
   ]
  },
  {
   "cell_type": "code",
   "execution_count": 47,
   "metadata": {},
   "outputs": [
    {
     "data": {
      "text/plain": [
       "array([[ 43.72277228,  52.27722772],\n",
       "       [ 94.27722772, 112.72277228]])"
      ]
     },
     "execution_count": 47,
     "metadata": {},
     "output_type": "execute_result"
    }
   ],
   "source": [
    "ct_e = np.array([[f_e_target_0_women, f_e_target_1_women], [f_e_target_0_men, f_e_target_1_men]])\n",
    "ct_e"
   ]
  },
  {
   "cell_type": "markdown",
   "metadata": {},
   "source": [
    "$\n",
    "f_e = \\frac{f_cf_r}{n}\n",
    "$"
   ]
  },
  {
   "cell_type": "code",
   "execution_count": 49,
   "metadata": {},
   "outputs": [
    {
     "data": {
      "text/plain": [
       "44"
      ]
     },
     "execution_count": 49,
     "metadata": {},
     "output_type": "execute_result"
    }
   ],
   "source": [
    "round(ct_o[0].sum() * ct_o.iloc[0].sum() / n_total)"
   ]
  },
  {
   "cell_type": "markdown",
   "metadata": {},
   "source": [
    "$\n",
    "\\chi^2 = \\sum{\\frac{(f_o - f_e)^2}{f_e}}\n",
    "$"
   ]
  },
  {
   "cell_type": "code",
   "execution_count": 55,
   "metadata": {},
   "outputs": [
    {
     "name": "stdout",
     "output_type": "stream",
     "text": [
      "23.914383914761984\n"
     ]
    }
   ],
   "source": [
    "chi_square = ((ct_o - ct_e)**2/ct_e).to_numpy().sum()\n",
    "print(chi_square)"
   ]
  },
  {
   "cell_type": "markdown",
   "metadata": {},
   "source": [
    "## Вычисление с помощью `scipy.stats`\n",
    "\n",
    "chi2_contingency - хи-квадрат сопряженности\n",
    "\n",
    "```python\n",
    "def chi2_contingency(observed, correction=True, lambda_=None):\n",
    "    \"\"\"\n",
    "    Chi-square test of independence of variables in a contingency table.\n",
    "    \n",
    "    This function computes the chi-square statistic and p-value for the\n",
    "    hypothesis test of independence of the observed frequencies in the\n",
    "    contingency table [1]_ `observed`.  The expected frequencies are computed\n",
    "    based on the marginal sums under the assumption of independence; see\n",
    "    `scipy.stats.contingency.expected_freq`.  The number of degrees of\n",
    "    freedom is (expressed using numpy functions and attributes)::\n",
    "    \n",
    "        dof = observed.size - sum(observed.shape) + observed.ndim - 1\n",
    "    \n",
    "    \n",
    "    Parameters\n",
    "    ----------\n",
    "    observed : array_like\n",
    "        The contingency table. The table contains the observed frequencies\n",
    "        (i.e. number of occurrences) in each category.  In the two-dimensional\n",
    "        case, the table is often described as an \"R x C table\".\n",
    "    correction : bool, optional\n",
    "        If True, *and* the degrees of freedom is 1, apply Yates' correction\n",
    "        for continuity.  The effect of the correction is to adjust each\n",
    "        observed value by 0.5 towards the corresponding expected value.\n",
    "    lambda_ : float or str, optional\n",
    "        By default, the statistic computed in this test is Pearson's\n",
    "        chi-squared statistic [2]_.  `lambda_` allows a statistic from the\n",
    "        Cressie-Read power divergence family [3]_ to be used instead.  See\n",
    "        `scipy.stats.power_divergence` for details.\n",
    "    \n",
    "    Returns\n",
    "    -------\n",
    "    chi2 : float\n",
    "        The test statistic.\n",
    "    p : float\n",
    "        The p-value of the test\n",
    "    dof : int\n",
    "        Degrees of freedom\n",
    "    expected : ndarray, same shape as `observed`\n",
    "        The expected frequencies, based on the marginal sums of the table.\n",
    "    \"\"\"\n",
    "    pass\n",
    "```"
   ]
  },
  {
   "cell_type": "code",
   "execution_count": 59,
   "metadata": {},
   "outputs": [
    {
     "data": {
      "text/plain": [
       "(23.914383914761988,\n",
       " 1.0071642033238865e-06,\n",
       " 1,\n",
       " array([[ 43.72277228,  52.27722772],\n",
       "        [ 94.27722772, 112.72277228]]))"
      ]
     },
     "execution_count": 59,
     "metadata": {},
     "output_type": "execute_result"
    }
   ],
   "source": [
    "scipy.stats.chi2_contingency(observed=ct_o, # матрица наблюдаемых частот\n",
    "                             correction=False  # \n",
    "                            )"
   ]
  },
  {
   "cell_type": "code",
   "execution_count": 212,
   "metadata": {},
   "outputs": [
    {
     "data": {
      "text/plain": [
       "True"
      ]
     },
     "execution_count": 212,
     "metadata": {},
     "output_type": "execute_result"
    }
   ],
   "source": [
    "chi_square > critical_value"
   ]
  }
 ],
 "metadata": {
  "hide_input": false,
  "kernelspec": {
   "display_name": "Python 3 (ipykernel)",
   "language": "python",
   "name": "python3"
  },
  "language_info": {
   "codemirror_mode": {
    "name": "ipython",
    "version": 3
   },
   "file_extension": ".py",
   "mimetype": "text/x-python",
   "name": "python",
   "nbconvert_exporter": "python",
   "pygments_lexer": "ipython3",
   "version": "3.9.7"
  },
  "toc": {
   "base_numbering": 1,
   "nav_menu": {},
   "number_sections": true,
   "sideBar": true,
   "skip_h1_title": false,
   "title_cell": "Table of Contents",
   "title_sidebar": "Contents",
   "toc_cell": false,
   "toc_position": {},
   "toc_section_display": true,
   "toc_window_display": false
  },
  "varInspector": {
   "cols": {
    "lenName": 16,
    "lenType": 16,
    "lenVar": 40
   },
   "kernels_config": {
    "python": {
     "delete_cmd_postfix": "",
     "delete_cmd_prefix": "del ",
     "library": "var_list.py",
     "varRefreshCmd": "print(var_dic_list())"
    },
    "r": {
     "delete_cmd_postfix": ") ",
     "delete_cmd_prefix": "rm(",
     "library": "var_list.r",
     "varRefreshCmd": "cat(var_dic_list()) "
    }
   },
   "types_to_exclude": [
    "module",
    "function",
    "builtin_function_or_method",
    "instance",
    "_Feature"
   ],
   "window_display": false
  }
 },
 "nbformat": 4,
 "nbformat_minor": 4
}
