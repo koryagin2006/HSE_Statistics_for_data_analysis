{
 "cells": [
  {
   "cell_type": "code",
   "execution_count": 15,
   "id": "000bd104-fb54-418e-8a71-b450e88e8585",
   "metadata": {},
   "outputs": [
    {
     "data": {
      "text/html": [
       "<style>.container { width:80% !important; }</style>"
      ],
      "text/plain": [
       "<IPython.core.display.HTML object>"
      ]
     },
     "metadata": {},
     "output_type": "display_data"
    }
   ],
   "source": [
    "import pandas as pd\n",
    "import numpy as np\n",
    "import scipy.stats as st\n",
    "import matplotlib.pyplot as plt\n",
    "import seaborn as sns\n",
    "import os\n",
    "\n",
    "pd.set_option('max_colwidth', 200)\n",
    "pd.set_option('display.width', 400)\n",
    "\n",
    "from IPython.core.display import display, HTML\n",
    "display(HTML(\"<style>.container { width:80% !important; }</style>\"))\n",
    "\n",
    "from pprint import pprint\n",
    "from pathlib import Path"
   ]
  },
  {
   "cell_type": "code",
   "execution_count": 3,
   "id": "fb7e1055-2056-4712-a821-6d92e93e1693",
   "metadata": {},
   "outputs": [
    {
     "data": {
      "text/html": [
       "<div>\n",
       "<style scoped>\n",
       "    .dataframe tbody tr th:only-of-type {\n",
       "        vertical-align: middle;\n",
       "    }\n",
       "\n",
       "    .dataframe tbody tr th {\n",
       "        vertical-align: top;\n",
       "    }\n",
       "\n",
       "    .dataframe thead th {\n",
       "        text-align: right;\n",
       "    }\n",
       "</style>\n",
       "<table border=\"1\" class=\"dataframe\">\n",
       "  <thead>\n",
       "    <tr style=\"text-align: right;\">\n",
       "      <th></th>\n",
       "      <th>Title</th>\n",
       "      <th>Date</th>\n",
       "      <th>Issue</th>\n",
       "      <th>Judge1</th>\n",
       "      <th>Judge2</th>\n",
       "      <th>Judge3</th>\n",
       "      <th>Vote1</th>\n",
       "      <th>Vote2</th>\n",
       "      <th>Vote3</th>\n",
       "      <th>Category</th>\n",
       "    </tr>\n",
       "  </thead>\n",
       "  <tbody>\n",
       "    <tr>\n",
       "      <th>0</th>\n",
       "      <td>Hansen v. SkyWest Airlines</td>\n",
       "      <td>12/21/16</td>\n",
       "      <td>1</td>\n",
       "      <td>Briscoe</td>\n",
       "      <td>McKay</td>\n",
       "      <td>Matheson</td>\n",
       "      <td>1</td>\n",
       "      <td>1</td>\n",
       "      <td>1</td>\n",
       "      <td>Title VII</td>\n",
       "    </tr>\n",
       "    <tr>\n",
       "      <th>1</th>\n",
       "      <td>Hansen v. SkyWest Airlines</td>\n",
       "      <td>12/21/16</td>\n",
       "      <td>2</td>\n",
       "      <td>Briscoe</td>\n",
       "      <td>McKay</td>\n",
       "      <td>Matheson</td>\n",
       "      <td>0</td>\n",
       "      <td>0</td>\n",
       "      <td>0</td>\n",
       "      <td>Title VII</td>\n",
       "    </tr>\n",
       "    <tr>\n",
       "      <th>2</th>\n",
       "      <td>Glapion v. Jewell</td>\n",
       "      <td>12/14/16</td>\n",
       "      <td>1</td>\n",
       "      <td>Lucero</td>\n",
       "      <td>Holmes</td>\n",
       "      <td>Moritz</td>\n",
       "      <td>0</td>\n",
       "      <td>0</td>\n",
       "      <td>0</td>\n",
       "      <td>Title VII</td>\n",
       "    </tr>\n",
       "    <tr>\n",
       "      <th>3</th>\n",
       "      <td>Dye v. Moniz</td>\n",
       "      <td>12/06/16</td>\n",
       "      <td>1</td>\n",
       "      <td>Lucero</td>\n",
       "      <td>Holmes</td>\n",
       "      <td>Moritz</td>\n",
       "      <td>0</td>\n",
       "      <td>0</td>\n",
       "      <td>0</td>\n",
       "      <td>Title VII</td>\n",
       "    </tr>\n",
       "    <tr>\n",
       "      <th>4</th>\n",
       "      <td>Lister v. City of Wichita, Kansas</td>\n",
       "      <td>11/15/16</td>\n",
       "      <td>1</td>\n",
       "      <td>Lucero</td>\n",
       "      <td>Matheson</td>\n",
       "      <td>Bacharach</td>\n",
       "      <td>0</td>\n",
       "      <td>0</td>\n",
       "      <td>0</td>\n",
       "      <td>Title VII</td>\n",
       "    </tr>\n",
       "  </tbody>\n",
       "</table>\n",
       "</div>"
      ],
      "text/plain": [
       "                               Title      Date  Issue   Judge1    Judge2     Judge3  Vote1  Vote2  Vote3   Category\n",
       "0         Hansen v. SkyWest Airlines  12/21/16      1  Briscoe     McKay   Matheson      1      1      1  Title VII\n",
       "1         Hansen v. SkyWest Airlines  12/21/16      2  Briscoe     McKay   Matheson      0      0      0  Title VII\n",
       "2                  Glapion v. Jewell  12/14/16      1   Lucero    Holmes     Moritz      0      0      0  Title VII\n",
       "3                       Dye v. Moniz  12/06/16      1   Lucero    Holmes     Moritz      0      0      0  Title VII\n",
       "4  Lister v. City of Wichita, Kansas  11/15/16      1   Lucero  Matheson  Bacharach      0      0      0  Title VII"
      ]
     },
     "execution_count": 3,
     "metadata": {},
     "output_type": "execute_result"
    }
   ],
   "source": [
    "tc = pd.read_csv('./Data/TenthCircuit.csv', sep=',')\n",
    "tc.head()"
   ]
  },
  {
   "cell_type": "markdown",
   "id": "28641ed6-09bd-4541-8608-21f5bcf9395a",
   "metadata": {},
   "source": [
    "# Описание данных\n",
    "\n",
    "- Title — название дела, рассматриваемого в суде\n",
    "- Date — дата вынесения решения\n",
    "- Issue — номер заседания\n",
    "- Judge1, Judge2, Judge3 — имена судей\n",
    "- Vote1, Vote2, Vote3 — голос судьи (либеральный = 1, консервативный = 0)\n",
    "- Category — категория дела"
   ]
  },
  {
   "cell_type": "markdown",
   "id": "188dcae1-4c3a-4c54-b2cd-83039b16c212",
   "metadata": {},
   "source": [
    "## Задания"
   ]
  },
  {
   "cell_type": "markdown",
   "id": "6012a854",
   "metadata": {},
   "source": [
    "### Какой график лучше всех подойдет для визуализации тренда суммарного количества всех рассмотренных дел за каждый год? \n",
    "Выберите один верный ответ.\n",
    "\n",
    "- [x] Линейный график"
   ]
  },
  {
   "cell_type": "markdown",
   "id": "3b9670ac",
   "metadata": {},
   "source": [
    "### Укажите, верно ли следующее утверждение: для визуализации суммарного количества дел по каждой категории (переменная Category) подойдет столбчатая диаграмма.."
   ]
  },
  {
   "cell_type": "markdown",
   "id": "66f18065",
   "metadata": {},
   "source": [
    "### Выберите только те наблюдения, где все судьи голосовали одинаково. Постройте столбчатую диаграмму для суммарного количества заседаний по каждой категории и определите, каких заседаний и в какой категории дел больше — тех, где судьи голосовали либерально, или тех, где голоса были консервативны. \n",
    "Выберите один верный ответ."
   ]
  },
  {
   "cell_type": "code",
   "execution_count": 18,
   "id": "d4b038cb",
   "metadata": {},
   "outputs": [
    {
     "name": "stderr",
     "output_type": "stream",
     "text": [
      "C:\\Users\\koryagin.an\\AppData\\Local\\Temp\\ipykernel_4932\\4229431725.py:2: SettingWithCopyWarning: \n",
      "A value is trying to be set on a copy of a slice from a DataFrame.\n",
      "Try using .loc[row_indexer,col_indexer] = value instead\n",
      "\n",
      "See the caveats in the documentation: https://pandas.pydata.org/pandas-docs/stable/user_guide/indexing.html#returning-a-view-versus-a-copy\n",
      "  df_f['Votes'] = np.where(df_f[['Vote1', 'Vote2', 'Vote3']].sum(axis=1) == 3, 'Liberal', 'Conserv')\n"
     ]
    }
   ],
   "source": [
    "df_f = tc.loc[tc[['Vote1', 'Vote2', 'Vote3']].sum(axis=1).isin([0, 3])]\n",
    "df_f['Votes'] = np.where(df_f[['Vote1', 'Vote2', 'Vote3']].sum(axis=1) == 3, 'Liberal', 'Conserv')"
   ]
  },
  {
   "cell_type": "code",
   "execution_count": 25,
   "id": "919a98c7",
   "metadata": {},
   "outputs": [
    {
     "data": {
      "image/png": "[encoded data removed]",
      "text/plain": [
       "<Figure size 432x288 with 1 Axes>"
      ]
     },
     "metadata": {
      "needs_background": "light"
     },
     "output_type": "display_data"
    }
   ],
   "source": [
    "ax = sns.barplot(x='Category', y='Issue', hue='Votes', data=df_f, errwidth=0, estimator=np.sum)\n",
    "for i in ax.containers:\n",
    "    ax.bar_label(i,)"
   ]
  },
  {
   "cell_type": "markdown",
   "id": "39fabcd1",
   "metadata": {},
   "source": [
    "- [x] В обеих категориях больше заседаний, где судьи голосовали консервативно.\n",
    "- [ ] В обеих категориях больше заседаний, где судьи голосовали либерально.\n",
    "- [ ] В категории Title VII больше заседаний, где судьи голосовали консервативно, в категории Immigration, наоборот, — либерально.\n",
    "- [ ] В категории Title VII больше заседаний, где судьи голосовали либерально, в категории Immigration, наоборот, — консервативно."
   ]
  },
  {
   "cell_type": "markdown",
   "id": "26bb470d",
   "metadata": {},
   "source": [
    "### Выберите заседания только за 2016 год. Постройте линейный график и определите, в каких месяцах наблюдались пиковые значения по числу заседаний. \n",
    "Будьте внимательны — даты записаны в формате месяц/день/год. Выберите один верный ответ."
   ]
  },
  {
   "cell_type": "code",
   "execution_count": 74,
   "id": "c8570aeb",
   "metadata": {},
   "outputs": [
    {
     "data": {
      "image/png": "[encoded data removed]",
      "text/plain": [
       "<Figure size 720x360 with 1 Axes>"
      ]
     },
     "metadata": {
      "needs_background": "light"
     },
     "output_type": "display_data"
    }
   ],
   "source": [
    "df_2016 = tc.copy()\n",
    "df_2016['Date'] = pd.to_datetime(df_2016['Date'], format='%m/%d/%y')\n",
    "df_2016 = df_2016[df_2016['Date'].dt.year == 2016]\n",
    "\n",
    "fig, ax = plt.subplots(figsize=(10,5))\n",
    "ax.plot(df_2016.groupby(df_2016['Date'].dt.month)['Issue'].sum());"
   ]
  },
  {
   "cell_type": "markdown",
   "id": "7d65176c",
   "metadata": {},
   "source": [
    "- [ ] январь и март\n",
    "- [ ] март и декабрь\n",
    "- [x] январь и апрель\n",
    "- [ ] май и июнь"
   ]
  },
  {
   "cell_type": "markdown",
   "id": "f390e2e6",
   "metadata": {},
   "source": [
    "### Укажите, верно ли следующее утверждение: для переменных, обозначающих число заседаний и их категорию, можно построить интерпретируемую диаграмму рассеяния."
   ]
  },
  {
   "cell_type": "markdown",
   "id": "e3e6af57",
   "metadata": {},
   "source": [
    "### Используя исходные данные, определите среднее число заседаний за каждый сезон (зима, весна, лето, осень). \n",
    "Постройте столбчатую диаграмму, определите месяц с наибольшим показателем. Будьте внимательны — даты записаны в формате месяц/день/год. \n",
    "Введите ответ в виде слова (например, осень)."
   ]
  },
  {
   "cell_type": "code",
   "execution_count": 75,
   "id": "e144ec49",
   "metadata": {},
   "outputs": [],
   "source": [
    "df_seas = tc.copy()"
   ]
  },
  {
   "cell_type": "code",
   "execution_count": 77,
   "id": "1dfe22a5",
   "metadata": {},
   "outputs": [],
   "source": [
    "df_seas['Date'] = pd.to_datetime(df_seas['Date'], format='%m/%d/%y')"
   ]
  },
  {
   "cell_type": "code",
   "execution_count": null,
   "id": "77909ca4",
   "metadata": {},
   "outputs": [],
   "source": []
  },
  {
   "cell_type": "code",
   "execution_count": null,
   "id": "2acd5538",
   "metadata": {},
   "outputs": [],
   "source": [
    "{\n",
    "    1: \"Winter\",\n",
    "    2: \"Winter\",\n",
    "    3: \"Winter\",\n",
    ": \"Winter\",\n",
    "1: \"Winter\",\n",
    "1: \"Winter\",\n",
    "1: \"Winter\",\n",
    "1: \"Winter\",\n",
    "1: \"Winter\",\n",
    "\n",
    "}"
   ]
  },
  {
   "cell_type": "code",
   "execution_count": null,
   "id": "6327289b",
   "metadata": {},
   "outputs": [],
   "source": []
  },
  {
   "cell_type": "code",
   "execution_count": 87,
   "id": "7f9f48b4",
   "metadata": {},
   "outputs": [
    {
     "ename": "UnboundLocalError",
     "evalue": "local variable 's' referenced before assignment",
     "output_type": "error",
     "traceback": [
      "\u001b[1;31m---------------------------------------------------------------------------\u001b[0m",
      "\u001b[1;31mUnboundLocalError\u001b[0m                         Traceback (most recent call last)",
      "\u001b[1;32m~\\AppData\\Local\\Temp\\ipykernel_4932\\3212552234.py\u001b[0m in \u001b[0;36m<cell line: 14>\u001b[1;34m()\u001b[0m\n\u001b[0;32m     12\u001b[0m \u001b[1;33m\u001b[0m\u001b[0m\n\u001b[0;32m     13\u001b[0m \u001b[1;33m\u001b[0m\u001b[0m\n\u001b[1;32m---> 14\u001b[1;33m \u001b[0mdf_seas\u001b[0m \u001b[1;33m=\u001b[0m \u001b[0mdf_seas\u001b[0m\u001b[1;33m.\u001b[0m\u001b[0massign\u001b[0m\u001b[1;33m(\u001b[0m\u001b[0mseason\u001b[0m\u001b[1;33m=\u001b[0m\u001b[0mdf_seas\u001b[0m\u001b[1;33m[\u001b[0m\u001b[1;34m'Date'\u001b[0m\u001b[1;33m]\u001b[0m\u001b[1;33m.\u001b[0m\u001b[0mapply\u001b[0m\u001b[1;33m(\u001b[0m\u001b[0mget_season\u001b[0m\u001b[1;33m)\u001b[0m\u001b[1;33m)\u001b[0m\u001b[1;33m\u001b[0m\u001b[1;33m\u001b[0m\u001b[0m\n\u001b[0m",
      "\u001b[1;32m~\\Anaconda3\\lib\\site-packages\\pandas\\core\\series.py\u001b[0m in \u001b[0;36mapply\u001b[1;34m(self, func, convert_dtype, args, **kwargs)\u001b[0m\n\u001b[0;32m   4431\u001b[0m         \u001b[0mdtype\u001b[0m\u001b[1;33m:\u001b[0m \u001b[0mfloat64\u001b[0m\u001b[1;33m\u001b[0m\u001b[1;33m\u001b[0m\u001b[0m\n\u001b[0;32m   4432\u001b[0m         \"\"\"\n\u001b[1;32m-> 4433\u001b[1;33m         \u001b[1;32mreturn\u001b[0m \u001b[0mSeriesApply\u001b[0m\u001b[1;33m(\u001b[0m\u001b[0mself\u001b[0m\u001b[1;33m,\u001b[0m \u001b[0mfunc\u001b[0m\u001b[1;33m,\u001b[0m \u001b[0mconvert_dtype\u001b[0m\u001b[1;33m,\u001b[0m \u001b[0margs\u001b[0m\u001b[1;33m,\u001b[0m \u001b[0mkwargs\u001b[0m\u001b[1;33m)\u001b[0m\u001b[1;33m.\u001b[0m\u001b[0mapply\u001b[0m\u001b[1;33m(\u001b[0m\u001b[1;33m)\u001b[0m\u001b[1;33m\u001b[0m\u001b[1;33m\u001b[0m\u001b[0m\n\u001b[0m\u001b[0;32m   4434\u001b[0m \u001b[1;33m\u001b[0m\u001b[0m\n\u001b[0;32m   4435\u001b[0m     def _reduce(\n",
      "\u001b[1;32m~\\Anaconda3\\lib\\site-packages\\pandas\\core\\apply.py\u001b[0m in \u001b[0;36mapply\u001b[1;34m(self)\u001b[0m\n\u001b[0;32m   1080\u001b[0m             \u001b[1;32mreturn\u001b[0m \u001b[0mself\u001b[0m\u001b[1;33m.\u001b[0m\u001b[0mapply_str\u001b[0m\u001b[1;33m(\u001b[0m\u001b[1;33m)\u001b[0m\u001b[1;33m\u001b[0m\u001b[1;33m\u001b[0m\u001b[0m\n\u001b[0;32m   1081\u001b[0m \u001b[1;33m\u001b[0m\u001b[0m\n\u001b[1;32m-> 1082\u001b[1;33m         \u001b[1;32mreturn\u001b[0m \u001b[0mself\u001b[0m\u001b[1;33m.\u001b[0m\u001b[0mapply_standard\u001b[0m\u001b[1;33m(\u001b[0m\u001b[1;33m)\u001b[0m\u001b[1;33m\u001b[0m\u001b[1;33m\u001b[0m\u001b[0m\n\u001b[0m\u001b[0;32m   1083\u001b[0m \u001b[1;33m\u001b[0m\u001b[0m\n\u001b[0;32m   1084\u001b[0m     \u001b[1;32mdef\u001b[0m \u001b[0magg\u001b[0m\u001b[1;33m(\u001b[0m\u001b[0mself\u001b[0m\u001b[1;33m)\u001b[0m\u001b[1;33m:\u001b[0m\u001b[1;33m\u001b[0m\u001b[1;33m\u001b[0m\u001b[0m\n",
      "\u001b[1;32m~\\Anaconda3\\lib\\site-packages\\pandas\\core\\apply.py\u001b[0m in \u001b[0;36mapply_standard\u001b[1;34m(self)\u001b[0m\n\u001b[0;32m   1135\u001b[0m                 \u001b[1;31m# List[Union[Callable[..., Any], str]]]]]\"; expected\u001b[0m\u001b[1;33m\u001b[0m\u001b[1;33m\u001b[0m\u001b[0m\n\u001b[0;32m   1136\u001b[0m                 \u001b[1;31m# \"Callable[[Any], Any]\"\u001b[0m\u001b[1;33m\u001b[0m\u001b[1;33m\u001b[0m\u001b[0m\n\u001b[1;32m-> 1137\u001b[1;33m                 mapped = lib.map_infer(\n\u001b[0m\u001b[0;32m   1138\u001b[0m                     \u001b[0mvalues\u001b[0m\u001b[1;33m,\u001b[0m\u001b[1;33m\u001b[0m\u001b[1;33m\u001b[0m\u001b[0m\n\u001b[0;32m   1139\u001b[0m                     \u001b[0mf\u001b[0m\u001b[1;33m,\u001b[0m  \u001b[1;31m# type: ignore[arg-type]\u001b[0m\u001b[1;33m\u001b[0m\u001b[1;33m\u001b[0m\u001b[0m\n",
      "\u001b[1;32m~\\Anaconda3\\lib\\site-packages\\pandas\\_libs\\lib.pyx\u001b[0m in \u001b[0;36mpandas._libs.lib.map_infer\u001b[1;34m()\u001b[0m\n",
      "\u001b[1;32m~\\AppData\\Local\\Temp\\ipykernel_4932\\3212552234.py\u001b[0m in \u001b[0;36mget_season\u001b[1;34m(x)\u001b[0m\n\u001b[0;32m      9\u001b[0m     \u001b[1;32melif\u001b[0m \u001b[0mmonth\u001b[0m \u001b[1;32min\u001b[0m \u001b[1;33m[\u001b[0m\u001b[1;36m10\u001b[0m\u001b[1;33m,\u001b[0m\u001b[1;36m11\u001b[0m\u001b[1;33m,\u001b[0m\u001b[1;36m9\u001b[0m\u001b[1;33m]\u001b[0m\u001b[1;33m:\u001b[0m\u001b[1;33m\u001b[0m\u001b[1;33m\u001b[0m\u001b[0m\n\u001b[0;32m     10\u001b[0m         \u001b[0ms\u001b[0m \u001b[1;33m=\u001b[0m \u001b[1;34m'Autumn'\u001b[0m\u001b[1;33m\u001b[0m\u001b[1;33m\u001b[0m\u001b[0m\n\u001b[1;32m---> 11\u001b[1;33m     \u001b[1;32mreturn\u001b[0m \u001b[0ms\u001b[0m\u001b[1;33m\u001b[0m\u001b[1;33m\u001b[0m\u001b[0m\n\u001b[0m\u001b[0;32m     12\u001b[0m \u001b[1;33m\u001b[0m\u001b[0m\n\u001b[0;32m     13\u001b[0m \u001b[1;33m\u001b[0m\u001b[0m\n",
      "\u001b[1;31mUnboundLocalError\u001b[0m: local variable 's' referenced before assignment"
     ]
    }
   ],
   "source": [
    "def get_season(x):\n",
    "    month = x\n",
    "    if month in [1,2,12]:\n",
    "        s = 'Winter'\n",
    "    elif month in [3,4,5]:\n",
    "        s = 'Spring'\n",
    "    elif month in [6,7,8]:\n",
    "        s = 'Summer'\n",
    "    elif month in [10,11,9]:\n",
    "        s = 'Autumn'\n",
    "    return s\n",
    "\n",
    "\n",
    "df_seas = df_seas.assign(season=df_seas['Date'].apply(get_season))"
   ]
  },
  {
   "cell_type": "code",
   "execution_count": 86,
   "id": "b231328f",
   "metadata": {},
   "outputs": [
    {
     "data": {
      "text/plain": [
       "season  Date\n",
       "Autumn  1       101\n",
       "        2        85\n",
       "        3        79\n",
       "        4        95\n",
       "        5        69\n",
       "        6        81\n",
       "        7        89\n",
       "        8       101\n",
       "        9        63\n",
       "        10       81\n",
       "        11       57\n",
       "        12       90\n",
       "Name: Issue, dtype: int64"
      ]
     },
     "execution_count": 86,
     "metadata": {},
     "output_type": "execute_result"
    }
   ],
   "source": [
    "df_seas.groupby(['season', df_seas['Date'].dt.month])['Issue'].sum()"
   ]
  },
  {
   "cell_type": "code",
   "execution_count": null,
   "id": "03443717",
   "metadata": {},
   "outputs": [],
   "source": []
  },
  {
   "cell_type": "code",
   "execution_count": 84,
   "id": "f593b910",
   "metadata": {},
   "outputs": [
    {
     "data": {
      "text/html": [
       "<div>\n",
       "<style scoped>\n",
       "    .dataframe tbody tr th:only-of-type {\n",
       "        vertical-align: middle;\n",
       "    }\n",
       "\n",
       "    .dataframe tbody tr th {\n",
       "        vertical-align: top;\n",
       "    }\n",
       "\n",
       "    .dataframe thead th {\n",
       "        text-align: right;\n",
       "    }\n",
       "</style>\n",
       "<table border=\"1\" class=\"dataframe\">\n",
       "  <thead>\n",
       "    <tr style=\"text-align: right;\">\n",
       "      <th></th>\n",
       "      <th>Title</th>\n",
       "      <th>Date</th>\n",
       "      <th>Issue</th>\n",
       "      <th>Judge1</th>\n",
       "      <th>Judge2</th>\n",
       "      <th>Judge3</th>\n",
       "      <th>Vote1</th>\n",
       "      <th>Vote2</th>\n",
       "      <th>Vote3</th>\n",
       "      <th>Category</th>\n",
       "      <th>season</th>\n",
       "    </tr>\n",
       "  </thead>\n",
       "  <tbody>\n",
       "    <tr>\n",
       "      <th>0</th>\n",
       "      <td>Hansen v. SkyWest Airlines</td>\n",
       "      <td>2016-12-21</td>\n",
       "      <td>1</td>\n",
       "      <td>Briscoe</td>\n",
       "      <td>McKay</td>\n",
       "      <td>Matheson</td>\n",
       "      <td>1</td>\n",
       "      <td>1</td>\n",
       "      <td>1</td>\n",
       "      <td>Title VII</td>\n",
       "      <td>Autumn</td>\n",
       "    </tr>\n",
       "    <tr>\n",
       "      <th>1</th>\n",
       "      <td>Hansen v. SkyWest Airlines</td>\n",
       "      <td>2016-12-21</td>\n",
       "      <td>2</td>\n",
       "      <td>Briscoe</td>\n",
       "      <td>McKay</td>\n",
       "      <td>Matheson</td>\n",
       "      <td>0</td>\n",
       "      <td>0</td>\n",
       "      <td>0</td>\n",
       "      <td>Title VII</td>\n",
       "      <td>Autumn</td>\n",
       "    </tr>\n",
       "    <tr>\n",
       "      <th>2</th>\n",
       "      <td>Glapion v. Jewell</td>\n",
       "      <td>2016-12-14</td>\n",
       "      <td>1</td>\n",
       "      <td>Lucero</td>\n",
       "      <td>Holmes</td>\n",
       "      <td>Moritz</td>\n",
       "      <td>0</td>\n",
       "      <td>0</td>\n",
       "      <td>0</td>\n",
       "      <td>Title VII</td>\n",
       "      <td>Autumn</td>\n",
       "    </tr>\n",
       "    <tr>\n",
       "      <th>3</th>\n",
       "      <td>Dye v. Moniz</td>\n",
       "      <td>2016-12-06</td>\n",
       "      <td>1</td>\n",
       "      <td>Lucero</td>\n",
       "      <td>Holmes</td>\n",
       "      <td>Moritz</td>\n",
       "      <td>0</td>\n",
       "      <td>0</td>\n",
       "      <td>0</td>\n",
       "      <td>Title VII</td>\n",
       "      <td>Autumn</td>\n",
       "    </tr>\n",
       "    <tr>\n",
       "      <th>4</th>\n",
       "      <td>Lister v. City of Wichita, Kansas</td>\n",
       "      <td>2016-11-15</td>\n",
       "      <td>1</td>\n",
       "      <td>Lucero</td>\n",
       "      <td>Matheson</td>\n",
       "      <td>Bacharach</td>\n",
       "      <td>0</td>\n",
       "      <td>0</td>\n",
       "      <td>0</td>\n",
       "      <td>Title VII</td>\n",
       "      <td>Autumn</td>\n",
       "    </tr>\n",
       "    <tr>\n",
       "      <th>...</th>\n",
       "      <td>...</td>\n",
       "      <td>...</td>\n",
       "      <td>...</td>\n",
       "      <td>...</td>\n",
       "      <td>...</td>\n",
       "      <td>...</td>\n",
       "      <td>...</td>\n",
       "      <td>...</td>\n",
       "      <td>...</td>\n",
       "      <td>...</td>\n",
       "      <td>...</td>\n",
       "    </tr>\n",
       "    <tr>\n",
       "      <th>949</th>\n",
       "      <td>Haimour v. Gonzales</td>\n",
       "      <td>2006-01-31</td>\n",
       "      <td>1</td>\n",
       "      <td>Henry</td>\n",
       "      <td>McKay</td>\n",
       "      <td>Murphy</td>\n",
       "      <td>0</td>\n",
       "      <td>0</td>\n",
       "      <td>0</td>\n",
       "      <td>Immigration</td>\n",
       "      <td>Autumn</td>\n",
       "    </tr>\n",
       "    <tr>\n",
       "      <th>950</th>\n",
       "      <td>Infanzon v. Gonzales</td>\n",
       "      <td>2006-01-24</td>\n",
       "      <td>1</td>\n",
       "      <td>Henry</td>\n",
       "      <td>McKay</td>\n",
       "      <td>Murphy</td>\n",
       "      <td>0</td>\n",
       "      <td>0</td>\n",
       "      <td>0</td>\n",
       "      <td>Immigration</td>\n",
       "      <td>Autumn</td>\n",
       "    </tr>\n",
       "    <tr>\n",
       "      <th>951</th>\n",
       "      <td>Otero v. Gonzales</td>\n",
       "      <td>2006-01-24</td>\n",
       "      <td>1</td>\n",
       "      <td>Tymkovich</td>\n",
       "      <td>Porfilio</td>\n",
       "      <td>Baldock</td>\n",
       "      <td>0</td>\n",
       "      <td>0</td>\n",
       "      <td>0</td>\n",
       "      <td>Immigration</td>\n",
       "      <td>Autumn</td>\n",
       "    </tr>\n",
       "    <tr>\n",
       "      <th>952</th>\n",
       "      <td>Infanzon v. Comfort</td>\n",
       "      <td>2006-01-18</td>\n",
       "      <td>1</td>\n",
       "      <td>Briscoe</td>\n",
       "      <td>Lucero</td>\n",
       "      <td>Murphy</td>\n",
       "      <td>0</td>\n",
       "      <td>0</td>\n",
       "      <td>0</td>\n",
       "      <td>Immigration</td>\n",
       "      <td>Autumn</td>\n",
       "    </tr>\n",
       "    <tr>\n",
       "      <th>953</th>\n",
       "      <td>Wei v. Gonzales</td>\n",
       "      <td>2006-01-09</td>\n",
       "      <td>1</td>\n",
       "      <td>Briscoe</td>\n",
       "      <td>McConnell</td>\n",
       "      <td>Tymkovich</td>\n",
       "      <td>0</td>\n",
       "      <td>0</td>\n",
       "      <td>0</td>\n",
       "      <td>Immigration</td>\n",
       "      <td>Autumn</td>\n",
       "    </tr>\n",
       "  </tbody>\n",
       "</table>\n",
       "<p>954 rows × 11 columns</p>\n",
       "</div>"
      ],
      "text/plain": [
       "                                 Title       Date  Issue     Judge1     Judge2     Judge3  Vote1  Vote2  Vote3     Category  season\n",
       "0           Hansen v. SkyWest Airlines 2016-12-21      1    Briscoe      McKay   Matheson      1      1      1    Title VII  Autumn\n",
       "1           Hansen v. SkyWest Airlines 2016-12-21      2    Briscoe      McKay   Matheson      0      0      0    Title VII  Autumn\n",
       "2                    Glapion v. Jewell 2016-12-14      1     Lucero     Holmes     Moritz      0      0      0    Title VII  Autumn\n",
       "3                         Dye v. Moniz 2016-12-06      1     Lucero     Holmes     Moritz      0      0      0    Title VII  Autumn\n",
       "4    Lister v. City of Wichita, Kansas 2016-11-15      1     Lucero   Matheson  Bacharach      0      0      0    Title VII  Autumn\n",
       "..                                 ...        ...    ...        ...        ...        ...    ...    ...    ...          ...     ...\n",
       "949                Haimour v. Gonzales 2006-01-31      1      Henry      McKay     Murphy      0      0      0  Immigration  Autumn\n",
       "950               Infanzon v. Gonzales 2006-01-24      1      Henry      McKay     Murphy      0      0      0  Immigration  Autumn\n",
       "951                  Otero v. Gonzales 2006-01-24      1  Tymkovich   Porfilio    Baldock      0      0      0  Immigration  Autumn\n",
       "952                Infanzon v. Comfort 2006-01-18      1    Briscoe     Lucero     Murphy      0      0      0  Immigration  Autumn\n",
       "953                    Wei v. Gonzales 2006-01-09      1    Briscoe  McConnell  Tymkovich      0      0      0  Immigration  Autumn\n",
       "\n",
       "[954 rows x 11 columns]"
      ]
     },
     "execution_count": 84,
     "metadata": {},
     "output_type": "execute_result"
    }
   ],
   "source": [
    "fig, ax = plt.subplots(figsize=(10,6))  # указываем размер графика\n",
    "ax.bar(x=month_weather.index, height=month_weather, color='orange');"
   ]
  },
  {
   "cell_type": "code",
   "execution_count": null,
   "id": "cceb66d5",
   "metadata": {},
   "outputs": [],
   "source": [
    "fig, ax = plt.subplots(figsize=(20,5))\n",
    "\n",
    "ax.bar(df_seas.loc['Autumn'], color='orange')\n",
    "ax.bar(df_seas.loc['Winter'], color='blue')\n",
    "ax.bat(df_seas.loc['Spring'], color='green')\n",
    "ax.bar(df_seas.loc['Summer'], color='red')\n",
    "ax.legend(['Autumn', 'Winter', 'Spring', 'Summer'], frameon=False)\n",
    "plt.show()"
   ]
  }
 ],
 "metadata": {
  "hide_input": false,
  "kernelspec": {
   "display_name": "Python 3 (ipykernel)",
   "language": "python",
   "name": "python3"
  },
  "language_info": {
   "codemirror_mode": {
    "name": "ipython",
    "version": 3
   },
   "file_extension": ".py",
   "mimetype": "text/x-python",
   "name": "python",
   "nbconvert_exporter": "python",
   "pygments_lexer": "ipython3",
   "version": "3.9.7"
  },
  "toc": {
   "base_numbering": 1,
   "nav_menu": {},
   "number_sections": true,
   "sideBar": true,
   "skip_h1_title": false,
   "title_cell": "Table of Contents",
   "title_sidebar": "Contents",
   "toc_cell": false,
   "toc_position": {
    "height": "calc(100% - 180px)",
    "left": "10px",
    "top": "150px",
    "width": "225px"
   },
   "toc_section_display": true,
   "toc_window_display": true
  },
  "varInspector": {
   "cols": {
    "lenName": 16,
    "lenType": 16,
    "lenVar": 40
   },
   "kernels_config": {
    "python": {
     "delete_cmd_postfix": "",
     "delete_cmd_prefix": "del ",
     "library": "var_list.py",
     "varRefreshCmd": "print(var_dic_list())"
    },
    "r": {
     "delete_cmd_postfix": ") ",
     "delete_cmd_prefix": "rm(",
     "library": "var_list.r",
     "varRefreshCmd": "cat(var_dic_list()) "
    }
   },
   "types_to_exclude": [
    "module",
    "function",
    "builtin_function_or_method",
    "instance",
    "_Feature"
   ],
   "window_display": false
  }
 },
 "nbformat": 4,
 "nbformat_minor": 5
}
